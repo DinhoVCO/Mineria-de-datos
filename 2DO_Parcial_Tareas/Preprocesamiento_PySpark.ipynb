{
  "nbformat": 4,
  "nbformat_minor": 0,
  "metadata": {
    "colab": {
      "name": "Preprocesamiento_PySpark.ipynb",
      "provenance": [],
      "collapsed_sections": []
    },
    "kernelspec": {
      "name": "python3",
      "display_name": "Python 3"
    },
    "language_info": {
      "name": "python"
    }
  },
  "cells": [
    {
      "cell_type": "markdown",
      "source": [
        "**UNIVERSIDAD NACIONAL DE SAN ANTONIO ABAD DEL CUSCO**\n",
        "> **CURSO:** Minería de datos\n",
        "\n",
        "> **ALUMNO:**Vega Centeno Olivera, Ronaldinho"
      ],
      "metadata": {
        "id": "T8EpL6r5GxHj"
      }
    },
    {
      "cell_type": "markdown",
      "source": [
        "# **5 Ejercicios de preprocesamiento**\n",
        "Implementar 5 algoritmos a su elección de las diapositivas de pre-procesamiento en un notebook Spark."
      ],
      "metadata": {
        "id": "kLonISiDHVaH"
      }
    },
    {
      "cell_type": "markdown",
      "source": [
        "## **Instalar bibliotecas**"
      ],
      "metadata": {
        "id": "hSn_RSY9HgY5"
      }
    },
    {
      "cell_type": "code",
      "execution_count": 1,
      "metadata": {
        "colab": {
          "base_uri": "https://localhost:8080/"
        },
        "id": "OJHlNM6K4Fge",
        "outputId": "eb436e66-140d-404c-c02d-b3e4d0644c01"
      },
      "outputs": [
        {
          "output_type": "stream",
          "name": "stdout",
          "text": [
            "Collecting pyspark\n",
            "  Downloading pyspark-3.2.0.tar.gz (281.3 MB)\n",
            "\u001b[K     |████████████████████████████████| 281.3 MB 34 kB/s \n",
            "\u001b[?25hCollecting py4j==0.10.9.2\n",
            "  Downloading py4j-0.10.9.2-py2.py3-none-any.whl (198 kB)\n",
            "\u001b[K     |████████████████████████████████| 198 kB 49.5 MB/s \n",
            "\u001b[?25hBuilding wheels for collected packages: pyspark\n",
            "  Building wheel for pyspark (setup.py) ... \u001b[?25l\u001b[?25hdone\n",
            "  Created wheel for pyspark: filename=pyspark-3.2.0-py2.py3-none-any.whl size=281805912 sha256=5917d48be16f17c40886c417afad01b4623f4905c7253ed6bbed567112cb75f7\n",
            "  Stored in directory: /root/.cache/pip/wheels/0b/de/d2/9be5d59d7331c6c2a7c1b6d1a4f463ce107332b1ecd4e80718\n",
            "Successfully built pyspark\n",
            "Installing collected packages: py4j, pyspark\n",
            "Successfully installed py4j-0.10.9.2 pyspark-3.2.0\n"
          ]
        }
      ],
      "source": [
        "!pip install pyspark"
      ]
    },
    {
      "cell_type": "markdown",
      "source": [
        "## **Conexion a cluster Spark (SparkContext)**"
      ],
      "metadata": {
        "id": "SoNz6Dm-Hw52"
      }
    },
    {
      "cell_type": "code",
      "source": [
        "from pyspark import SparkContext\n",
        "sc =SparkContext() #Permite la creación y manipulación de RDDs"
      ],
      "metadata": {
        "id": "H_2A9Wgs4mYQ"
      },
      "execution_count": 4,
      "outputs": []
    },
    {
      "cell_type": "markdown",
      "source": [
        "## **1.Distancia de Minkowski con Spark**"
      ],
      "metadata": {
        "id": "NjAUwvBCIJRi"
      }
    },
    {
      "cell_type": "code",
      "source": [
        "def subtraction_p(tupla,p):\n",
        "  \"\"\"\n",
        "    Calcula |xi-yi|^p\n",
        "  \"\"\"\n",
        "  return abs(tupla[0]-tupla[1])**p"
      ],
      "metadata": {
        "id": "5XgSDsntBwW7"
      },
      "execution_count": 48,
      "outputs": []
    },
    {
      "cell_type": "code",
      "source": [
        "def distanceMinkowskiSpark(v1,v2,p,paticiones=4):\n",
        "  \"\"\"\n",
        "  Calcula la distancia de Minkowski\n",
        "\n",
        "  Parameters\n",
        "  =========\n",
        "    `v1, v2 :` vectores numericos \n",
        "          ej -> [1,7,8,9,2,15,14,6]\n",
        "    `particiones :` valor numerico entero  \n",
        "          ej -> 4\n",
        "\n",
        "  Returns\n",
        "  =========\n",
        "    `distance :` valor numerico float\n",
        "          ej -> 0.8\n",
        "\n",
        "  \"\"\"\n",
        "  v3=list(zip( v1, v2))    #Creamos tuplas para cada i de los vectores (v1,v2)\n",
        "  coordenadasRDD=sc.parallelize(v3,paticiones)  #Creamos el RDD\n",
        "  #Calculamos todos los |xi-yi|^p\n",
        "  subtraction_p_RDD=coordenadasRDD.map(lambda x: subtraction_p(x,p))\n",
        "  sumRDD=subtraction_p_RDD.sum()                #calculamos la sumatoria\n",
        "  distance=sumRDD**(1/p)                        #calculamos la raiz\n",
        "  return distance"
      ],
      "metadata": {
        "id": "QKwSIbvwAkqA"
      },
      "execution_count": 51,
      "outputs": []
    },
    {
      "cell_type": "markdown",
      "source": [
        "### **1.1. Ejemplos**"
      ],
      "metadata": {
        "id": "GGh3bbYpIi5E"
      }
    },
    {
      "cell_type": "code",
      "source": [
        "v1=list(range(1,5))\n",
        "v2=list(range(4,8))\n",
        "p=2\n",
        "# Usando Spark \n",
        "print(\"La distancia de minkowski usando SPARK ES :\", distanceMinkowskiSpark(v1,v2,p))\n",
        "# Usando la libreria Scipy\n",
        "from scipy import spatial\n",
        "d=spatial.distance.minkowski(v1, v2, p=p, w=None)\n",
        "print(\"La distancia de minkowski usando scipy ES :\", d)\n"
      ],
      "metadata": {
        "colab": {
          "base_uri": "https://localhost:8080/"
        },
        "id": "JgMjKeTD_i6K",
        "outputId": "685a0d47-fb68-482a-b448-6a9cf923e2bc"
      },
      "execution_count": 52,
      "outputs": [
        {
          "output_type": "stream",
          "name": "stdout",
          "text": [
            "La distancia de minkowski usando SPARK ES : 6.0\n",
            "La distancia de minkowski usando scipy ES : 6.0\n"
          ]
        }
      ]
    },
    {
      "cell_type": "markdown",
      "source": [
        "## **2.Similitud de cosenos con Spark**"
      ],
      "metadata": {
        "id": "hl0f0cPzJGQT"
      }
    },
    {
      "cell_type": "code",
      "source": [
        "def internalProduct(tupla):\n",
        "  \"\"\"\n",
        "    Calcula el producto\n",
        "  \"\"\"\n",
        "  return tupla[0]*tupla[1]"
      ],
      "metadata": {
        "id": "pebjcUzwC6u-"
      },
      "execution_count": 37,
      "outputs": []
    },
    {
      "cell_type": "code",
      "source": [
        "def cosineSimilarity(v1,v2, particiones=4):\n",
        "  \"\"\"\n",
        "    Calcula la similitud de cosenos entre 2 vectores\n",
        "\n",
        "    Parameters\n",
        "  =========\n",
        "    `v1, v2 :` vectores numerico  \n",
        "          ej -> [1,7,8,9,2,15,14,6]\n",
        "    `particiones :` valor numerico entero  \n",
        "          ej -> 4\n",
        "\n",
        "  Returns\n",
        "  =========\n",
        "    `Similarity :` valor numerico float\n",
        "          ej -> 0.8\n",
        "\n",
        "  \"\"\"\n",
        "  #Creamos tuplas para cada i de los vectores (v1,v2)\n",
        "  v3=list(zip( v1, v2))\n",
        "  #creamos los RDD\n",
        "  RDD_1=sc.parallelize(v1,particiones)\n",
        "  RDD_2=sc.parallelize(v2,particiones)\n",
        "  RDD_3=sc.parallelize(v3,particiones)\n",
        "  #calculamos el producto interno\n",
        "  sumInternalProductRDD=RDD_3.map(lambda x: internalProduct(x)).sum()\n",
        "  #Calculamos la norma de v1\n",
        "  normV1RDD= RDD_1.map(lambda x:x**2).sum()\n",
        "  #Calculamos la norma de v2\n",
        "  normV2RDD= RDD_2.map(lambda x:x**2).sum()\n",
        "  #calculo final\n",
        "  Similarity=(sumInternalProductRDD) / ( normV1RDD**(1/2) * normV2RDD**(1/2) )\n",
        "  return Similarity"
      ],
      "metadata": {
        "id": "pvWrxBtnEefW"
      },
      "execution_count": 43,
      "outputs": []
    },
    {
      "cell_type": "markdown",
      "source": [
        "### **2.1. Ejemplos**"
      ],
      "metadata": {
        "id": "dId41suOJbuf"
      }
    },
    {
      "cell_type": "code",
      "source": [
        "v1=list(range(1,5))\n",
        "v2=list(range(4,8))\n",
        "# Usando Spark \n",
        "print(\"La similitud de cosenos usando SPARK ES :\", cosineSimilarity(v1,v2))\n",
        "# Usando la libreria Scipy\n",
        "from scipy import spatial\n",
        "result = 1 - spatial.distance.cosine(v1, v2)\n",
        "print(\"La similitud de cosenos usando scipy ES :\", result)"
      ],
      "metadata": {
        "colab": {
          "base_uri": "https://localhost:8080/"
        },
        "id": "TG32xY1-KDOX",
        "outputId": "0ca5e877-bf51-485b-cd84-010928753556"
      },
      "execution_count": 44,
      "outputs": [
        {
          "output_type": "stream",
          "name": "stdout",
          "text": [
            "La similitud de cosenos usando SPARK ES : 0.9759000729485332\n",
            "La similitud de cosenos usando scipy ES : 0.9759000729485332\n"
          ]
        }
      ]
    },
    {
      "cell_type": "markdown",
      "source": [
        "## **3.Normalización**"
      ],
      "metadata": {
        "id": "EqlHons4mni2"
      }
    },
    {
      "cell_type": "code",
      "source": [
        "def normalize(vector, particiones=4):\n",
        "  \"\"\"\n",
        "  Normaliza un Vector\n",
        "\n",
        "  Parameters\n",
        "  =========\n",
        "    `vector :` vector numerico  \n",
        "          ej -> [1,7,8,9,2,15,14,6]\n",
        "    `particiones :` valor numerico entero  \n",
        "          ej -> 4\n",
        "\n",
        "  Returns\n",
        "  =========\n",
        "    `vector_normalizado :` vector numerico float\n",
        "          ej -> [0.8, 0.6]\n",
        "\n",
        "  \"\"\"\n",
        "  #creamos el RDD\n",
        "  vectorRDD=sc.parallelize(vector,particiones)\n",
        "  #calculamos el módulo del vector\n",
        "  moduloVectorRDD= (vectorRDD.map(lambda x:x**2).sum())**(1/2)\n",
        "  #normalizamos\n",
        "  normalizeRDD=vectorRDD.map(lambda x : x/moduloVectorRDD )\n",
        "  vector_normalizado=normalizeRDD.collect()\n",
        "  return vector_normalizado"
      ],
      "metadata": {
        "id": "b2r6H1RZmlwb"
      },
      "execution_count": 40,
      "outputs": []
    },
    {
      "cell_type": "markdown",
      "source": [
        "### **3.1.Ejemplo**"
      ],
      "metadata": {
        "id": "1xrO0bhQxkrQ"
      }
    },
    {
      "cell_type": "code",
      "source": [
        "v1=range(1,5)\n",
        "normalize(v1)"
      ],
      "metadata": {
        "colab": {
          "base_uri": "https://localhost:8080/"
        },
        "id": "V-fYhZTBoI0I",
        "outputId": "dda15910-fe82-4023-fc1a-62b4262d4eda"
      },
      "execution_count": 45,
      "outputs": [
        {
          "output_type": "execute_result",
          "data": {
            "text/plain": [
              "[0.18257418583505536,\n",
              " 0.3651483716701107,\n",
              " 0.5477225575051661,\n",
              " 0.7302967433402214]"
            ]
          },
          "metadata": {},
          "execution_count": 45
        }
      ]
    },
    {
      "cell_type": "markdown",
      "source": [
        "## **4.Escalonamiento**"
      ],
      "metadata": {
        "id": "rA4-TY8grct8"
      }
    },
    {
      "cell_type": "code",
      "source": [
        "def escalonamiento(vector, particiones=4):\n",
        "  \"\"\"\n",
        "  Escalomaniento de un Vector\n",
        "\n",
        "  Parameters\n",
        "  =========\n",
        "    `vector :` vector numerico  \n",
        "          ej -> [1,7,8,9,2,15,14,6]\n",
        "    `particiones :` valor numerico entero  \n",
        "          ej -> 4\n",
        "\n",
        "  Returns\n",
        "  =========\n",
        "    `vectorEscalonado :` vector numerico del tipo float\n",
        "          ej -> [-1.0 , 0.4]\n",
        "\n",
        "  \"\"\"\n",
        "  vectorRDD=sc.parallelize(vector,particiones)  #creamos el RDD\n",
        "  minVector=vectorRDD.min()                     #hallamos el valor minimo\n",
        "  maxVector=vectorRDD.max()                     #hallamos el valor máximo\n",
        "  diferencia=maxVector-minVector                # calculamos la diferencia entre el max y min\n",
        "  escalomaniemtoRDD= vectorRDD.map(lambda x : (x - maxVector)/ diferencia )\n",
        "  vectorEscalonado=escalomaniemtoRDD.collect()  #recuperamos los valores\n",
        "  return vectorEscalonado "
      ],
      "metadata": {
        "id": "tBGqLCZgrnwr"
      },
      "execution_count": 21,
      "outputs": []
    },
    {
      "cell_type": "markdown",
      "source": [
        "### **4.1.Ejemplo**"
      ],
      "metadata": {
        "id": "YhlH7nTWxz7e"
      }
    },
    {
      "cell_type": "code",
      "source": [
        "v1 = range(1,5)\n",
        "escalonamiento(v1,4)"
      ],
      "metadata": {
        "colab": {
          "base_uri": "https://localhost:8080/"
        },
        "id": "cBuwGrZXtegX",
        "outputId": "ffa86e50-1004-452b-ab79-50e195cd8678"
      },
      "execution_count": 46,
      "outputs": [
        {
          "output_type": "execute_result",
          "data": {
            "text/plain": [
              "[-1.0, -0.6666666666666666, -0.3333333333333333, 0.0]"
            ]
          },
          "metadata": {},
          "execution_count": 46
        }
      ]
    },
    {
      "cell_type": "markdown",
      "source": [
        "## **5.Estandarización**\n"
      ],
      "metadata": {
        "id": "IjJwLgIruZrh"
      }
    },
    {
      "cell_type": "code",
      "source": [
        "def estandarizar(vector, particiones=4):\n",
        "  \"\"\"\n",
        "  Estandarizacion de un Vector\n",
        "\n",
        "  Parameters\n",
        "  =========\n",
        "    `vector :` vector numerico  \n",
        "          ej -> [1,7,8,9,2,15,14,6]\n",
        "    `particiones :` valor numerico entero  \n",
        "          ej -> 4\n",
        "\n",
        "  Returns\n",
        "  =========\n",
        "    `vectorEstandarizado :` vector numerico del tipo float\n",
        "          ej -> [-1.0 , 0.4]\n",
        "\n",
        "  \"\"\"\n",
        "  vectorRDD=sc.parallelize(vector,particiones)  #creamos el RDD\n",
        "  meanVector=vectorRDD.mean()                   #hallamos la media del vector\n",
        "  dsVector=vectorRDD.stdev()                   #hallamos la desviacion estandar\n",
        "  estandarizacionRDD= vectorRDD.map(lambda x : (x - meanVector)/ dsVector )\n",
        "  vectorEstandarizado=estandarizacionRDD.collect()  #recuperamos los valores\n",
        "  return vectorEstandarizado "
      ],
      "metadata": {
        "id": "NrIbGEC2ungx"
      },
      "execution_count": 26,
      "outputs": []
    },
    {
      "cell_type": "markdown",
      "source": [
        "### **5.1.Ejemplo**"
      ],
      "metadata": {
        "id": "3B3gg9qoyBsL"
      }
    },
    {
      "cell_type": "code",
      "source": [
        "v1 = range(1,5)\n",
        "estandarizar(v1,4)"
      ],
      "metadata": {
        "colab": {
          "base_uri": "https://localhost:8080/"
        },
        "id": "OxKlhs8uvpzx",
        "outputId": "7d50cf92-b49b-4f64-886e-b8393aaae6bd"
      },
      "execution_count": 47,
      "outputs": [
        {
          "output_type": "execute_result",
          "data": {
            "text/plain": [
              "[-1.3416407864998738,\n",
              " -0.4472135954999579,\n",
              " 0.4472135954999579,\n",
              " 1.3416407864998738]"
            ]
          },
          "metadata": {},
          "execution_count": 47
        }
      ]
    }
  ]
}