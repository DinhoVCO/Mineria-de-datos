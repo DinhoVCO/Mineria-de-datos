{
  "nbformat": 4,
  "nbformat_minor": 0,
  "metadata": {
    "colab": {
      "name": "BoW_PySpark_Ronaldinho.ipynb",
      "provenance": [],
      "collapsed_sections": []
    },
    "kernelspec": {
      "name": "python3",
      "display_name": "Python 3"
    },
    "language_info": {
      "name": "python"
    }
  },
  "cells": [
    {
      "cell_type": "markdown",
      "source": [
        "**UNIVERSIDAD NACIONAL DE SAN ANTONIO ABAD DEL CUSCO**\n",
        "> **CURSO:** Minería de datos\n",
        "\n",
        "> **ALUMNO:**Vega Centeno Olivera, Ronaldinho"
      ],
      "metadata": {
        "id": "T8EpL6r5GxHj"
      }
    },
    {
      "cell_type": "markdown",
      "source": [
        "## **1.Instalar bibliotecas**"
      ],
      "metadata": {
        "id": "hSn_RSY9HgY5"
      }
    },
    {
      "cell_type": "code",
      "execution_count": 1,
      "metadata": {
        "colab": {
          "base_uri": "https://localhost:8080/"
        },
        "id": "OJHlNM6K4Fge",
        "outputId": "d983be63-62fb-4cad-d2fb-299493e0689e"
      },
      "outputs": [
        {
          "output_type": "stream",
          "name": "stdout",
          "text": [
            "Collecting pyspark\n",
            "  Downloading pyspark-3.2.0.tar.gz (281.3 MB)\n",
            "\u001b[K     |████████████████████████████████| 281.3 MB 40 kB/s \n",
            "\u001b[?25hCollecting py4j==0.10.9.2\n",
            "  Downloading py4j-0.10.9.2-py2.py3-none-any.whl (198 kB)\n",
            "\u001b[K     |████████████████████████████████| 198 kB 52.1 MB/s \n",
            "\u001b[?25hBuilding wheels for collected packages: pyspark\n",
            "  Building wheel for pyspark (setup.py) ... \u001b[?25l\u001b[?25hdone\n",
            "  Created wheel for pyspark: filename=pyspark-3.2.0-py2.py3-none-any.whl size=281805912 sha256=ecbc7732e20c95a5117cfef7bd64dc98d4b3c38e2f23f5f74340ffa84ea9cd4a\n",
            "  Stored in directory: /root/.cache/pip/wheels/0b/de/d2/9be5d59d7331c6c2a7c1b6d1a4f463ce107332b1ecd4e80718\n",
            "Successfully built pyspark\n",
            "Installing collected packages: py4j, pyspark\n",
            "Successfully installed py4j-0.10.9.2 pyspark-3.2.0\n"
          ]
        }
      ],
      "source": [
        "!pip install pyspark"
      ]
    },
    {
      "cell_type": "markdown",
      "source": [
        "## **2.Conexion a cluster Spark (SparkContext)**"
      ],
      "metadata": {
        "id": "SoNz6Dm-Hw52"
      }
    },
    {
      "cell_type": "code",
      "source": [
        "from pyspark import SparkContext\n",
        "sc =SparkContext() #Permite la creación y manipulación de RDDs"
      ],
      "metadata": {
        "id": "H_2A9Wgs4mYQ"
      },
      "execution_count": 2,
      "outputs": []
    },
    {
      "cell_type": "markdown",
      "source": [
        "## **3.Bag of words**"
      ],
      "metadata": {
        "id": "ZrUzKteN2DiV"
      }
    },
    {
      "cell_type": "code",
      "source": [
        "def preprocesar(textRDD):\n",
        "  \"\"\"\n",
        "    Modulo para eliminar lineas en blanco, o doc en blanco y \n",
        "    dar estructura a la data\n",
        "\n",
        "  Parameters\n",
        "  =========\n",
        "    `textRDD :` RDD con los documentos\n",
        "          ej -> [ 'founder attack boss ridiculous comment ad',\n",
        "                  'evidence factcheckthis',\n",
        "                  'educate']\n",
        "  Returns\n",
        "  =========\n",
        "    `tupleData :` lista de tuplas (idDoc, Doc)\n",
        "          ej ->[(5, 'founder attack boss ridiculous comment ad'),\n",
        "                (6, 'evidence factcheckthis'),\n",
        "                (7, 'educate')]\n",
        "\n",
        "  \"\"\"\n",
        "  #Eliminar lineas vacias\n",
        "  textRDD=textRDD.filter(lambda x : x is not '')\n",
        "  #Crear tuplas para dar forma a la data\n",
        "  tupleData = []\n",
        "  i=1\n",
        "  for line in textRDD.collect():\n",
        "    tupla=(i,line)\n",
        "    tupleData.append(tupla)\n",
        "    i+=1\n",
        "  return tupleData"
      ],
      "metadata": {
        "id": "9OQSL7o2QBLu"
      },
      "execution_count": 129,
      "outputs": []
    },
    {
      "cell_type": "code",
      "source": [
        "def bow(data1,particiones=4):\n",
        "  \"\"\"\n",
        "    a. tokenizamos \n",
        "    b. uniformizamos, convertimos a minusculas\n",
        "    c. agregamos un valor a cada tupla : Ej. -> ((1,'hola'),1)\n",
        "\n",
        "  Parameters\n",
        "  =========\n",
        "    `data1 :` lista de tuplas (id, Doc)\n",
        "          ej -> [(5, 'founder attack boss ridiculous comment ad'),\n",
        "                (6, 'evidence factcheckthis'),\n",
        "                (7, 'educate')]\n",
        "  Returns\n",
        "  =========\n",
        "    `parTokenRDD :` lista de tuplas de tuplas ((idDoc, token), 1)\n",
        "          ej ->[((1, 'protester'), 1),\n",
        "                ((1, 'stage'), 1),\n",
        "                ((1, 'diein'), 1)]\n",
        "\n",
        "  \"\"\"\n",
        "  #Creamos el RDD\n",
        "  linesRDD=sc.parallelize(data1,particiones)\n",
        "  parTokenRDD=linesRDD.flatMap(lambda x: [((x[0],i.lower()),1) for i in x[1].split()])\n",
        "  return parTokenRDD\n"
      ],
      "metadata": {
        "id": "wpG8Ebyw2ILh"
      },
      "execution_count": 130,
      "outputs": []
    },
    {
      "cell_type": "code",
      "source": [
        "#Crear el RDD leyendo el archivo .txt\n",
        "textRDD=sc.textFile('twitts.txt',4)\n",
        "datos=preprocesar(textRDD)\n",
        "datos\n",
        "BoW=bow(datos)\n",
        "BoW.take(20)"
      ],
      "metadata": {
        "colab": {
          "base_uri": "https://localhost:8080/"
        },
        "id": "GKLCQttS655j",
        "outputId": "787524cd-5fec-4693-f287-2f2e81208f88"
      },
      "execution_count": 131,
      "outputs": [
        {
          "output_type": "execute_result",
          "data": {
            "text/plain": [
              "[((1, 'protester'), 1),\n",
              " ((1, 'stage'), 1),\n",
              " ((1, 'diein'), 1),\n",
              " ((1, 'protest'), 1),\n",
              " ((1, 'store'), 1),\n",
              " ((1, 'nyc'), 1),\n",
              " ((1, 'anger'), 1),\n",
              " ((1, 'misplace'), 1),\n",
              " ((1, 'retweet'), 1),\n",
              " ((1, 'agree'), 1),\n",
              " ((2, 'apple'), 1),\n",
              " ((2, 'intraday'), 1),\n",
              " ((2, 'comment'), 1),\n",
              " ((2, 'update'), 1),\n",
              " ((2, 'range'), 1),\n",
              " ((2, 'premium'), 1),\n",
              " ((2, 'user'), 1),\n",
              " ((2, 'aapl'), 1),\n",
              " ((2, 'stockaction'), 1),\n",
              " ((2, 'trading'), 1)]"
            ]
          },
          "metadata": {},
          "execution_count": 131
        }
      ]
    },
    {
      "cell_type": "markdown",
      "source": [
        "## **3.TF**"
      ],
      "metadata": {
        "id": "NjAUwvBCIJRi"
      }
    },
    {
      "cell_type": "code",
      "source": [
        "def frecuencias(bagOfWordsRDD):\n",
        "  \"\"\"\n",
        "  Calcula la frecuencia de cada termino\n",
        "\n",
        "  Parameters\n",
        "  =========\n",
        "    `bagOfWordsRDD :` lista de tuplas de tuplas ((idDoc, token),1)\n",
        "          ej ->[((1, 'protester'), 1),\n",
        "                ((1, 'stage'), 1),\n",
        "                ((1, 'diein'), 1)]\n",
        "  Returns\n",
        "  =========\n",
        "    `frecPerDocumentRDD :`  lista de tuplas de tuplas ((idDoc, token),frecuencia)\n",
        "          ej ->[((1, 'protester'), 1),\n",
        "                ((1, 'stage'), 1),\n",
        "                ((1, 'diein'), 1)]\n",
        "\n",
        "  \"\"\"\n",
        "  #obtenemos la frecuencia de cada palabra por documento\n",
        "  frecPerDocumentRDD=bagOfWordsRDD.reduceByKey(lambda x,y:x+y)\n",
        "  return frecPerDocumentRDD"
      ],
      "metadata": {
        "id": "3mdN8WU9i5u3"
      },
      "execution_count": 132,
      "outputs": []
    },
    {
      "cell_type": "code",
      "source": [
        "def TF(bagOfWordsRDD):\n",
        "  \"\"\"\n",
        "  Calcula la frecuencia de cada termino\n",
        "\n",
        "  Parameters\n",
        "  =========\n",
        "    `bagOfWordsRDD :` lista de tuplas de tuplas ((idDoc, token),1)\n",
        "          ej ->[((1, 'protester'), 1),\n",
        "                ((1, 'stage'), 1),\n",
        "                ((1, 'diein'), 1)]\n",
        "  Returns\n",
        "  =========\n",
        "    `tfRDD :`  lista de tuplas de tuplas ('token', ('id',frecuencia))\n",
        "          ej -> [ ('protester', (1, 1)),\n",
        "                  ('diein', (1, 1)),\n",
        "                  ('agree', (1, 1)) ]\n",
        "\n",
        "  \"\"\"\n",
        "  frecuenciasRDD=frecuencias(bagOfWordsRDD)\n",
        "  # Mapear el RDD para obetener ('token', ('id',frecuencia))\n",
        "  tfRDD=frecuenciasRDD.map(lambda x: (x[0][1],(x[0][0],x[1])))\n",
        "  return tfRDD"
      ],
      "metadata": {
        "id": "qCUNeGrflvYG"
      },
      "execution_count": 133,
      "outputs": []
    },
    {
      "cell_type": "code",
      "source": [
        "#Crear el RDD leyendo el archivo .txt\n",
        "textRDD=sc.textFile('twitts.txt',4)\n",
        "datos=preprocesar(textRDD)\n",
        "BoW=bow(datos)\n",
        "tf=TF(BoW)\n",
        "tf.take(20)"
      ],
      "metadata": {
        "colab": {
          "base_uri": "https://localhost:8080/"
        },
        "id": "Qmzd3bjyBV7g",
        "outputId": "dffddae3-f241-4864-c0f6-ecf544658b1e"
      },
      "execution_count": 134,
      "outputs": [
        {
          "output_type": "execute_result",
          "data": {
            "text/plain": [
              "[('protester', (1, 1)),\n",
              " ('diein', (1, 1)),\n",
              " ('aapl', (2, 1)),\n",
              " ('stockaction', (2, 1)),\n",
              " ('iphone', (3, 1)),\n",
              " ('shit', (4, 1)),\n",
              " ('ridiculous', (5, 1)),\n",
              " ('suicide', (8, 1)),\n",
              " ('turkey', (8, 1)),\n",
              " ('ipod', (9, 1)),\n",
              " ('aapl', (10, 1)),\n",
              " ('stockaction', (10, 1)),\n",
              " ('computer', (11, 1)),\n",
              " ('future', (11, 1)),\n",
              " ('dear', (13, 1)),\n",
              " ('plus', (13, 1)),\n",
              " ('lot', (13, 1)),\n",
              " ('great', (13, 1)),\n",
              " ('achievement', (13, 1)),\n",
              " ('fail', (13, 1))]"
            ]
          },
          "metadata": {},
          "execution_count": 134
        }
      ]
    },
    {
      "cell_type": "markdown",
      "source": [
        "## **4.IDF**"
      ],
      "metadata": {
        "id": "hl0f0cPzJGQT"
      }
    },
    {
      "cell_type": "code",
      "source": [
        "import math\n",
        "from pyspark.sql.functions import *"
      ],
      "metadata": {
        "id": "WBZpi7I4oPkL"
      },
      "execution_count": 135,
      "outputs": []
    },
    {
      "cell_type": "code",
      "source": [
        "def IDF(bagOfWordsRDD,cantidadDoc):\n",
        "  \"\"\"\n",
        "  Calcula Inverse document frequency\n",
        "  \n",
        "  Parameters\n",
        "  =========\n",
        "    `bagOfWordsRDD :` lista de tuplas de tuplas ((idDoc, token),1)\n",
        "          ej ->[((1, 'protester'), 1),\n",
        "                ((1, 'stage'), 1),\n",
        "                ((1, 'diein'), 1)]\n",
        "    \n",
        "    `cantidadDoc :` cantidad de documentos (int)\n",
        "          ej -> 2857\n",
        "    \n",
        "  Returns\n",
        "  =========\n",
        "    `idfRDD :`  lista de tuplas ('token', idf(float))\n",
        "          ej ->[('update', 1.3937460844372076),\n",
        "                ('aapl', 0.5944950710074257),\n",
        "                ('stockaction', 2.0249643045063834)]\n",
        "\n",
        "  \"\"\"\n",
        "  frecuenciasRDD=frecuencias(bagOfWordsRDD)\n",
        "  # Mapeamos para colocar cada token como valor clave. Ej. -> ('token',('id',frecuencia,1))\n",
        "  tokenRDD=frecuenciasRDD.map(lambda x: (x[0][1],(x[0][0],x[1],1)))\n",
        "  # Extraemos el token y su ocurrencia por documento\n",
        "  tokenOcurrenciaDocRDD=tokenRDD.map(lambda x:(x[0],x[1][2]))\n",
        "  # contamos la contidad de documentos que contienen un token\n",
        "  docPerTokenRDD=tokenOcurrenciaDocRDD.reduceByKey(lambda x,y:x+y)\n",
        "  #calculamos el logaritmo para el IDF\n",
        "  idfRDD=docPerTokenRDD.map(lambda x: (x[0],math.log10(cantidadDoc/x[1])))\n",
        "  return idfRDD"
      ],
      "metadata": {
        "id": "IggXzm3ulX1B"
      },
      "execution_count": 136,
      "outputs": []
    },
    {
      "cell_type": "code",
      "source": [
        "#Crear el RDD leyendo el archivo .txt\n",
        "textRDD=sc.textFile('twitts.txt',4)\n",
        "datos=preprocesar(textRDD)\n",
        "cantidadDoc=len(datos)\n",
        "BoW=bow(datos)\n",
        "idf=IDF(BoW,cantidadDoc)\n",
        "idf.take(20)"
      ],
      "metadata": {
        "colab": {
          "base_uri": "https://localhost:8080/"
        },
        "id": "xAYeZ4hfCAZD",
        "outputId": "926a1aab-b27f-4e08-f3e6-ab76c88dde52"
      },
      "execution_count": 137,
      "outputs": [
        {
          "output_type": "execute_result",
          "data": {
            "text/plain": [
              "[('aapl', 0.5944950710074257),\n",
              " ('stockaction', 2.0249643045063834),\n",
              " ('feedback', 3.104145550554008),\n",
              " ('iwatch', 2.627024295834346),\n",
              " ('accessory', 2.979206813945708),\n",
              " ('turn', 2.1662934573028525),\n",
              " ('facetime', 2.4351387695954325),\n",
              " ('seamlessly', 3.2802368096096894),\n",
              " ('airport', 3.5812668052736707),\n",
              " ('board', 2.882296800937652),\n",
              " ('security', 2.4351387695954325),\n",
              " ('card', 2.3771468226177457),\n",
              " ('commute', 3.2802368096096894),\n",
              " ('accord', 2.5398741201154458),\n",
              " ('ceo', 1.968482948553935),\n",
              " ('maker', 2.7361687652594138),\n",
              " ('like', 1.5684295805684985),\n",
              " ('monarchywpb', 3.5812668052736707),\n",
              " ('go', 1.7424177145364153),\n",
              " ('pay', 1.781926255820089)]"
            ]
          },
          "metadata": {},
          "execution_count": 137
        }
      ]
    },
    {
      "cell_type": "markdown",
      "source": [
        "## **5. TF-IDF**"
      ],
      "metadata": {
        "id": "SCs67-bCcNPa"
      }
    },
    {
      "cell_type": "code",
      "source": [
        "def TF_IDF(bagOfWordsRDD,cantidadDoc):\n",
        "  \"\"\"\n",
        "  Calcula Inverse document frequency\n",
        "  \n",
        "  Parameters\n",
        "  =========\n",
        "    `bagOfWordsRDD :` lista de tuplas de tuplas ((idDoc, token),1)\n",
        "          ej ->[((1, 'protester'), 1),\n",
        "                ((1, 'stage'), 1),\n",
        "                ((1, 'diein'), 1)]\n",
        "    \n",
        "    `cantidadDoc :` cantidad de documentos (int)\n",
        "          ej -> 2857\n",
        "    \n",
        "  Returns\n",
        "  =========\n",
        "    `tfIdfRDD :`  lista de tuplas (idDoc,token,tf, idf,tf-idf)\n",
        "          ej ->[(1, 'store', 1, 1.105595616949241, 1.105595616949241),\n",
        "                (1, 'stage', 1, 1.3798696809532192, 1.3798696809532192),\n",
        "                (1, 'nyc', 1, 1.353380100659997, 1.353380100659997)]\n",
        "\n",
        "  \"\"\"\n",
        "  #obtenemos el RDD con el id del documento y la frecuencia para cada token\n",
        "  tfRDD=TF(bagOfWordsRDD)\n",
        "  # obtenemos el RDD con las puntuaciones IDF\n",
        "  idfRDD=IDF(bagOfWordsRDD,cantidadDoc)\n",
        "  #combinamos para asignar a cada token un id de documento, frecuencia y puntuación IDF\n",
        "  tfIdfRDD=tfRDD.join(idfRDD)\n",
        "  #multiplicamos los valores de TF e IDF de cada token\n",
        "  tfIdfRDD=tfIdfRDD.map(lambda x: (x[1][0][0],(x[0],x[1][0][1],x[1][1],x[1][0][1]*x[1][1]))).sortByKey()\n",
        "  #reorganizamos el RDD para tener mejor comprension\n",
        "  tfIdfRDD=tfIdfRDD.map(lambda x: (x[0],x[1][0],x[1][1],x[1][2],x[1][3]))\n",
        "  return tfIdfRDD"
      ],
      "metadata": {
        "id": "tetMbZwDGtSi"
      },
      "execution_count": 138,
      "outputs": []
    },
    {
      "cell_type": "code",
      "source": [
        "#Crear el RDD leyendo el archivo .txt\n",
        "textRDD=sc.textFile('twitts.txt',4)\n",
        "datos=preprocesar(textRDD)\n",
        "cantidadDoc=len(datos)\n",
        "BoW=bow(datos)\n",
        "tf_idf=TF_IDF(BoW,cantidadDoc)\n",
        "tf_idf.take(20)"
      ],
      "metadata": {
        "colab": {
          "base_uri": "https://localhost:8080/"
        },
        "id": "s1UE-nWYG8lT",
        "outputId": "8e720415-d777-4847-b9fe-68a2611a61d8"
      },
      "execution_count": 139,
      "outputs": [
        {
          "output_type": "execute_result",
          "data": {
            "text/plain": [
              "[(1, 'store', 1, 1.105595616949241, 1.105595616949241),\n",
              " (1, 'diein', 1, 1.399423217328898, 1.399423217328898),\n",
              " (1, 'retweet', 1, 1.399423217328898, 1.399423217328898),\n",
              " (1, 'agree', 1, 1.3690792008697128, 1.3690792008697128),\n",
              " (1, 'stage', 1, 1.3798696809532192, 1.3798696809532192),\n",
              " (1, 'nyc', 1, 1.353380100659997, 1.353380100659997),\n",
              " (1, 'protester', 1, 1.388142206919209, 1.388142206919209),\n",
              " (1, 'protest', 1, 1.377146822617746, 1.377146822617746),\n",
              " (1, 'anger', 1, 1.388142206919209, 1.388142206919209),\n",
              " (1, 'misplace', 1, 1.390935107103379, 1.390935107103379),\n",
              " (2, 'range', 1, 2.2195389692560776, 2.2195389692560776),\n",
              " (2, 'trading', 1, 1.928054291498327, 1.928054291498327),\n",
              " (2, 'stock', 1, 1.457415164306585, 1.457415164306585),\n",
              " (2, 'mkt', 1, 1.968482948553935, 1.968482948553935),\n",
              " (2, 'update', 1, 1.3937460844372076, 1.3937460844372076),\n",
              " (2, 'apple', 1, 0.578668824553762, 0.578668824553762),\n",
              " (2, 'intraday', 1, 1.6270242958343457, 1.6270242958343457),\n",
              " (2, 'premium', 1, 2.076116826953765, 2.076116826953765),\n",
              " (2, 'aapl', 1, 0.5944950710074257, 0.5944950710074257),\n",
              " (2, 'stockaction', 1, 2.0249643045063834, 2.0249643045063834)]"
            ]
          },
          "metadata": {},
          "execution_count": 139
        }
      ]
    },
    {
      "cell_type": "markdown",
      "source": [
        "## **Resultado**"
      ],
      "metadata": {
        "id": "ePrZ8JupOXxl"
      }
    },
    {
      "cell_type": "code",
      "source": [
        "import pandas as pd\n",
        "#Creamos el daframe para mostrar los resultados\n",
        "dfTabla=pd.DataFrame(tf_idf.collect(),columns=['Id Documento','Token','TF','IDF','TF-IDF'])\n",
        "#mostarlos los 30 primeros resultados obtenidos\n",
        "dfTabla[:30]"
      ],
      "metadata": {
        "colab": {
          "base_uri": "https://localhost:8080/",
          "height": 990
        },
        "id": "LXFwQVTcVvrM",
        "outputId": "647eacce-795b-4d34-af10-21cab0e5fe0f"
      },
      "execution_count": 140,
      "outputs": [
        {
          "output_type": "execute_result",
          "data": {
            "text/html": [
              "\n",
              "  <div id=\"df-d4299946-0977-439e-bc9a-9c6d85fd4281\">\n",
              "    <div class=\"colab-df-container\">\n",
              "      <div>\n",
              "<style scoped>\n",
              "    .dataframe tbody tr th:only-of-type {\n",
              "        vertical-align: middle;\n",
              "    }\n",
              "\n",
              "    .dataframe tbody tr th {\n",
              "        vertical-align: top;\n",
              "    }\n",
              "\n",
              "    .dataframe thead th {\n",
              "        text-align: right;\n",
              "    }\n",
              "</style>\n",
              "<table border=\"1\" class=\"dataframe\">\n",
              "  <thead>\n",
              "    <tr style=\"text-align: right;\">\n",
              "      <th></th>\n",
              "      <th>Id Documento</th>\n",
              "      <th>Token</th>\n",
              "      <th>TF</th>\n",
              "      <th>IDF</th>\n",
              "      <th>TF-IDF</th>\n",
              "    </tr>\n",
              "  </thead>\n",
              "  <tbody>\n",
              "    <tr>\n",
              "      <th>0</th>\n",
              "      <td>1</td>\n",
              "      <td>store</td>\n",
              "      <td>1</td>\n",
              "      <td>1.105596</td>\n",
              "      <td>1.105596</td>\n",
              "    </tr>\n",
              "    <tr>\n",
              "      <th>1</th>\n",
              "      <td>1</td>\n",
              "      <td>diein</td>\n",
              "      <td>1</td>\n",
              "      <td>1.399423</td>\n",
              "      <td>1.399423</td>\n",
              "    </tr>\n",
              "    <tr>\n",
              "      <th>2</th>\n",
              "      <td>1</td>\n",
              "      <td>retweet</td>\n",
              "      <td>1</td>\n",
              "      <td>1.399423</td>\n",
              "      <td>1.399423</td>\n",
              "    </tr>\n",
              "    <tr>\n",
              "      <th>3</th>\n",
              "      <td>1</td>\n",
              "      <td>agree</td>\n",
              "      <td>1</td>\n",
              "      <td>1.369079</td>\n",
              "      <td>1.369079</td>\n",
              "    </tr>\n",
              "    <tr>\n",
              "      <th>4</th>\n",
              "      <td>1</td>\n",
              "      <td>stage</td>\n",
              "      <td>1</td>\n",
              "      <td>1.379870</td>\n",
              "      <td>1.379870</td>\n",
              "    </tr>\n",
              "    <tr>\n",
              "      <th>5</th>\n",
              "      <td>1</td>\n",
              "      <td>nyc</td>\n",
              "      <td>1</td>\n",
              "      <td>1.353380</td>\n",
              "      <td>1.353380</td>\n",
              "    </tr>\n",
              "    <tr>\n",
              "      <th>6</th>\n",
              "      <td>1</td>\n",
              "      <td>protester</td>\n",
              "      <td>1</td>\n",
              "      <td>1.388142</td>\n",
              "      <td>1.388142</td>\n",
              "    </tr>\n",
              "    <tr>\n",
              "      <th>7</th>\n",
              "      <td>1</td>\n",
              "      <td>protest</td>\n",
              "      <td>1</td>\n",
              "      <td>1.377147</td>\n",
              "      <td>1.377147</td>\n",
              "    </tr>\n",
              "    <tr>\n",
              "      <th>8</th>\n",
              "      <td>1</td>\n",
              "      <td>anger</td>\n",
              "      <td>1</td>\n",
              "      <td>1.388142</td>\n",
              "      <td>1.388142</td>\n",
              "    </tr>\n",
              "    <tr>\n",
              "      <th>9</th>\n",
              "      <td>1</td>\n",
              "      <td>misplace</td>\n",
              "      <td>1</td>\n",
              "      <td>1.390935</td>\n",
              "      <td>1.390935</td>\n",
              "    </tr>\n",
              "    <tr>\n",
              "      <th>10</th>\n",
              "      <td>2</td>\n",
              "      <td>range</td>\n",
              "      <td>1</td>\n",
              "      <td>2.219539</td>\n",
              "      <td>2.219539</td>\n",
              "    </tr>\n",
              "    <tr>\n",
              "      <th>11</th>\n",
              "      <td>2</td>\n",
              "      <td>trading</td>\n",
              "      <td>1</td>\n",
              "      <td>1.928054</td>\n",
              "      <td>1.928054</td>\n",
              "    </tr>\n",
              "    <tr>\n",
              "      <th>12</th>\n",
              "      <td>2</td>\n",
              "      <td>stock</td>\n",
              "      <td>1</td>\n",
              "      <td>1.457415</td>\n",
              "      <td>1.457415</td>\n",
              "    </tr>\n",
              "    <tr>\n",
              "      <th>13</th>\n",
              "      <td>2</td>\n",
              "      <td>mkt</td>\n",
              "      <td>1</td>\n",
              "      <td>1.968483</td>\n",
              "      <td>1.968483</td>\n",
              "    </tr>\n",
              "    <tr>\n",
              "      <th>14</th>\n",
              "      <td>2</td>\n",
              "      <td>update</td>\n",
              "      <td>1</td>\n",
              "      <td>1.393746</td>\n",
              "      <td>1.393746</td>\n",
              "    </tr>\n",
              "    <tr>\n",
              "      <th>15</th>\n",
              "      <td>2</td>\n",
              "      <td>apple</td>\n",
              "      <td>1</td>\n",
              "      <td>0.578669</td>\n",
              "      <td>0.578669</td>\n",
              "    </tr>\n",
              "    <tr>\n",
              "      <th>16</th>\n",
              "      <td>2</td>\n",
              "      <td>intraday</td>\n",
              "      <td>1</td>\n",
              "      <td>1.627024</td>\n",
              "      <td>1.627024</td>\n",
              "    </tr>\n",
              "    <tr>\n",
              "      <th>17</th>\n",
              "      <td>2</td>\n",
              "      <td>premium</td>\n",
              "      <td>1</td>\n",
              "      <td>2.076117</td>\n",
              "      <td>2.076117</td>\n",
              "    </tr>\n",
              "    <tr>\n",
              "      <th>18</th>\n",
              "      <td>2</td>\n",
              "      <td>aapl</td>\n",
              "      <td>1</td>\n",
              "      <td>0.594495</td>\n",
              "      <td>0.594495</td>\n",
              "    </tr>\n",
              "    <tr>\n",
              "      <th>19</th>\n",
              "      <td>2</td>\n",
              "      <td>stockaction</td>\n",
              "      <td>1</td>\n",
              "      <td>2.024964</td>\n",
              "      <td>2.024964</td>\n",
              "    </tr>\n",
              "    <tr>\n",
              "      <th>20</th>\n",
              "      <td>2</td>\n",
              "      <td>user</td>\n",
              "      <td>1</td>\n",
              "      <td>1.817839</td>\n",
              "      <td>1.817839</td>\n",
              "    </tr>\n",
              "    <tr>\n",
              "      <th>21</th>\n",
              "      <td>2</td>\n",
              "      <td>comment</td>\n",
              "      <td>1</td>\n",
              "      <td>2.076117</td>\n",
              "      <td>2.076117</td>\n",
              "    </tr>\n",
              "    <tr>\n",
              "      <th>22</th>\n",
              "      <td>3</td>\n",
              "      <td>2014</td>\n",
              "      <td>1</td>\n",
              "      <td>1.833079</td>\n",
              "      <td>1.833079</td>\n",
              "    </tr>\n",
              "    <tr>\n",
              "      <th>23</th>\n",
              "      <td>3</td>\n",
              "      <td>app</td>\n",
              "      <td>2</td>\n",
              "      <td>1.463996</td>\n",
              "      <td>2.927991</td>\n",
              "    </tr>\n",
              "    <tr>\n",
              "      <th>24</th>\n",
              "      <td>3</td>\n",
              "      <td>ios</td>\n",
              "      <td>1</td>\n",
              "      <td>1.742418</td>\n",
              "      <td>1.742418</td>\n",
              "    </tr>\n",
              "    <tr>\n",
              "      <th>25</th>\n",
              "      <td>3</td>\n",
              "      <td>name</td>\n",
              "      <td>1</td>\n",
              "      <td>2.166293</td>\n",
              "      <td>2.166293</td>\n",
              "    </tr>\n",
              "    <tr>\n",
              "      <th>26</th>\n",
              "      <td>3</td>\n",
              "      <td>brain</td>\n",
              "      <td>1</td>\n",
              "      <td>3.104146</td>\n",
              "      <td>3.104146</td>\n",
              "    </tr>\n",
              "    <tr>\n",
              "      <th>27</th>\n",
              "      <td>3</td>\n",
              "      <td>elevate</td>\n",
              "      <td>1</td>\n",
              "      <td>2.467323</td>\n",
              "      <td>2.467323</td>\n",
              "    </tr>\n",
              "    <tr>\n",
              "      <th>28</th>\n",
              "      <td>3</td>\n",
              "      <td>training</td>\n",
              "      <td>1</td>\n",
              "      <td>3.280237</td>\n",
              "      <td>3.280237</td>\n",
              "    </tr>\n",
              "    <tr>\n",
              "      <th>29</th>\n",
              "      <td>3</td>\n",
              "      <td>iphone</td>\n",
              "      <td>1</td>\n",
              "      <td>0.991317</td>\n",
              "      <td>0.991317</td>\n",
              "    </tr>\n",
              "  </tbody>\n",
              "</table>\n",
              "</div>\n",
              "      <button class=\"colab-df-convert\" onclick=\"convertToInteractive('df-d4299946-0977-439e-bc9a-9c6d85fd4281')\"\n",
              "              title=\"Convert this dataframe to an interactive table.\"\n",
              "              style=\"display:none;\">\n",
              "        \n",
              "  <svg xmlns=\"http://www.w3.org/2000/svg\" height=\"24px\"viewBox=\"0 0 24 24\"\n",
              "       width=\"24px\">\n",
              "    <path d=\"M0 0h24v24H0V0z\" fill=\"none\"/>\n",
              "    <path d=\"M18.56 5.44l.94 2.06.94-2.06 2.06-.94-2.06-.94-.94-2.06-.94 2.06-2.06.94zm-11 1L8.5 8.5l.94-2.06 2.06-.94-2.06-.94L8.5 2.5l-.94 2.06-2.06.94zm10 10l.94 2.06.94-2.06 2.06-.94-2.06-.94-.94-2.06-.94 2.06-2.06.94z\"/><path d=\"M17.41 7.96l-1.37-1.37c-.4-.4-.92-.59-1.43-.59-.52 0-1.04.2-1.43.59L10.3 9.45l-7.72 7.72c-.78.78-.78 2.05 0 2.83L4 21.41c.39.39.9.59 1.41.59.51 0 1.02-.2 1.41-.59l7.78-7.78 2.81-2.81c.8-.78.8-2.07 0-2.86zM5.41 20L4 18.59l7.72-7.72 1.47 1.35L5.41 20z\"/>\n",
              "  </svg>\n",
              "      </button>\n",
              "      \n",
              "  <style>\n",
              "    .colab-df-container {\n",
              "      display:flex;\n",
              "      flex-wrap:wrap;\n",
              "      gap: 12px;\n",
              "    }\n",
              "\n",
              "    .colab-df-convert {\n",
              "      background-color: #E8F0FE;\n",
              "      border: none;\n",
              "      border-radius: 50%;\n",
              "      cursor: pointer;\n",
              "      display: none;\n",
              "      fill: #1967D2;\n",
              "      height: 32px;\n",
              "      padding: 0 0 0 0;\n",
              "      width: 32px;\n",
              "    }\n",
              "\n",
              "    .colab-df-convert:hover {\n",
              "      background-color: #E2EBFA;\n",
              "      box-shadow: 0px 1px 2px rgba(60, 64, 67, 0.3), 0px 1px 3px 1px rgba(60, 64, 67, 0.15);\n",
              "      fill: #174EA6;\n",
              "    }\n",
              "\n",
              "    [theme=dark] .colab-df-convert {\n",
              "      background-color: #3B4455;\n",
              "      fill: #D2E3FC;\n",
              "    }\n",
              "\n",
              "    [theme=dark] .colab-df-convert:hover {\n",
              "      background-color: #434B5C;\n",
              "      box-shadow: 0px 1px 3px 1px rgba(0, 0, 0, 0.15);\n",
              "      filter: drop-shadow(0px 1px 2px rgba(0, 0, 0, 0.3));\n",
              "      fill: #FFFFFF;\n",
              "    }\n",
              "  </style>\n",
              "\n",
              "      <script>\n",
              "        const buttonEl =\n",
              "          document.querySelector('#df-d4299946-0977-439e-bc9a-9c6d85fd4281 button.colab-df-convert');\n",
              "        buttonEl.style.display =\n",
              "          google.colab.kernel.accessAllowed ? 'block' : 'none';\n",
              "\n",
              "        async function convertToInteractive(key) {\n",
              "          const element = document.querySelector('#df-d4299946-0977-439e-bc9a-9c6d85fd4281');\n",
              "          const dataTable =\n",
              "            await google.colab.kernel.invokeFunction('convertToInteractive',\n",
              "                                                     [key], {});\n",
              "          if (!dataTable) return;\n",
              "\n",
              "          const docLinkHtml = 'Like what you see? Visit the ' +\n",
              "            '<a target=\"_blank\" href=https://colab.research.google.com/notebooks/data_table.ipynb>data table notebook</a>'\n",
              "            + ' to learn more about interactive tables.';\n",
              "          element.innerHTML = '';\n",
              "          dataTable['output_type'] = 'display_data';\n",
              "          await google.colab.output.renderOutput(dataTable, element);\n",
              "          const docLink = document.createElement('div');\n",
              "          docLink.innerHTML = docLinkHtml;\n",
              "          element.appendChild(docLink);\n",
              "        }\n",
              "      </script>\n",
              "    </div>\n",
              "  </div>\n",
              "  "
            ],
            "text/plain": [
              "    Id Documento        Token  TF       IDF    TF-IDF\n",
              "0              1        store   1  1.105596  1.105596\n",
              "1              1        diein   1  1.399423  1.399423\n",
              "2              1      retweet   1  1.399423  1.399423\n",
              "3              1        agree   1  1.369079  1.369079\n",
              "4              1        stage   1  1.379870  1.379870\n",
              "5              1          nyc   1  1.353380  1.353380\n",
              "6              1    protester   1  1.388142  1.388142\n",
              "7              1      protest   1  1.377147  1.377147\n",
              "8              1        anger   1  1.388142  1.388142\n",
              "9              1     misplace   1  1.390935  1.390935\n",
              "10             2        range   1  2.219539  2.219539\n",
              "11             2      trading   1  1.928054  1.928054\n",
              "12             2        stock   1  1.457415  1.457415\n",
              "13             2          mkt   1  1.968483  1.968483\n",
              "14             2       update   1  1.393746  1.393746\n",
              "15             2        apple   1  0.578669  0.578669\n",
              "16             2     intraday   1  1.627024  1.627024\n",
              "17             2      premium   1  2.076117  2.076117\n",
              "18             2         aapl   1  0.594495  0.594495\n",
              "19             2  stockaction   1  2.024964  2.024964\n",
              "20             2         user   1  1.817839  1.817839\n",
              "21             2      comment   1  2.076117  2.076117\n",
              "22             3         2014   1  1.833079  1.833079\n",
              "23             3          app   2  1.463996  2.927991\n",
              "24             3          ios   1  1.742418  1.742418\n",
              "25             3         name   1  2.166293  2.166293\n",
              "26             3        brain   1  3.104146  3.104146\n",
              "27             3      elevate   1  2.467323  2.467323\n",
              "28             3     training   1  3.280237  3.280237\n",
              "29             3       iphone   1  0.991317  0.991317"
            ]
          },
          "metadata": {},
          "execution_count": 140
        }
      ]
    }
  ]
}