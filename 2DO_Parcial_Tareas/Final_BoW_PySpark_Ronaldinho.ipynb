{
  "nbformat": 4,
  "nbformat_minor": 0,
  "metadata": {
    "colab": {
      "name": "Final_BoW_PySpark_Ronaldinho.ipynb",
      "provenance": [],
      "collapsed_sections": []
    },
    "kernelspec": {
      "name": "python3",
      "display_name": "Python 3"
    },
    "language_info": {
      "name": "python"
    }
  },
  "cells": [
    {
      "cell_type": "markdown",
      "source": [
        "**UNIVERSIDAD NACIONAL DE SAN ANTONIO ABAD DEL CUSCO**\n",
        "> **CURSO:** Minería de datos\n",
        "\n",
        "> **ALUMNO:**Vega Centeno Olivera, Ronaldinho"
      ],
      "metadata": {
        "id": "T8EpL6r5GxHj"
      }
    },
    {
      "cell_type": "markdown",
      "source": [
        "## **1.Instalar bibliotecas**"
      ],
      "metadata": {
        "id": "hSn_RSY9HgY5"
      }
    },
    {
      "cell_type": "code",
      "execution_count": null,
      "metadata": {
        "colab": {
          "base_uri": "https://localhost:8080/"
        },
        "id": "OJHlNM6K4Fge",
        "outputId": "b19abfb2-1693-49d0-ed8a-7512b20642a6"
      },
      "outputs": [
        {
          "output_type": "stream",
          "name": "stdout",
          "text": [
            "Collecting pyspark\n",
            "  Downloading pyspark-3.2.0.tar.gz (281.3 MB)\n",
            "\u001b[K     |████████████████████████████████| 281.3 MB 38 kB/s \n",
            "\u001b[?25hCollecting py4j==0.10.9.2\n",
            "  Downloading py4j-0.10.9.2-py2.py3-none-any.whl (198 kB)\n",
            "\u001b[K     |████████████████████████████████| 198 kB 55.4 MB/s \n",
            "\u001b[?25hBuilding wheels for collected packages: pyspark\n",
            "  Building wheel for pyspark (setup.py) ... \u001b[?25l\u001b[?25hdone\n",
            "  Created wheel for pyspark: filename=pyspark-3.2.0-py2.py3-none-any.whl size=281805912 sha256=b58573ca8998d49e97fda0fb06b27c85d9fc08ed77ca10ad394bc6490a28b4e5\n",
            "  Stored in directory: /root/.cache/pip/wheels/0b/de/d2/9be5d59d7331c6c2a7c1b6d1a4f463ce107332b1ecd4e80718\n",
            "Successfully built pyspark\n",
            "Installing collected packages: py4j, pyspark\n",
            "Successfully installed py4j-0.10.9.2 pyspark-3.2.0\n"
          ]
        }
      ],
      "source": [
        "!pip install pyspark"
      ]
    },
    {
      "cell_type": "markdown",
      "source": [
        "## **2.Conexion a cluster Spark (SparkContext)**"
      ],
      "metadata": {
        "id": "SoNz6Dm-Hw52"
      }
    },
    {
      "cell_type": "code",
      "source": [
        "from pyspark import SparkContext\n",
        "sc =SparkContext() #Permite la creación y manipulación de RDDs"
      ],
      "metadata": {
        "id": "H_2A9Wgs4mYQ"
      },
      "execution_count": null,
      "outputs": []
    },
    {
      "cell_type": "markdown",
      "source": [
        "## **3.Bag of words**"
      ],
      "metadata": {
        "id": "ZrUzKteN2DiV"
      }
    },
    {
      "cell_type": "code",
      "source": [
        "def preprocesar(textRDD):\n",
        "  \"\"\"\n",
        "    Modulo para eliminar lineas en blanco, o doc en blanco y \n",
        "    dar estructura a la data\n",
        "\n",
        "  Parameters\n",
        "  =========\n",
        "    `textRDD :` RDD con los documentos\n",
        "          ej -> [ 'founder attack boss ridiculous comment ad',\n",
        "                  'evidence factcheckthis',\n",
        "                  'educate']\n",
        "  Returns\n",
        "  =========\n",
        "    `tupleData :` lista de tuplas (idDoc, Doc)\n",
        "          ej ->[(5, 'founder attack boss ridiculous comment ad'),\n",
        "                (6, 'evidence factcheckthis'),\n",
        "                (7, 'educate')]\n",
        "\n",
        "  \"\"\"\n",
        "  #Eliminar lineas vacias\n",
        "  textRDD=textRDD.filter(lambda x : x is not '')\n",
        "  #Crear tuplas para dar forma a la data\n",
        "  tupleData = []\n",
        "  i=1\n",
        "  for line in textRDD.collect():\n",
        "    tupla=(i,line)\n",
        "    tupleData.append(tupla)\n",
        "    i+=1\n",
        "  return tupleData"
      ],
      "metadata": {
        "id": "9OQSL7o2QBLu"
      },
      "execution_count": 119,
      "outputs": []
    },
    {
      "cell_type": "code",
      "source": [
        "def bow(data1,particiones=4):\n",
        "  \"\"\"\n",
        "    a. tokenizamos \n",
        "    b. uniformizamos, convertimos a minusculas\n",
        "    c. agregamos un valor a cada tupla : Ej. -> ((1,'hola',10),1)\n",
        "    d. filtramos palabras de tamaño mayor a 2 letras\n",
        "\n",
        "  Parameters\n",
        "  =========\n",
        "    `data1 :` lista de tuplas (id, Doc)\n",
        "          ej -> [(5, 'founder attack boss ridiculous comment ad'),\n",
        "                (6, 'evidence factcheckthis'),\n",
        "                (7, 'educate')]\n",
        "  Returns\n",
        "  =========\n",
        "    `parTokenRDD :` lista de tuplas de tuplas ((idDoc, token,len(Doc)), 1)\n",
        "          ej ->[((1, 'protester',10), 1),\n",
        "                ((1, 'stage',10), 1),\n",
        "                ((1, 'diein',10), 1)]\n",
        "\n",
        "  \"\"\"\n",
        "  #Creamos el RDD\n",
        "  linesRDD=sc.parallelize(data1,particiones)\n",
        "  parTokenRDD=linesRDD.flatMap(lambda x: [((x[0],i.lower(),len(x[1].split())),1) for i in x[1].split()])\n",
        "  #filtramos palabras de tamaño mayor a 2 letras\n",
        "  parTokenRDD2=parTokenRDD.filter(lambda x: len(x[0][1])>2)\n",
        "  #obtenemos la frecuencia de cada palabra por documento\n",
        "  frecPerDocumentRDD=parTokenRDD2.reduceByKey(lambda x,y:x+y)\n",
        "  return frecPerDocumentRDD\n"
      ],
      "metadata": {
        "id": "wpG8Ebyw2ILh"
      },
      "execution_count": 123,
      "outputs": []
    },
    {
      "cell_type": "code",
      "source": [
        "#Crear el RDD leyendo el archivo .txt\n",
        "textRDD=sc.textFile('twitts.txt',4)\n",
        "datos=preprocesar(textRDD)\n",
        "datos\n",
        "BoW=bow(datos)\n",
        "BoW.take(20)"
      ],
      "metadata": {
        "colab": {
          "base_uri": "https://localhost:8080/"
        },
        "id": "GKLCQttS655j",
        "outputId": "2dda343d-2027-438d-884c-133dd830a44d"
      },
      "execution_count": 124,
      "outputs": [
        {
          "output_type": "execute_result",
          "data": {
            "text/plain": [
              "[((1, 'protest', 10), 1),\n",
              " ((1, 'anger', 10), 1),\n",
              " ((1, 'misplace', 10), 1),\n",
              " ((1, 'retweet', 10), 1),\n",
              " ((2, 'range', 12), 1),\n",
              " ((2, 'user', 12), 1),\n",
              " ((2, 'trading', 12), 1),\n",
              " ((2, 'stock', 12), 1),\n",
              " ((2, 'mkt', 12), 1),\n",
              " ((3, 'ios', 9), 1),\n",
              " ((3, 'app', 9), 2),\n",
              " ((3, 'brain', 9), 1),\n",
              " ((6, 'factcheckthis', 2), 1),\n",
              " ((8, 'store', 9), 1),\n",
              " ((9, 'customer', 4), 1),\n",
              " ((10, 'range', 12), 1),\n",
              " ((10, 'user', 12), 1),\n",
              " ((10, 'trading', 12), 1),\n",
              " ((10, 'stock', 12), 1),\n",
              " ((10, 'mkt', 12), 1)]"
            ]
          },
          "metadata": {},
          "execution_count": 124
        }
      ]
    },
    {
      "cell_type": "markdown",
      "source": [
        "## **3.TF**"
      ],
      "metadata": {
        "id": "NjAUwvBCIJRi"
      }
    },
    {
      "cell_type": "code",
      "source": [
        "def TF(datos):\n",
        "  \"\"\"\n",
        "  Calcula la frecuencia de cada termino\n",
        "\n",
        "  Parameters\n",
        "  =========\n",
        "    `datos :` lista de tuplas (id, Doc)\n",
        "          ej -> [(5, 'founder attack boss ridiculous comment ad'),\n",
        "                (6, 'evidence factcheckthis'),\n",
        "                (7, 'educate')]\n",
        "\n",
        "  Returns\n",
        "  =========\n",
        "    `tfRDD :`  lista de tuplas de tuplas ('token', ('id',frecuencia/len(doc)))\n",
        "          ej -> [ ('protester', (1, 0.1)),\n",
        "                  ('diein', (1, 0.1)),\n",
        "                  ('agree', (1, 0.1)) ]\n",
        "\n",
        "  \"\"\"\n",
        "  frecuenciasRDD=bow(datos)\n",
        "  # Mapear el RDD para obetener ('token', ('id',frecuencia/ len(Doc) ))\n",
        "  tfRDD=frecuenciasRDD.map(lambda x: (x[0][1],(x[0][0],x[1]/x[0][2])))\n",
        "  return tfRDD"
      ],
      "metadata": {
        "id": "qCUNeGrflvYG"
      },
      "execution_count": 125,
      "outputs": []
    },
    {
      "cell_type": "code",
      "source": [
        "#Crear el RDD leyendo el archivo .txt\n",
        "textRDD=sc.textFile('twitts.txt',4)\n",
        "datos=preprocesar(textRDD)\n",
        "tf=TF(datos)\n",
        "tf.take(20)"
      ],
      "metadata": {
        "colab": {
          "base_uri": "https://localhost:8080/"
        },
        "id": "Qmzd3bjyBV7g",
        "outputId": "4c92a149-05ba-49a6-c825-1b9792ac72e0"
      },
      "execution_count": 126,
      "outputs": [
        {
          "output_type": "execute_result",
          "data": {
            "text/plain": [
              "[('protest', (1, 0.1)),\n",
              " ('anger', (1, 0.1)),\n",
              " ('misplace', (1, 0.1)),\n",
              " ('retweet', (1, 0.1)),\n",
              " ('range', (2, 0.08333333333333333)),\n",
              " ('user', (2, 0.08333333333333333)),\n",
              " ('trading', (2, 0.08333333333333333)),\n",
              " ('stock', (2, 0.08333333333333333)),\n",
              " ('mkt', (2, 0.08333333333333333)),\n",
              " ('ios', (3, 0.1111111111111111)),\n",
              " ('app', (3, 0.2222222222222222)),\n",
              " ('brain', (3, 0.1111111111111111)),\n",
              " ('factcheckthis', (6, 0.5)),\n",
              " ('store', (8, 0.1111111111111111)),\n",
              " ('customer', (9, 0.25)),\n",
              " ('range', (10, 0.08333333333333333)),\n",
              " ('user', (10, 0.08333333333333333)),\n",
              " ('trading', (10, 0.08333333333333333)),\n",
              " ('stock', (10, 0.08333333333333333)),\n",
              " ('mkt', (10, 0.08333333333333333))]"
            ]
          },
          "metadata": {},
          "execution_count": 126
        }
      ]
    },
    {
      "cell_type": "markdown",
      "source": [
        "## **4.IDF**"
      ],
      "metadata": {
        "id": "hl0f0cPzJGQT"
      }
    },
    {
      "cell_type": "code",
      "source": [
        "import math\n",
        "from pyspark.sql.functions import *"
      ],
      "metadata": {
        "id": "WBZpi7I4oPkL"
      },
      "execution_count": 127,
      "outputs": []
    },
    {
      "cell_type": "code",
      "source": [
        "def IDF(datos):\n",
        "  \"\"\"\n",
        "  Calcula Inverse document frequency\n",
        "  \n",
        "  Parameters\n",
        "  =========\n",
        "    `datos :` lista de tuplas (id, Doc)\n",
        "          ej -> [(5, 'founder attack boss ridiculous comment ad'),\n",
        "                (6, 'evidence factcheckthis'),\n",
        "                (7, 'educate')]\n",
        "    \n",
        "  Returns\n",
        "  =========\n",
        "    `idfRDD :`  lista de tuplas ('token', idf(float))\n",
        "          ej ->[('update', 1.3937460844372076),\n",
        "                ('aapl', 0.5944950710074257),\n",
        "                ('stockaction', 2.0249643045063834)]\n",
        "\n",
        "  \"\"\"\n",
        "  cantidadDoc=len(datos)\n",
        "  frecuenciasRDD=bow(datos)\n",
        "  # Mapeamos para colocar cada token como valor clave. Ej. -> ('token',('id',frecuencia,1))\n",
        "  tokenRDD=frecuenciasRDD.map(lambda x: (x[0][1],(x[0][0],x[1],1)))\n",
        "  # Extraemos el token y su ocurrencia por documento\n",
        "  tokenOcurrenciaDocRDD=tokenRDD.map(lambda x:(x[0],x[1][2]))\n",
        "  # contamos la contidad de documentos que contienen un token\n",
        "  docPerTokenRDD=tokenOcurrenciaDocRDD.reduceByKey(lambda x,y:x+y)\n",
        "  #calculamos el logaritmo para el IDF\n",
        "  idfRDD=docPerTokenRDD.map(lambda x: (x[0],math.log10(cantidadDoc/x[1])))\n",
        "  return idfRDD"
      ],
      "metadata": {
        "id": "IggXzm3ulX1B"
      },
      "execution_count": 128,
      "outputs": []
    },
    {
      "cell_type": "code",
      "source": [
        "#Crear el RDD leyendo el archivo .txt\n",
        "textRDD=sc.textFile('twitts.txt',4)\n",
        "datos=preprocesar(textRDD)\n",
        "idf=IDF(datos)\n",
        "idf.take(20)"
      ],
      "metadata": {
        "colab": {
          "base_uri": "https://localhost:8080/"
        },
        "id": "xAYeZ4hfCAZD",
        "outputId": "37b4c4fa-94fb-483b-c3e6-fb662f01272a"
      },
      "execution_count": 129,
      "outputs": [
        {
          "output_type": "execute_result",
          "data": {
            "text/plain": [
              "[('store', 1.105595616949241),\n",
              " ('customer', 1.968482948553935),\n",
              " ('onlinefootprint', 3.5812668052736707),\n",
              " ('turn', 2.1662934573028525),\n",
              " ('asus', 3.5812668052736707),\n",
              " ('freezing', 2.803115554890027),\n",
              " ('laggy', 3.5812668052736707),\n",
              " ('excellence', 3.5812668052736707),\n",
              " ('aapl', 0.5944950710074257),\n",
              " ('stockaction', 2.0249643045063834),\n",
              " ('stage', 1.3798696809532192),\n",
              " ('nyc', 1.353380100659997),\n",
              " ('smart', 2.5020855592260456),\n",
              " ('team', 2.4351387695954325),\n",
              " ('macmail', 3.5812668052736707),\n",
              " ('give', 2.1499030411146833),\n",
              " ('genius', 2.3259943001703647),\n",
              " ('say', 1.947798349694084),\n",
              " ('wonder', 2.882296800937652),\n",
              " ('think', 1.8104147936315265)]"
            ]
          },
          "metadata": {},
          "execution_count": 129
        }
      ]
    },
    {
      "cell_type": "markdown",
      "source": [
        "## **5. TF-IDF**"
      ],
      "metadata": {
        "id": "SCs67-bCcNPa"
      }
    },
    {
      "cell_type": "code",
      "source": [
        "def TF_IDF(datos):\n",
        "  \"\"\"\n",
        "  Calcula Inverse document frequency\n",
        "  \n",
        "  Parameters\n",
        "  =========\n",
        "    `datos :` lista de tuplas (id, Doc)\n",
        "          ej -> [(5, 'founder attack boss ridiculous comment ad'),\n",
        "                (6, 'evidence factcheckthis'),\n",
        "                (7, 'educate')]\n",
        "\n",
        "  Returns\n",
        "  =========\n",
        "    `tfIdfRDD :`  lista de tuplas (idDoc,token,tf, idf,tf-idf)\n",
        "          ej ->[(1, 'store', 1, 1.105595616949241, 1.105595616949241),\n",
        "                (1, 'stage', 1, 1.3798696809532192, 1.3798696809532192),\n",
        "                (1, 'nyc', 1, 1.353380100659997, 1.353380100659997)]\n",
        "\n",
        "  \"\"\"\n",
        "  #obtenemos el RDD con el id del documento y la frecuencia para cada token\n",
        "  tfRDD=TF(datos)\n",
        "  # obtenemos el RDD con las puntuaciones IDF\n",
        "  idfRDD=IDF(datos)\n",
        "  #combinamos para asignar a cada token un id de documento, frecuencia y puntuación IDF\n",
        "  tfIdfRDD=tfRDD.join(idfRDD)\n",
        "  #multiplicamos los valores de TF e IDF de cada token\n",
        "  tfIdfRDD=tfIdfRDD.map(lambda x: (x[1][0][0],(x[0],x[1][0][1],x[1][1],x[1][0][1]*x[1][1]))).sortByKey()\n",
        "  #reorganizamos el RDD para tener mejor comprension\n",
        "  tfIdfRDD=tfIdfRDD.map(lambda x: (x[0],x[1][0],x[1][1],x[1][2],x[1][3]))\n",
        "  return tfIdfRDD"
      ],
      "metadata": {
        "id": "tetMbZwDGtSi"
      },
      "execution_count": 130,
      "outputs": []
    },
    {
      "cell_type": "code",
      "source": [
        "#Crear el RDD leyendo el archivo .txt\n",
        "textRDD=sc.textFile('twitts.txt',4)\n",
        "datos=preprocesar(textRDD)\n",
        "tf_idf=TF_IDF(datos)\n",
        "tf_idf.take(20)"
      ],
      "metadata": {
        "colab": {
          "base_uri": "https://localhost:8080/"
        },
        "id": "s1UE-nWYG8lT",
        "outputId": "052c9a02-9e7c-42e2-b19c-038939053287"
      },
      "execution_count": 131,
      "outputs": [
        {
          "output_type": "execute_result",
          "data": {
            "text/plain": [
              "[(1, 'store', 0.1, 1.105595616949241, 0.11055956169492409),\n",
              " (1, 'diein', 0.1, 1.399423217328898, 0.1399423217328898),\n",
              " (1, 'retweet', 0.1, 1.399423217328898, 0.1399423217328898),\n",
              " (1, 'agree', 0.1, 1.3690792008697128, 0.13690792008697128),\n",
              " (1, 'stage', 0.1, 1.3798696809532192, 0.13798696809532193),\n",
              " (1, 'nyc', 0.1, 1.353380100659997, 0.13533801006599971),\n",
              " (1, 'protester', 0.1, 1.388142206919209, 0.13881422069192093),\n",
              " (1, 'protest', 0.1, 1.377146822617746, 0.1377146822617746),\n",
              " (1, 'anger', 0.1, 1.388142206919209, 0.13881422069192093),\n",
              " (1, 'misplace', 0.1, 1.390935107103379, 0.1390935107103379),\n",
              " (2, 'range', 0.08333333333333333, 2.2195389692560776, 0.18496158077133978),\n",
              " (2, 'trading', 0.08333333333333333, 1.928054291498327, 0.1606711909581939),\n",
              " (2, 'stock', 0.08333333333333333, 1.457415164306585, 0.1214512636922154),\n",
              " (2, 'mkt', 0.08333333333333333, 1.968482948553935, 0.1640402457128279),\n",
              " (2, 'update', 0.08333333333333333, 1.3937460844372076, 0.11614550703643396),\n",
              " (2, 'apple', 0.08333333333333333, 0.578668824553762, 0.048222402046146834),\n",
              " (2, 'intraday', 0.08333333333333333, 1.6270242958343457, 0.13558535798619548),\n",
              " (2, 'premium', 0.08333333333333333, 2.076116826953765, 0.1730097355794804),\n",
              " (2, 'aapl', 0.08333333333333333, 0.5944950710074257, 0.049541255917285476),\n",
              " (2,\n",
              "  'stockaction',\n",
              "  0.08333333333333333,\n",
              "  2.0249643045063834,\n",
              "  0.16874702537553193)]"
            ]
          },
          "metadata": {},
          "execution_count": 131
        }
      ]
    },
    {
      "cell_type": "markdown",
      "source": [
        "## **Resultado**"
      ],
      "metadata": {
        "id": "ePrZ8JupOXxl"
      }
    },
    {
      "cell_type": "code",
      "source": [
        "import pandas as pd\n",
        "#Creamos el daframe para mostrar los resultados\n",
        "dfTabla=pd.DataFrame(tf_idf.collect(),columns=['Id Documento','Token','TF','IDF','TF-IDF'])\n",
        "#mostarlos los 30 primeros resultados obtenidos\n",
        "dfTabla[:30]"
      ],
      "metadata": {
        "colab": {
          "base_uri": "https://localhost:8080/",
          "height": 990
        },
        "id": "LXFwQVTcVvrM",
        "outputId": "8a3f98bf-4064-473d-99b9-66b9277e6665"
      },
      "execution_count": 132,
      "outputs": [
        {
          "output_type": "execute_result",
          "data": {
            "text/html": [
              "\n",
              "  <div id=\"df-74b28d97-3dd2-455c-ad86-087765177eea\">\n",
              "    <div class=\"colab-df-container\">\n",
              "      <div>\n",
              "<style scoped>\n",
              "    .dataframe tbody tr th:only-of-type {\n",
              "        vertical-align: middle;\n",
              "    }\n",
              "\n",
              "    .dataframe tbody tr th {\n",
              "        vertical-align: top;\n",
              "    }\n",
              "\n",
              "    .dataframe thead th {\n",
              "        text-align: right;\n",
              "    }\n",
              "</style>\n",
              "<table border=\"1\" class=\"dataframe\">\n",
              "  <thead>\n",
              "    <tr style=\"text-align: right;\">\n",
              "      <th></th>\n",
              "      <th>Id Documento</th>\n",
              "      <th>Token</th>\n",
              "      <th>TF</th>\n",
              "      <th>IDF</th>\n",
              "      <th>TF-IDF</th>\n",
              "    </tr>\n",
              "  </thead>\n",
              "  <tbody>\n",
              "    <tr>\n",
              "      <th>0</th>\n",
              "      <td>1</td>\n",
              "      <td>store</td>\n",
              "      <td>0.100000</td>\n",
              "      <td>1.105596</td>\n",
              "      <td>0.110560</td>\n",
              "    </tr>\n",
              "    <tr>\n",
              "      <th>1</th>\n",
              "      <td>1</td>\n",
              "      <td>diein</td>\n",
              "      <td>0.100000</td>\n",
              "      <td>1.399423</td>\n",
              "      <td>0.139942</td>\n",
              "    </tr>\n",
              "    <tr>\n",
              "      <th>2</th>\n",
              "      <td>1</td>\n",
              "      <td>retweet</td>\n",
              "      <td>0.100000</td>\n",
              "      <td>1.399423</td>\n",
              "      <td>0.139942</td>\n",
              "    </tr>\n",
              "    <tr>\n",
              "      <th>3</th>\n",
              "      <td>1</td>\n",
              "      <td>agree</td>\n",
              "      <td>0.100000</td>\n",
              "      <td>1.369079</td>\n",
              "      <td>0.136908</td>\n",
              "    </tr>\n",
              "    <tr>\n",
              "      <th>4</th>\n",
              "      <td>1</td>\n",
              "      <td>stage</td>\n",
              "      <td>0.100000</td>\n",
              "      <td>1.379870</td>\n",
              "      <td>0.137987</td>\n",
              "    </tr>\n",
              "    <tr>\n",
              "      <th>5</th>\n",
              "      <td>1</td>\n",
              "      <td>nyc</td>\n",
              "      <td>0.100000</td>\n",
              "      <td>1.353380</td>\n",
              "      <td>0.135338</td>\n",
              "    </tr>\n",
              "    <tr>\n",
              "      <th>6</th>\n",
              "      <td>1</td>\n",
              "      <td>protester</td>\n",
              "      <td>0.100000</td>\n",
              "      <td>1.388142</td>\n",
              "      <td>0.138814</td>\n",
              "    </tr>\n",
              "    <tr>\n",
              "      <th>7</th>\n",
              "      <td>1</td>\n",
              "      <td>protest</td>\n",
              "      <td>0.100000</td>\n",
              "      <td>1.377147</td>\n",
              "      <td>0.137715</td>\n",
              "    </tr>\n",
              "    <tr>\n",
              "      <th>8</th>\n",
              "      <td>1</td>\n",
              "      <td>anger</td>\n",
              "      <td>0.100000</td>\n",
              "      <td>1.388142</td>\n",
              "      <td>0.138814</td>\n",
              "    </tr>\n",
              "    <tr>\n",
              "      <th>9</th>\n",
              "      <td>1</td>\n",
              "      <td>misplace</td>\n",
              "      <td>0.100000</td>\n",
              "      <td>1.390935</td>\n",
              "      <td>0.139094</td>\n",
              "    </tr>\n",
              "    <tr>\n",
              "      <th>10</th>\n",
              "      <td>2</td>\n",
              "      <td>range</td>\n",
              "      <td>0.083333</td>\n",
              "      <td>2.219539</td>\n",
              "      <td>0.184962</td>\n",
              "    </tr>\n",
              "    <tr>\n",
              "      <th>11</th>\n",
              "      <td>2</td>\n",
              "      <td>trading</td>\n",
              "      <td>0.083333</td>\n",
              "      <td>1.928054</td>\n",
              "      <td>0.160671</td>\n",
              "    </tr>\n",
              "    <tr>\n",
              "      <th>12</th>\n",
              "      <td>2</td>\n",
              "      <td>stock</td>\n",
              "      <td>0.083333</td>\n",
              "      <td>1.457415</td>\n",
              "      <td>0.121451</td>\n",
              "    </tr>\n",
              "    <tr>\n",
              "      <th>13</th>\n",
              "      <td>2</td>\n",
              "      <td>mkt</td>\n",
              "      <td>0.083333</td>\n",
              "      <td>1.968483</td>\n",
              "      <td>0.164040</td>\n",
              "    </tr>\n",
              "    <tr>\n",
              "      <th>14</th>\n",
              "      <td>2</td>\n",
              "      <td>update</td>\n",
              "      <td>0.083333</td>\n",
              "      <td>1.393746</td>\n",
              "      <td>0.116146</td>\n",
              "    </tr>\n",
              "    <tr>\n",
              "      <th>15</th>\n",
              "      <td>2</td>\n",
              "      <td>apple</td>\n",
              "      <td>0.083333</td>\n",
              "      <td>0.578669</td>\n",
              "      <td>0.048222</td>\n",
              "    </tr>\n",
              "    <tr>\n",
              "      <th>16</th>\n",
              "      <td>2</td>\n",
              "      <td>intraday</td>\n",
              "      <td>0.083333</td>\n",
              "      <td>1.627024</td>\n",
              "      <td>0.135585</td>\n",
              "    </tr>\n",
              "    <tr>\n",
              "      <th>17</th>\n",
              "      <td>2</td>\n",
              "      <td>premium</td>\n",
              "      <td>0.083333</td>\n",
              "      <td>2.076117</td>\n",
              "      <td>0.173010</td>\n",
              "    </tr>\n",
              "    <tr>\n",
              "      <th>18</th>\n",
              "      <td>2</td>\n",
              "      <td>aapl</td>\n",
              "      <td>0.083333</td>\n",
              "      <td>0.594495</td>\n",
              "      <td>0.049541</td>\n",
              "    </tr>\n",
              "    <tr>\n",
              "      <th>19</th>\n",
              "      <td>2</td>\n",
              "      <td>stockaction</td>\n",
              "      <td>0.083333</td>\n",
              "      <td>2.024964</td>\n",
              "      <td>0.168747</td>\n",
              "    </tr>\n",
              "    <tr>\n",
              "      <th>20</th>\n",
              "      <td>2</td>\n",
              "      <td>user</td>\n",
              "      <td>0.083333</td>\n",
              "      <td>1.817839</td>\n",
              "      <td>0.151487</td>\n",
              "    </tr>\n",
              "    <tr>\n",
              "      <th>21</th>\n",
              "      <td>2</td>\n",
              "      <td>comment</td>\n",
              "      <td>0.083333</td>\n",
              "      <td>2.076117</td>\n",
              "      <td>0.173010</td>\n",
              "    </tr>\n",
              "    <tr>\n",
              "      <th>22</th>\n",
              "      <td>3</td>\n",
              "      <td>2014</td>\n",
              "      <td>0.111111</td>\n",
              "      <td>1.833079</td>\n",
              "      <td>0.203675</td>\n",
              "    </tr>\n",
              "    <tr>\n",
              "      <th>23</th>\n",
              "      <td>3</td>\n",
              "      <td>ios</td>\n",
              "      <td>0.111111</td>\n",
              "      <td>1.742418</td>\n",
              "      <td>0.193602</td>\n",
              "    </tr>\n",
              "    <tr>\n",
              "      <th>24</th>\n",
              "      <td>3</td>\n",
              "      <td>app</td>\n",
              "      <td>0.222222</td>\n",
              "      <td>1.463996</td>\n",
              "      <td>0.325332</td>\n",
              "    </tr>\n",
              "    <tr>\n",
              "      <th>25</th>\n",
              "      <td>3</td>\n",
              "      <td>name</td>\n",
              "      <td>0.111111</td>\n",
              "      <td>2.166293</td>\n",
              "      <td>0.240699</td>\n",
              "    </tr>\n",
              "    <tr>\n",
              "      <th>26</th>\n",
              "      <td>3</td>\n",
              "      <td>brain</td>\n",
              "      <td>0.111111</td>\n",
              "      <td>3.104146</td>\n",
              "      <td>0.344905</td>\n",
              "    </tr>\n",
              "    <tr>\n",
              "      <th>27</th>\n",
              "      <td>3</td>\n",
              "      <td>elevate</td>\n",
              "      <td>0.111111</td>\n",
              "      <td>2.467323</td>\n",
              "      <td>0.274147</td>\n",
              "    </tr>\n",
              "    <tr>\n",
              "      <th>28</th>\n",
              "      <td>3</td>\n",
              "      <td>training</td>\n",
              "      <td>0.111111</td>\n",
              "      <td>3.280237</td>\n",
              "      <td>0.364471</td>\n",
              "    </tr>\n",
              "    <tr>\n",
              "      <th>29</th>\n",
              "      <td>3</td>\n",
              "      <td>iphone</td>\n",
              "      <td>0.111111</td>\n",
              "      <td>0.991317</td>\n",
              "      <td>0.110146</td>\n",
              "    </tr>\n",
              "  </tbody>\n",
              "</table>\n",
              "</div>\n",
              "      <button class=\"colab-df-convert\" onclick=\"convertToInteractive('df-74b28d97-3dd2-455c-ad86-087765177eea')\"\n",
              "              title=\"Convert this dataframe to an interactive table.\"\n",
              "              style=\"display:none;\">\n",
              "        \n",
              "  <svg xmlns=\"http://www.w3.org/2000/svg\" height=\"24px\"viewBox=\"0 0 24 24\"\n",
              "       width=\"24px\">\n",
              "    <path d=\"M0 0h24v24H0V0z\" fill=\"none\"/>\n",
              "    <path d=\"M18.56 5.44l.94 2.06.94-2.06 2.06-.94-2.06-.94-.94-2.06-.94 2.06-2.06.94zm-11 1L8.5 8.5l.94-2.06 2.06-.94-2.06-.94L8.5 2.5l-.94 2.06-2.06.94zm10 10l.94 2.06.94-2.06 2.06-.94-2.06-.94-.94-2.06-.94 2.06-2.06.94z\"/><path d=\"M17.41 7.96l-1.37-1.37c-.4-.4-.92-.59-1.43-.59-.52 0-1.04.2-1.43.59L10.3 9.45l-7.72 7.72c-.78.78-.78 2.05 0 2.83L4 21.41c.39.39.9.59 1.41.59.51 0 1.02-.2 1.41-.59l7.78-7.78 2.81-2.81c.8-.78.8-2.07 0-2.86zM5.41 20L4 18.59l7.72-7.72 1.47 1.35L5.41 20z\"/>\n",
              "  </svg>\n",
              "      </button>\n",
              "      \n",
              "  <style>\n",
              "    .colab-df-container {\n",
              "      display:flex;\n",
              "      flex-wrap:wrap;\n",
              "      gap: 12px;\n",
              "    }\n",
              "\n",
              "    .colab-df-convert {\n",
              "      background-color: #E8F0FE;\n",
              "      border: none;\n",
              "      border-radius: 50%;\n",
              "      cursor: pointer;\n",
              "      display: none;\n",
              "      fill: #1967D2;\n",
              "      height: 32px;\n",
              "      padding: 0 0 0 0;\n",
              "      width: 32px;\n",
              "    }\n",
              "\n",
              "    .colab-df-convert:hover {\n",
              "      background-color: #E2EBFA;\n",
              "      box-shadow: 0px 1px 2px rgba(60, 64, 67, 0.3), 0px 1px 3px 1px rgba(60, 64, 67, 0.15);\n",
              "      fill: #174EA6;\n",
              "    }\n",
              "\n",
              "    [theme=dark] .colab-df-convert {\n",
              "      background-color: #3B4455;\n",
              "      fill: #D2E3FC;\n",
              "    }\n",
              "\n",
              "    [theme=dark] .colab-df-convert:hover {\n",
              "      background-color: #434B5C;\n",
              "      box-shadow: 0px 1px 3px 1px rgba(0, 0, 0, 0.15);\n",
              "      filter: drop-shadow(0px 1px 2px rgba(0, 0, 0, 0.3));\n",
              "      fill: #FFFFFF;\n",
              "    }\n",
              "  </style>\n",
              "\n",
              "      <script>\n",
              "        const buttonEl =\n",
              "          document.querySelector('#df-74b28d97-3dd2-455c-ad86-087765177eea button.colab-df-convert');\n",
              "        buttonEl.style.display =\n",
              "          google.colab.kernel.accessAllowed ? 'block' : 'none';\n",
              "\n",
              "        async function convertToInteractive(key) {\n",
              "          const element = document.querySelector('#df-74b28d97-3dd2-455c-ad86-087765177eea');\n",
              "          const dataTable =\n",
              "            await google.colab.kernel.invokeFunction('convertToInteractive',\n",
              "                                                     [key], {});\n",
              "          if (!dataTable) return;\n",
              "\n",
              "          const docLinkHtml = 'Like what you see? Visit the ' +\n",
              "            '<a target=\"_blank\" href=https://colab.research.google.com/notebooks/data_table.ipynb>data table notebook</a>'\n",
              "            + ' to learn more about interactive tables.';\n",
              "          element.innerHTML = '';\n",
              "          dataTable['output_type'] = 'display_data';\n",
              "          await google.colab.output.renderOutput(dataTable, element);\n",
              "          const docLink = document.createElement('div');\n",
              "          docLink.innerHTML = docLinkHtml;\n",
              "          element.appendChild(docLink);\n",
              "        }\n",
              "      </script>\n",
              "    </div>\n",
              "  </div>\n",
              "  "
            ],
            "text/plain": [
              "    Id Documento        Token        TF       IDF    TF-IDF\n",
              "0              1        store  0.100000  1.105596  0.110560\n",
              "1              1        diein  0.100000  1.399423  0.139942\n",
              "2              1      retweet  0.100000  1.399423  0.139942\n",
              "3              1        agree  0.100000  1.369079  0.136908\n",
              "4              1        stage  0.100000  1.379870  0.137987\n",
              "5              1          nyc  0.100000  1.353380  0.135338\n",
              "6              1    protester  0.100000  1.388142  0.138814\n",
              "7              1      protest  0.100000  1.377147  0.137715\n",
              "8              1        anger  0.100000  1.388142  0.138814\n",
              "9              1     misplace  0.100000  1.390935  0.139094\n",
              "10             2        range  0.083333  2.219539  0.184962\n",
              "11             2      trading  0.083333  1.928054  0.160671\n",
              "12             2        stock  0.083333  1.457415  0.121451\n",
              "13             2          mkt  0.083333  1.968483  0.164040\n",
              "14             2       update  0.083333  1.393746  0.116146\n",
              "15             2        apple  0.083333  0.578669  0.048222\n",
              "16             2     intraday  0.083333  1.627024  0.135585\n",
              "17             2      premium  0.083333  2.076117  0.173010\n",
              "18             2         aapl  0.083333  0.594495  0.049541\n",
              "19             2  stockaction  0.083333  2.024964  0.168747\n",
              "20             2         user  0.083333  1.817839  0.151487\n",
              "21             2      comment  0.083333  2.076117  0.173010\n",
              "22             3         2014  0.111111  1.833079  0.203675\n",
              "23             3          ios  0.111111  1.742418  0.193602\n",
              "24             3          app  0.222222  1.463996  0.325332\n",
              "25             3         name  0.111111  2.166293  0.240699\n",
              "26             3        brain  0.111111  3.104146  0.344905\n",
              "27             3      elevate  0.111111  2.467323  0.274147\n",
              "28             3     training  0.111111  3.280237  0.364471\n",
              "29             3       iphone  0.111111  0.991317  0.110146"
            ]
          },
          "metadata": {},
          "execution_count": 132
        }
      ]
    }
  ]
}