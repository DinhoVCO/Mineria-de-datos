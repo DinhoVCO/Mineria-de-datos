{
  "nbformat": 4,
  "nbformat_minor": 0,
  "metadata": {
    "colab": {
      "name": "ALGORITMO_APRIORI.ipynb",
      "provenance": [],
      "collapsed_sections": [],
      "authorship_tag": "ABX9TyPfSP0VpJ9F1o+hjB+TdFNu",
      "include_colab_link": true
    },
    "kernelspec": {
      "name": "python3",
      "display_name": "Python 3"
    },
    "language_info": {
      "name": "python"
    }
  },
  "cells": [
    {
      "cell_type": "markdown",
      "metadata": {
        "id": "view-in-github",
        "colab_type": "text"
      },
      "source": [
        "<a href=\"https://colab.research.google.com/github/DinhoVCO/Mineria-de-datos/blob/main/ALGORITMO_APRIORI.ipynb\" target=\"_parent\"><img src=\"https://colab.research.google.com/assets/colab-badge.svg\" alt=\"Open In Colab\"/></a>"
      ]
    },
    {
      "cell_type": "markdown",
      "metadata": {
        "id": "Obi43NUVgJdO"
      },
      "source": [
        "# **ALGORITMO APRIORI**\n",
        "---\n",
        "**UNIVERSIDAD NACIONAL DE SAN ANTONIO ABAD DEL CUSCO**\n",
        "\n",
        "\n",
        "> ESCUELA PROFESIONAL: Ing. Informatica y de Sistemas\n",
        "\n",
        "\n",
        "\n",
        "> CURSO: Minería de datos💻\n",
        "\n",
        "\n",
        "> ALUMNO : Vega Centeno Olivera Ronaldinho🧑\n",
        "\n",
        "\n",
        "\n",
        "\n",
        "\n"
      ]
    },
    {
      "cell_type": "markdown",
      "metadata": {
        "id": "x8vpD-Z8gHz1"
      },
      "source": [
        "##**Librerias**"
      ]
    },
    {
      "cell_type": "code",
      "metadata": {
        "id": "lHdAsC9cziM2"
      },
      "source": [
        "import numpy as np"
      ],
      "execution_count": 38,
      "outputs": []
    },
    {
      "cell_type": "markdown",
      "metadata": {
        "id": "I3LCBe7Nhl7d"
      },
      "source": [
        "## base de datos"
      ]
    },
    {
      "cell_type": "code",
      "metadata": {
        "id": "EdUD3wGWzeum",
        "colab": {
          "base_uri": "https://localhost:8080/"
        },
        "outputId": "f4d227c0-4978-449e-a922-15a4f7988ae6"
      },
      "source": [
        "#Importamos el archivo .npy en la variable data de tipo numpy.ndarray 0-dimensional\n",
        "data = np.load('spotify.npy',allow_pickle=True,fix_imports=True)\n",
        "#convertimos a una lista -> obtenemos un diccionario\n",
        "playlist=data.tolist()\n",
        "#Cantidad de playlist\n",
        "print(\"Total del PlayList:\",len(playlist))"
      ],
      "execution_count": 85,
      "outputs": [
        {
          "output_type": "stream",
          "name": "stdout",
          "text": [
            "Total del PlayList: 10000\n"
          ]
        }
      ]
    },
    {
      "cell_type": "code",
      "metadata": {
        "colab": {
          "base_uri": "https://localhost:8080/"
        },
        "id": "W1NiWtrsc3lI",
        "outputId": "b706a24f-3110-4fc0-b963-7af74787e40f"
      },
      "source": [
        "#Canciones de la playlist n° 1\n",
        "playlist[0]"
      ],
      "execution_count": 80,
      "outputs": [
        {
          "output_type": "execute_result",
          "data": {
            "text/plain": [
              "['Lose Control (feat. Ciara & Fat Man Scoop)',\n",
              " 'Toxic',\n",
              " 'Crazy In Love',\n",
              " 'Rock Your Body',\n",
              " \"It Wasn't Me\",\n",
              " 'Yeah!',\n",
              " 'My Boo',\n",
              " 'Buttons',\n",
              " 'Say My Name',\n",
              " 'Hey Ya! - Radio Mix / Club Mix',\n",
              " 'Promiscuous',\n",
              " 'Right Where You Want Me - Radio Edit Version',\n",
              " 'Beautiful Soul',\n",
              " \"Leavin'\",\n",
              " 'Me & U',\n",
              " 'Ice Box',\n",
              " 'Sk8er Boi',\n",
              " 'Run It!',\n",
              " 'Check On It - feat. Bun B and Slim Thug',\n",
              " \"Jumpin', Jumpin'\",\n",
              " 'Soak Up The Sun',\n",
              " 'Where Is The Love?',\n",
              " \"Stacy's Mom\",\n",
              " 'Just The Girl',\n",
              " 'Yo (Excuse Me Miss)',\n",
              " 'Year 3000',\n",
              " 'Lip Gloss',\n",
              " 'Everytime We Touch - Radio Edit',\n",
              " 'Whatcha Say',\n",
              " 'Miss Independent',\n",
              " 'Party In The U.S.A.',\n",
              " 'The Great Escape',\n",
              " 'Replay',\n",
              " 'Forever',\n",
              " 'Your Love Is My Drug',\n",
              " 'Closer',\n",
              " 'One Less Lonely Girl',\n",
              " 'Paper Planes',\n",
              " 'Mr. Brightside',\n",
              " 'All The Small Things',\n",
              " 'Beep',\n",
              " 'Somebody To Love',\n",
              " 'Dirty Little Secret',\n",
              " 'Baby',\n",
              " 'A Thousand Miles',\n",
              " 'Livin on Sunday',\n",
              " 'See You Again',\n",
              " 'How Do You Sleep? - Featuring Ludacris',\n",
              " 'This Is Me',\n",
              " 'My Happy Ending',\n",
              " 'Check Yes Juliet',\n",
              " 'The Great Escape']"
            ]
          },
          "metadata": {},
          "execution_count": 80
        }
      ]
    },
    {
      "cell_type": "markdown",
      "metadata": {
        "id": "ztejNm-0rGeh"
      },
      "source": [
        "### 3.- Preprocesar (lista de listas) ⏮ "
      ]
    },
    {
      "cell_type": "code",
      "metadata": {
        "id": "ANa55terp2tv"
      },
      "source": [
        "records=[]\n",
        "for i in playlist:\n",
        "  records.append(playlist[i])"
      ],
      "execution_count": 83,
      "outputs": []
    },
    {
      "cell_type": "markdown",
      "metadata": {
        "id": "AmThjFGjreb6"
      },
      "source": [
        "### 4.-Definir umbrales 🟠⏮ "
      ]
    },
    {
      "cell_type": "code",
      "metadata": {
        "id": "YOb7eK8GrdtQ"
      },
      "source": [
        "lon_min = 2 # Número mínimo de productos a considerar en las reglas\n",
        "\n",
        "veces_minimas_aparece_en_lista=2\n",
        "soporte_min = veces_minimas_aparece_en_lista / len(playlist)\n",
        "\n",
        "confianza_min =0.5\n",
        "sustento_min =1.5"
      ],
      "execution_count": 87,
      "outputs": []
    }
  ]
}