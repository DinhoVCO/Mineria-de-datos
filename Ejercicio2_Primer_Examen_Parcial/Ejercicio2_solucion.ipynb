{
 "cells": [
  {
   "cell_type": "markdown",
   "id": "90be15bc",
   "metadata": {},
   "source": [
    "# PREGUNTA 2\n",
    "ALUMNO : RONALDINHO VEGA CENTENO OLIVERA"
   ]
  },
  {
   "cell_type": "code",
   "execution_count": 34,
   "id": "500412c6",
   "metadata": {},
   "outputs": [],
   "source": [
    "-- modulo para hallamar el mcm de una lista\n",
    "lcmm :: [Int] -> Int              \n",
    "lcmm [] = 0                        -- si la lista esta vacia\n",
    "lcmm [x] = x                       -- si tiene solo un lemento\n",
    "lcmm [a, b] = lcm a b              -- si tiene 2 elementos\n",
    "lcmm (x: xs) = lcm x (lcmm xs)     -- si tiene + de 2 elementos, recursividad"
   ]
  },
  {
   "cell_type": "code",
   "execution_count": 35,
   "id": "5d16fb69",
   "metadata": {},
   "outputs": [
    {
     "data": {
      "text/plain": [
       "840"
      ]
     },
     "metadata": {},
     "output_type": "display_data"
    }
   ],
   "source": [
    "a=[1..8]\n",
    "lcmm a"
   ]
  },
  {
   "cell_type": "code",
   "execution_count": 36,
   "id": "edc7642b",
   "metadata": {},
   "outputs": [
    {
     "data": {
      "text/plain": [
       "5.0"
      ]
     },
     "metadata": {},
     "output_type": "display_data"
    },
    {
     "data": {
      "text/plain": [
       "15.0"
      ]
     },
     "metadata": {},
     "output_type": "display_data"
    },
    {
     "data": {
      "text/plain": [
       "12.0"
      ]
     },
     "metadata": {},
     "output_type": "display_data"
    }
   ],
   "source": [
    "-- devuelva la media de los n primeros números\n",
    "-- que devuelven True a la función del ejercicio anterior.\n",
    "mediaDivN :: Int -> Int -> Float\n",
    "mediaDivN d n = m\n",
    "    where\n",
    "        -- hallamos el primer valor que cumpla con la funcion anterior \n",
    "        numeros = [1..d]\n",
    "        primero = lcmm numeros\n",
    "        -- hallamos la media\n",
    "        m = fromIntegral primero * fromIntegral (n+1) /2\n",
    "        \n",
    "mediaDivN 2 4\n",
    "mediaDivN 3 4\n",
    "mediaDivN 3 3"
   ]
  }
 ],
 "metadata": {
  "kernelspec": {
   "display_name": "Haskell",
   "language": "haskell",
   "name": "haskell"
  },
  "language_info": {
   "codemirror_mode": "ihaskell",
   "file_extension": ".hs",
   "mimetype": "text/x-haskell",
   "name": "haskell",
   "pygments_lexer": "Haskell",
   "version": "8.10.7"
  }
 },
 "nbformat": 4,
 "nbformat_minor": 5
}
