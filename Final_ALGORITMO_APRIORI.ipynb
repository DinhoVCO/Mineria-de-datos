{
  "nbformat": 4,
  "nbformat_minor": 0,
  "metadata": {
    "colab": {
      "name": "Final_ALGORITMO_APRIORI.ipynb",
      "provenance": [],
      "collapsed_sections": [],
      "authorship_tag": "ABX9TyPsd0NARxSV7xKiJ7Z1RxKM",
      "include_colab_link": true
    },
    "kernelspec": {
      "name": "python3",
      "display_name": "Python 3"
    },
    "language_info": {
      "name": "python"
    }
  },
  "cells": [
    {
      "cell_type": "markdown",
      "metadata": {
        "id": "view-in-github",
        "colab_type": "text"
      },
      "source": [
        "<a href=\"https://colab.research.google.com/github/DinhoVCO/Mineria-de-datos/blob/main/Final_ALGORITMO_APRIORI.ipynb\" target=\"_parent\"><img src=\"https://colab.research.google.com/assets/colab-badge.svg\" alt=\"Open In Colab\"/></a>"
      ]
    },
    {
      "cell_type": "markdown",
      "metadata": {
        "id": "Obi43NUVgJdO"
      },
      "source": [
        "# **ALGORITMO APRIORI**\n",
        "---\n",
        "**UNIVERSIDAD NACIONAL DE SAN ANTONIO ABAD DEL CUSCO**\n",
        "\n",
        "\n",
        "> ESCUELA PROFESIONAL: Ing. Informatica y de Sistemas\n",
        "\n",
        "\n",
        "\n",
        "> CURSO: Minería de datos💻\n",
        "\n",
        "\n",
        "> ALUMNO : Vega Centeno Olivera, Ronaldinho🧑\n",
        "\n",
        "\n",
        "\n",
        "\n",
        "\n"
      ]
    },
    {
      "cell_type": "markdown",
      "metadata": {
        "id": "x8vpD-Z8gHz1"
      },
      "source": [
        "\n",
        "\n",
        "##**1.-Instalar bibliotecas**"
      ]
    },
    {
      "cell_type": "code",
      "metadata": {
        "id": "lHdAsC9cziM2"
      },
      "source": [
        "import numpy as np #para procesar el dataset\n",
        "import statistics as stats #para hallar medidas estadisticas"
      ],
      "execution_count": null,
      "outputs": []
    },
    {
      "cell_type": "markdown",
      "metadata": {
        "id": "I3LCBe7Nhl7d"
      },
      "source": [
        "## **2.-Importar datos**"
      ]
    },
    {
      "cell_type": "code",
      "metadata": {
        "id": "EdUD3wGWzeum",
        "colab": {
          "base_uri": "https://localhost:8080/"
        },
        "outputId": "f002f1a9-213b-4bf1-aa58-ca965ed36cd8"
      },
      "source": [
        "#Importamos el archivo .npy en la variable data de tipo numpy.ndarray 0-dimensional\n",
        "data = np.load('spotify.npy',allow_pickle=True,fix_imports=True)\n",
        "#convertimos a una lista -> obtenemos un diccionario\n",
        "data=data.tolist()\n",
        "#Cantidad de playlist\n",
        "print(\"Total de PlayLists:\",len(data))"
      ],
      "execution_count": null,
      "outputs": [
        {
          "output_type": "stream",
          "name": "stdout",
          "text": [
            "Total de PlayLists: 10000\n"
          ]
        }
      ]
    },
    {
      "cell_type": "code",
      "metadata": {
        "colab": {
          "base_uri": "https://localhost:8080/"
        },
        "id": "W1NiWtrsc3lI",
        "outputId": "932b121e-37b8-4875-9caf-f71167ad0483"
      },
      "source": [
        "#Canciones de la playlist n° 0 sin repeticiones y ordenadas alfabeticamente\n",
        "set(data[0][0:5])"
      ],
      "execution_count": null,
      "outputs": [
        {
          "output_type": "execute_result",
          "data": {
            "text/plain": [
              "{'Crazy In Love',\n",
              " \"It Wasn't Me\",\n",
              " 'Lose Control (feat. Ciara & Fat Man Scoop)',\n",
              " 'Rock Your Body',\n",
              " 'Toxic'}"
            ]
          },
          "metadata": {},
          "execution_count": 318
        }
      ]
    },
    {
      "cell_type": "markdown",
      "metadata": {
        "id": "ztejNm-0rGeh"
      },
      "source": [
        "##**3.- Preprocesar (lista de listas)**"
      ]
    },
    {
      "cell_type": "code",
      "metadata": {
        "id": "F3cJrYh4xseT"
      },
      "source": [
        "#Generamos una lista de canciones unicas y de playlist sin canciones repetidas\n",
        "def dataset_preprocessing(data):\n",
        "  playlist=[]\n",
        "  songs=set()\n",
        "  for i in data:\n",
        "    playlist.append(set(data[i]))\n",
        "    songs|=set(data[i])\n",
        "  \n",
        "  songs=[[i] for i in list(songs)]\n",
        "  songs.sort()\n",
        "  return list(map(frozenset,songs)), playlist"
      ],
      "execution_count": null,
      "outputs": []
    },
    {
      "cell_type": "code",
      "metadata": {
        "colab": {
          "base_uri": "https://localhost:8080/"
        },
        "id": "d54P5s1joTJG",
        "outputId": "9f84e8d7-08f6-4a0c-a79a-a6611bf2f89d"
      },
      "source": [
        "songs, playlist = dataset_preprocessing(data)\n",
        "print('Total de canciones distintas:', len(songs))\n",
        "print('Total de Playlists(transaccciones):', len(playlist))"
      ],
      "execution_count": null,
      "outputs": [
        {
          "output_type": "stream",
          "name": "stdout",
          "text": [
            "Total de canciones distintas: 132920\n",
            "Total de Playlists(transaccciones): 10000\n"
          ]
        }
      ]
    },
    {
      "cell_type": "code",
      "metadata": {
        "colab": {
          "base_uri": "https://localhost:8080/"
        },
        "id": "iVdl_NkY3esC",
        "outputId": "c28c8683-3697-45ee-cdb8-0f1c3ed935ec"
      },
      "source": [
        "#Tres canciones\n",
        "songs[:3]"
      ],
      "execution_count": null,
      "outputs": [
        {
          "output_type": "execute_result",
          "data": {
            "text/plain": [
              "[frozenset({'!Dios Mio! El Diablo Es Muy Picante'}),\n",
              " frozenset({'\"*!*!\" What U Heard'}),\n",
              " frozenset({'\"2014: A Pesach Medley\"'})]"
            ]
          },
          "metadata": {},
          "execution_count": 325
        }
      ]
    },
    {
      "cell_type": "code",
      "metadata": {
        "colab": {
          "base_uri": "https://localhost:8080/"
        },
        "id": "vEkMWYA9p_2S",
        "outputId": "36b99bb4-0940-4a92-88db-9aa362a38dbd"
      },
      "source": [
        "#Plailist n°999\n",
        "playlist[999]"
      ],
      "execution_count": null,
      "outputs": [
        {
          "output_type": "execute_result",
          "data": {
            "text/plain": [
              "{'A Quién Le Importa',\n",
              " 'Amor De Pobre - No Tengo Dinero (Hip-Hop Version)',\n",
              " 'El Hombre Es Como El Oso',\n",
              " 'El Mario de Tu Mujer (feat. Don Miguelo)',\n",
              " 'El Regeton',\n",
              " 'El Tao Tao',\n",
              " 'Juana La Cubana',\n",
              " 'La Bomba',\n",
              " 'La Mesa Que Mas Aplauda (Za Za Za)',\n",
              " 'La Vaca',\n",
              " 'Muévelo',\n",
              " 'Party In Miami',\n",
              " 'Que Lo Que',\n",
              " 'Tu Pun Pun',\n",
              " 'Un Ladrón'}"
            ]
          },
          "metadata": {},
          "execution_count": 326
        }
      ]
    },
    {
      "cell_type": "markdown",
      "metadata": {
        "id": "AmThjFGjreb6"
      },
      "source": [
        "## **4.-Definir umbrales** 🟠⏮ "
      ]
    },
    {
      "cell_type": "code",
      "metadata": {
        "colab": {
          "base_uri": "https://localhost:8080/"
        },
        "id": "F4t_Wg_A6eND",
        "outputId": "759e90e6-1847-4e28-f949-fe18a3162553"
      },
      "source": [
        "frequencies=dict()\n",
        "for i in playlist:\n",
        "  for j in i:\n",
        "    frequencies[j] =frequencies.get(j, 0) + 1\n",
        "frecuencias=list(frequencies.values())\n",
        "frecuencias.sort()\n",
        "#print(frecuencias)\n",
        "print(len(frecuencias))"
      ],
      "execution_count": 710,
      "outputs": [
        {
          "output_type": "stream",
          "name": "stdout",
          "text": [
            "132920\n"
          ]
        }
      ]
    },
    {
      "cell_type": "code",
      "metadata": {
        "colab": {
          "base_uri": "https://localhost:8080/"
        },
        "id": "wlWQFNwtX1Ak",
        "outputId": "2c565c3f-2c31-4b06-c873-93d9366173b4"
      },
      "source": [
        "print(\"Media aritmética: \",stats.mean(frecuencias))\n",
        "print(\"Media armónica: \",stats.harmonic_mean(frecuencias)) \n",
        "print(\"Mediana: \",stats.median(frecuencias))\n",
        "print(\"Mediana baja: \",stats.median_low(frecuencias))\n",
        "print(\"Mediana alta: \",stats.median_high(frecuencias))\n",
        "print(\"Percentil 50:\",stats.median_grouped(frecuencias)) \n",
        "print(\"Moda: \",stats.mode(frecuencias)) \n",
        "print(\"Varianza poblacional : \",stats.pvariance(frecuencias)) \n",
        "print(\"Desviación estándar: \",stats.pstdev(frecuencias))\n",
        "print(\"Varianza muestral :\",stats.variance(frecuencias)) "
      ],
      "execution_count": null,
      "outputs": [
        {
          "output_type": "stream",
          "name": "stdout",
          "text": [
            "Media aritmética:  4.910028588624737\n",
            "Media armónica:  1.4028898793768465\n",
            "Mediana:  1.0\n",
            "Mediana baja:  1\n",
            "Mediana alta:  1\n",
            "Percentil 50: 1.3384321344317307\n",
            "Moda:  1\n",
            "Varianza poblacional :  254.75020336963107\n",
            "Desviación estándar:  15.960896070384992\n",
            "Varianza muestral : 254.75211995193587\n"
          ]
        }
      ]
    },
    {
      "cell_type": "code",
      "metadata": {
        "id": "YOb7eK8GrdtQ"
      },
      "source": [
        "lon_min = 2 # Número mínimo de productos a considerar en las reglas\n",
        "veces_minimas_aparece_en_lista=100\n",
        "soporte_min = veces_minimas_aparece_en_lista / len(playlist)\n",
        "confianza_min =0.5\n",
        "sustento_min =1.5"
      ],
      "execution_count": null,
      "outputs": []
    },
    {
      "cell_type": "markdown",
      "metadata": {
        "id": "HiU4aajy4P_q"
      },
      "source": [
        "## **5.-Ejecutar algoritmo** "
      ]
    },
    {
      "cell_type": "markdown",
      "metadata": {
        "id": "vFKqAiIO65_2"
      },
      "source": [
        "### **5.1. Get frequent items**"
      ]
    },
    {
      "cell_type": "markdown",
      "metadata": {
        "id": "NE3yLNhP7pYl"
      },
      "source": [
        "#### get_first_frequent_items"
      ]
    },
    {
      "cell_type": "code",
      "metadata": {
        "id": "of-BOb3XolMF"
      },
      "source": [
        "#Modulo optimo para obtener 1-itemsetfrequents\n",
        "def get_first_frequent_items(transactions, k_itemSet,minSupport):\n",
        "  frequencies=dict()\n",
        "  for i in transactions:\n",
        "    for j in i:\n",
        "      frequencies[j] =frequencies.get(j, 0) + 1\n",
        "  TotalTransactions = float(len(transactions))\n",
        "  ItemSetFrequent = []\n",
        "  supportItemSet = {}\n",
        "  for key in frequencies:\n",
        "      support = frequencies[key] / TotalTransactions  # Calcular soporte\n",
        "      if support >= minSupport:  # Si el soporte es mayor que el soporte mínimo establecido\n",
        "          ItemSetFrequent.insert(0,key)\n",
        "          #ItemSetFrequent.append(key)\n",
        "      supportItemSet[key] = support\n",
        "  ItemSetFrequent.sort()\n",
        "  ItemSetFrequent=[frozenset({i}) for i in ItemSetFrequent ]\n",
        "  return ItemSetFrequent, supportItemSet"
      ],
      "execution_count": null,
      "outputs": []
    },
    {
      "cell_type": "code",
      "metadata": {
        "colab": {
          "base_uri": "https://localhost:8080/"
        },
        "id": "y40mwhacVPqn",
        "outputId": "6ca9b4b2-9110-4596-8287-784cdd5594a8"
      },
      "source": [
        "ItemSetFrequent_1,support = get_first_frequent_items(playlist[:2],songs,0.015)\n",
        "print( 'Cantidad de  1-ItemSetFrequent: ', len(ItemSetFrequent_1))\n",
        "print('Cantidad de support hallados:',len(support))\n",
        "print('Canciones: ', ItemSetFrequent_1[:5])\n",
        "print(\"Support de 'A Million Miles Away'=\", support['A Million Miles Away'])\n"
      ],
      "execution_count": 714,
      "outputs": [
        {
          "output_type": "stream",
          "name": "stdout",
          "text": [
            "Cantidad de  1-ItemSetFrequent:  224\n",
            "Cantidad de support hallados: 224\n",
            "Canciones:  [frozenset({'A Million Miles Away'}), frozenset({'A Star Is Born'}), frozenset({'A Thousand Miles'}), frozenset({'A True Hero / A Star Is Born'}), frozenset({'A Whole New World'})]\n",
            "Support de 'A Million Miles Away'= 0.5\n"
          ]
        }
      ]
    },
    {
      "cell_type": "markdown",
      "metadata": {
        "id": "CBG2r3uW8v65"
      },
      "source": [
        "#### get_frequent_items"
      ]
    },
    {
      "cell_type": "code",
      "metadata": {
        "id": "bKdOQH7n-HkZ"
      },
      "source": [
        "def get_frequent_items(transactions, k_itemSet,minSupport):\n",
        "  frequencies=dict()\n",
        "  for i in transactions:\n",
        "    for j in k_itemSet:\n",
        "      if (j<=i):\n",
        "        frequencies[j] =frequencies.get(j, 0) + 1\n",
        "  TotalTransactions = float(len(transactions))\n",
        "  ItemSetFrequent = []\n",
        "  supportItemSet = {}\n",
        "  for key in frequencies:\n",
        "      support = frequencies[key] / TotalTransactions  # Calcular soporte\n",
        "      if support >= minSupport:  # Si el soporte es mayor que el soporte mínimo establecido\n",
        "          ItemSetFrequent.insert(0,key)\n",
        "          #ItemSetFrequent.append(key)\n",
        "      supportItemSet[key] = support\n",
        "  ItemSetFrequent.sort()\n",
        "  return ItemSetFrequent, supportItemSet\n",
        "  \n"
      ],
      "execution_count": null,
      "outputs": []
    },
    {
      "cell_type": "code",
      "metadata": {
        "colab": {
          "base_uri": "https://localhost:8080/"
        },
        "id": "9sKkUUt6Pe6d",
        "outputId": "289c99eb-7e9e-4329-f08f-6040e9dece82"
      },
      "source": [
        "frec,k = get_first_frequent_items(D[:2], C1, 0.015)\n",
        "print(len(frec))\n",
        "print(len(k))\n",
        "print(k)"
      ],
      "execution_count": null,
      "outputs": [
        {
          "output_type": "stream",
          "name": "stdout",
          "text": [
            "224\n",
            "224\n",
            "{'Everytime We Touch - Radio Edit': 0.5, 'Right Where You Want Me - Radio Edit Version': 0.5, 'Check Yes Juliet': 0.5, 'Lip Gloss': 0.5, 'How Do You Sleep? - Featuring Ludacris': 0.5, 'Say My Name': 0.5, 'Toxic': 0.5, 'Yo (Excuse Me Miss)': 0.5, 'Crazy In Love': 0.5, 'Beautiful Soul': 0.5, 'Whatcha Say': 0.5, 'Just The Girl': 0.5, 'Dirty Little Secret': 0.5, 'Sk8er Boi': 0.5, 'Hey Ya! - Radio Mix / Club Mix': 0.5, 'Year 3000': 0.5, 'The Great Escape': 0.5, 'Replay': 0.5, 'Mr. Brightside': 0.5, 'Run It!': 0.5, 'Yeah!': 0.5, 'All The Small Things': 0.5, 'A Thousand Miles': 0.5, 'My Boo': 0.5, 'My Happy Ending': 0.5, 'Your Love Is My Drug': 0.5, 'Baby': 0.5, 'Where Is The Love?': 0.5, 'Buttons': 0.5, 'Forever': 0.5, \"Stacy's Mom\": 0.5, 'Party In The U.S.A.': 0.5, 'Ice Box': 0.5, \"Jumpin', Jumpin'\": 0.5, 'Lose Control (feat. Ciara & Fat Man Scoop)': 0.5, 'Me & U': 0.5, 'Miss Independent': 0.5, 'Check On It - feat. Bun B and Slim Thug': 0.5, \"Leavin'\": 0.5, 'See You Again': 0.5, 'Closer': 0.5, 'Promiscuous': 0.5, \"It Wasn't Me\": 0.5, 'Somebody To Love': 0.5, 'Livin on Sunday': 0.5, 'This Is Me': 0.5, 'One Less Lonely Girl': 0.5, 'Beep': 0.5, 'Soak Up The Sun': 0.5, 'Rock Your Body': 0.5, 'Paper Planes': 0.5, 'Kiss the Girl - From \"The Little Mermaid\"/Soundtrack Version': 0.5, 'Daughters Of Triton - Broadway Cast Recording': 0.5, \"If I Can't Love Her - Reprise\": 0.5, 'The Kiss': 0.5, 'Under the Sea (Reprise) - Broadway Cast Recording': 0.5, 'Finale Ultimo': 0.5, 'The Oracle': 0.5, 'Poor Unfortunate Souls - From \"The Little Mermaid\" / Soundtrack Version': 0.5, 'The Mob Song': 0.5, 'Prince Ali (Reprise)': 0.5, 'High Adventure': 0.5, 'I Need to Know - Broadway Cast Recording': 0.5, 'Two Worlds': 0.5, 'Go the Distance': 0.5, 'Different - Broadway Cast Recording': 0.5, 'A Million Miles Away': 0.5, 'The Battle': 0.5, 'Overture - Broadway Cast Recording': 0.5, 'Prince Ali (Jafar Reprise)': 0.5, 'Beauty and the Beast': 0.5, 'Forget About Love (The Return Of Jafar)': 0.5, 'Part Of Your World (Reprise) - Broadway Cast Recording': 0.5, 'Beauty and the Beast - Duet with Peabo Bryson from the Soundtrack \"Beauty and the Beast\"': 0.5, 'Fathoms Below - Broadway Cast Recording': 0.5, 'The Gospel Truth II': 0.5, \"You'll Be In My Heart (Reprise) - Broadway Cast Recording\": 0.5, 'The Hand Of Midas': 0.5, 'Babkak, Omar, Aladdin, Kassim': 0.5, 'Welcome To The Forty Thieves': 0.5, \"If I Can't Love Her\": 0.5, \"I Won't Say (I'm in Love)\": 0.5, 'How Long Must This Go On?': 0.5, 'Prince Ali (Sultan Reprise)': 0.5, \"A Whole New World (Aladdin's Theme)\": 0.5, 'Zeus Todopoderoso': 0.5, 'Alley Talk/Guards Chase Aladdin': 0.5, 'Happy Ending - From \"The Little Mermaid\"/ Soundtrack Version': 0.5, \"Jafar's Hour\": 0.5, 'Go the Distance (Reprise)': 0.5, 'Prologue: Beauty And The Beast - Soundtrack': 0.5, 'Sweet Child - Broadway Cast Recording': 0.5, 'Human Stuff - Broadway Cast Recording': 0.5, 'Genie And Jasmine/Cassim Leaves': 0.5, 'A Whole New World': 0.5, 'Act One Finale': 0.5, 'If Only (Reprise) - Broadway Cast Recording': 0.5, 'Overture': 0.5, 'For The First Time - Broadway Cast Recording': 0.5, 'Two Worlds (Finale) - Broadway Cast Recording': 0.5, 'Gaston - Reprise': 0.5, 'Marketplace': 0.5, 'La Profecia': 0.5, 'Be Our Guest': 0.5, \"Entr'Acte/Wolf Chase\": 0.5, 'One Jump Ahead (Reprise)': 0.5, 'No Matter What/Wolf Chase - Reprise': 0.5, 'Under the Sea - Broadway Cast Recording': 0.5, 'Sure As Sun Turns to Moon (Reprise) - Broadway Cast Recording': 0.5, 'Gaston (Reprise)': 0.5, 'Battle On The Tower': 0.5, 'Son of Man - Broadway Cast Recording': 0.5, 'Wedding/Attack Of The Forty Thieves': 0.5, \"Somebody's Got Your Back\": 0.5, 'The Beast Lets Belle Go': 0.5, 'Poor Unfortunate Souls - Broadway Cast Recording': 0.5, 'End Credits (Aladdin And The King Of Thieves)': 0.5, 'Who Better Than Me? (Reprise) - Broadway Cast Recording': 0.5, 'Out Of Thin Air': 0.5, 'Part of Your World (Reprise) - From \"The Little Mermaid\"/ Soundtrack Version': 0.5, \"I'm Looking Out For Me (The Return Of Jafar)\": 0.5, 'The Ends Of The Earth': 0.5, 'Storm at Sea - Broadway Cast Recording': 0.5, 'Home - Reprise': 0.5, 'Cortando La Hebra': 0.5, 'Finale - Broadway Cast Recording': 0.5, 'La Gran Aceituna': 0.5, 'Belle - Reprise': 0.5, 'Her Voice - Broadway Cast Recording': 0.5, 'Aladdin And Cassim Escape': 0.5, 'Positoovity - Broadway Cast Recording': 0.5, 'The Batalla Con La Hidra': 0.5, 'Main Title - The Little Mermaid - From \"The Little Mermaid\"/ Score': 0.5, 'Arabian Nights Reprise': 0.5, 'Go the Distance - From \"Hercules\"/Soundtrack': 0.5, 'Home': 0.5, 'Prince Ali': 0.5, 'Maison Des Lunes': 0.5, \"There's A Party Here In Agrabah, Part I\": 0.5, 'One Jump Ahead': 0.5, 'End Duet / Transformation': 0.5, 'On A Dark Night': 0.5, 'Transformation': 0.5, 'Long Ago...': 0.5, 'Kiss the Girl': 0.5, 'One Step Closer - Broadway Cast Recording': 0.5, 'Beyond My Wildest Dreams - Broadway Cast Recording': 0.5, 'Waiting For This Moment - Broadway Cast Recording': 0.5, 'The World Above (Reprise) - Broadway Cast Recording': 0.5, 'Kiss the Girl - Broadway Cast Recording': 0.5, 'Belle Reprise - Soundtrack': 0.5, 'Zero To Hero': 0.5, 'Who Better Than Me - Broadway Cast Recording': 0.5, \"Trashin' The Camp - Broadway Cast Recording\": 0.5, 'La Villa De Hércules': 0.5, 'The World Above - Broadway Cast Recording': 0.5, 'Proud of Your Boy (Reprise)': 0.5, 'No Other Way - Broadway Cast Recording': 0.5, 'The Cave Of Wonders': 0.5, \"Aladdin's World\": 0.5, 'The Gospel Truth III': 0.5, 'A Star Is Born': 0.5, 'An Unusual Prince/Once Upon A Dream - From \"Sleeping Beauty\"/Soundtrack Version': 0.5, 'Sure As Sun Turns to Moon - Broadway Cast Recording': 0.5, 'The Gospel Truth I / Main Titles - Hercules': 0.5, 'Part of Your World - From \"The Little Mermaid\"/ Soundtrack Version': 0.5, 'Prologue (The Enchantress)': 0.5, 'Poor Unfortunate Souls (Reprise) - Broadway Cast Recording': 0.5, 'Magic Carpet/Parting The Seas': 0.5, 'A True Hero / A Star Is Born': 0.5, 'These Palace Walls': 0.5, 'Two Worlds - Phil Version': 0.5, 'Legend Of The Lamp': 0.5, \"There's A Party Here In Agrabah, Part II\": 0.5, 'Diamond in the Rough': 0.5, \"You'll Be In My Heart\": 0.5, 'Arabian Nights': 0.5, 'Rodeo': 0.5, 'Beauty And The Beast': 0.5, 'El Jardín De Meg': 0.5, \"You'll Be In My Heart - Broadway Cast Recording\": 0.5, 'Human Again': 0.5, 'Part Of Your World': 0.5, 'One Last Hope': 0.5, 'Something There': 0.5, 'Sweet Child (Reprise) - Broadway Cast Recording': 0.5, 'You\\'re Only Second Rate - From \"The Return of Jafar\" / Soundtrack Version': 0.5, 'I Want the Good Times Back (Reprise) - Broadway Cast Recording': 0.5, 'Are You In Or Out?': 0.5, 'If Only (Quartet) - Broadway Cast Recording': 0.5, 'Happy End In Agrabah': 0.5, 'Me': 0.5, 'Proud of Your Boy': 0.5, 'The Mob Song - Soundtrack': 0.5, 'Son Of Man': 0.5, \"Like No Man I've Ever Seen - Broadway Cast Recording\": 0.5, 'No Matter What': 0.5, 'El Más Mentecato': 0.5, 'Beauty And The Beast (Reprise)': 0.5, 'Dark Mountain/The Challenge': 0.5, 'Two Worlds Reprise': 0.5, 'To Be Free': 0.5, 'Two Worlds Finale': 0.5, 'Street Urchins': 0.5, 'Belle': 0.5, 'Everything That I Am - Broadway Cast Recording': 0.5, 'Jasmine Runs Away': 0.5, 'I Want the Good Times Back - Broadway Cast Recording': 0.5, 'West Wing': 0.5, 'Be Our Guest - From \"Beauty and the Beast\"/Soundtrack': 0.5, 'La Isla De Fil': 0.5, 'Hablando Del Rey De Tebas': 0.5, 'To The Fair': 0.5, 'Daughters of Triton - From \"The Little Mermaid\"/ Soundtrack Version': 0.5, \"She's in Love - Broadway Cast Recording\": 0.5, 'The Contest - Broadway Cast Recording': 0.5, 'Destrucción Del Agora': 0.5, 'Gaston - From \"Beauty and the Beast\" / Soundtrack Version': 0.5, 'Under the Sea - From \"The Little Mermaid\"/ Soundtrack Version': 0.5, 'Strangers Like Me - Broadway Cast Recording': 0.5, 'Friend Like Me': 0.5, 'Father And Son': 0.5, 'Genie Medley': 0.5, 'Gaston': 0.5}\n"
          ]
        }
      ]
    },
    {
      "cell_type": "code",
      "metadata": {
        "colab": {
          "base_uri": "https://localhost:8080/"
        },
        "id": "zTJk94iHPGEm",
        "outputId": "18ebc1eb-4282-4186-8a6d-b9f230ccc8b0"
      },
      "source": [
        "frec,k = get_frequent_items(D[:2], C1, 0.001)\n",
        "print(len(frec))\n",
        "print(len(k))\n",
        "print(k)\n",
        "print(k)"
      ],
      "execution_count": null,
      "outputs": [
        {
          "output_type": "stream",
          "name": "stdout",
          "text": [
            "224\n",
            "224\n",
            "{frozenset({'A Thousand Miles'}): 0.5, frozenset({'All The Small Things'}): 0.5, frozenset({'Baby'}): 0.5, frozenset({'Beautiful Soul'}): 0.5, frozenset({'Beep'}): 0.5, frozenset({'Buttons'}): 0.5, frozenset({'Check On It - feat. Bun B and Slim Thug'}): 0.5, frozenset({'Check Yes Juliet'}): 0.5, frozenset({'Closer'}): 0.5, frozenset({'Crazy In Love'}): 0.5, frozenset({'Dirty Little Secret'}): 0.5, frozenset({'Everytime We Touch - Radio Edit'}): 0.5, frozenset({'Forever'}): 0.5, frozenset({'Hey Ya! - Radio Mix / Club Mix'}): 0.5, frozenset({'How Do You Sleep? - Featuring Ludacris'}): 0.5, frozenset({'Ice Box'}): 0.5, frozenset({\"It Wasn't Me\"}): 0.5, frozenset({\"Jumpin', Jumpin'\"}): 0.5, frozenset({'Just The Girl'}): 0.5, frozenset({\"Leavin'\"}): 0.5, frozenset({'Lip Gloss'}): 0.5, frozenset({'Livin on Sunday'}): 0.5, frozenset({'Lose Control (feat. Ciara & Fat Man Scoop)'}): 0.5, frozenset({'Me & U'}): 0.5, frozenset({'Miss Independent'}): 0.5, frozenset({'Mr. Brightside'}): 0.5, frozenset({'My Boo'}): 0.5, frozenset({'My Happy Ending'}): 0.5, frozenset({'One Less Lonely Girl'}): 0.5, frozenset({'Paper Planes'}): 0.5, frozenset({'Party In The U.S.A.'}): 0.5, frozenset({'Promiscuous'}): 0.5, frozenset({'Replay'}): 0.5, frozenset({'Right Where You Want Me - Radio Edit Version'}): 0.5, frozenset({'Rock Your Body'}): 0.5, frozenset({'Run It!'}): 0.5, frozenset({'Say My Name'}): 0.5, frozenset({'See You Again'}): 0.5, frozenset({'Sk8er Boi'}): 0.5, frozenset({'Soak Up The Sun'}): 0.5, frozenset({'Somebody To Love'}): 0.5, frozenset({\"Stacy's Mom\"}): 0.5, frozenset({'The Great Escape'}): 0.5, frozenset({'This Is Me'}): 0.5, frozenset({'Toxic'}): 0.5, frozenset({'Whatcha Say'}): 0.5, frozenset({'Where Is The Love?'}): 0.5, frozenset({'Yeah!'}): 0.5, frozenset({'Year 3000'}): 0.5, frozenset({'Yo (Excuse Me Miss)'}): 0.5, frozenset({'Your Love Is My Drug'}): 0.5, frozenset({'A Million Miles Away'}): 0.5, frozenset({'A Star Is Born'}): 0.5, frozenset({'A True Hero / A Star Is Born'}): 0.5, frozenset({'A Whole New World'}): 0.5, frozenset({\"A Whole New World (Aladdin's Theme)\"}): 0.5, frozenset({'Act One Finale'}): 0.5, frozenset({'Aladdin And Cassim Escape'}): 0.5, frozenset({\"Aladdin's World\"}): 0.5, frozenset({'Alley Talk/Guards Chase Aladdin'}): 0.5, frozenset({'An Unusual Prince/Once Upon A Dream - From \"Sleeping Beauty\"/Soundtrack Version'}): 0.5, frozenset({'Arabian Nights'}): 0.5, frozenset({'Arabian Nights Reprise'}): 0.5, frozenset({'Are You In Or Out?'}): 0.5, frozenset({'Babkak, Omar, Aladdin, Kassim'}): 0.5, frozenset({'Battle On The Tower'}): 0.5, frozenset({'Be Our Guest'}): 0.5, frozenset({'Be Our Guest - From \"Beauty and the Beast\"/Soundtrack'}): 0.5, frozenset({'Beauty And The Beast'}): 0.5, frozenset({'Beauty And The Beast (Reprise)'}): 0.5, frozenset({'Beauty and the Beast'}): 0.5, frozenset({'Beauty and the Beast - Duet with Peabo Bryson from the Soundtrack \"Beauty and the Beast\"'}): 0.5, frozenset({'Belle'}): 0.5, frozenset({'Belle - Reprise'}): 0.5, frozenset({'Belle Reprise - Soundtrack'}): 0.5, frozenset({'Beyond My Wildest Dreams - Broadway Cast Recording'}): 0.5, frozenset({'Cortando La Hebra'}): 0.5, frozenset({'Dark Mountain/The Challenge'}): 0.5, frozenset({'Daughters Of Triton - Broadway Cast Recording'}): 0.5, frozenset({'Daughters of Triton - From \"The Little Mermaid\"/ Soundtrack Version'}): 0.5, frozenset({'Destrucción Del Agora'}): 0.5, frozenset({'Diamond in the Rough'}): 0.5, frozenset({'Different - Broadway Cast Recording'}): 0.5, frozenset({'El Jardín De Meg'}): 0.5, frozenset({'El Más Mentecato'}): 0.5, frozenset({'End Credits (Aladdin And The King Of Thieves)'}): 0.5, frozenset({'End Duet / Transformation'}): 0.5, frozenset({\"Entr'Acte/Wolf Chase\"}): 0.5, frozenset({'Everything That I Am - Broadway Cast Recording'}): 0.5, frozenset({'Father And Son'}): 0.5, frozenset({'Fathoms Below - Broadway Cast Recording'}): 0.5, frozenset({'Finale - Broadway Cast Recording'}): 0.5, frozenset({'Finale Ultimo'}): 0.5, frozenset({'For The First Time - Broadway Cast Recording'}): 0.5, frozenset({'Forget About Love (The Return Of Jafar)'}): 0.5, frozenset({'Friend Like Me'}): 0.5, frozenset({'Gaston'}): 0.5, frozenset({'Gaston (Reprise)'}): 0.5, frozenset({'Gaston - From \"Beauty and the Beast\" / Soundtrack Version'}): 0.5, frozenset({'Gaston - Reprise'}): 0.5, frozenset({'Genie And Jasmine/Cassim Leaves'}): 0.5, frozenset({'Genie Medley'}): 0.5, frozenset({'Go the Distance'}): 0.5, frozenset({'Go the Distance (Reprise)'}): 0.5, frozenset({'Go the Distance - From \"Hercules\"/Soundtrack'}): 0.5, frozenset({'Hablando Del Rey De Tebas'}): 0.5, frozenset({'Happy End In Agrabah'}): 0.5, frozenset({'Happy Ending - From \"The Little Mermaid\"/ Soundtrack Version'}): 0.5, frozenset({'Her Voice - Broadway Cast Recording'}): 0.5, frozenset({'High Adventure'}): 0.5, frozenset({'Home'}): 0.5, frozenset({'Home - Reprise'}): 0.5, frozenset({'How Long Must This Go On?'}): 0.5, frozenset({'Human Again'}): 0.5, frozenset({'Human Stuff - Broadway Cast Recording'}): 0.5, frozenset({'I Need to Know - Broadway Cast Recording'}): 0.5, frozenset({'I Want the Good Times Back (Reprise) - Broadway Cast Recording'}): 0.5, frozenset({'I Want the Good Times Back - Broadway Cast Recording'}): 0.5, frozenset({\"I Won't Say (I'm in Love)\"}): 0.5, frozenset({\"I'm Looking Out For Me (The Return Of Jafar)\"}): 0.5, frozenset({\"If I Can't Love Her\"}): 0.5, frozenset({\"If I Can't Love Her - Reprise\"}): 0.5, frozenset({'If Only (Quartet) - Broadway Cast Recording'}): 0.5, frozenset({'If Only (Reprise) - Broadway Cast Recording'}): 0.5, frozenset({\"Jafar's Hour\"}): 0.5, frozenset({'Jasmine Runs Away'}): 0.5, frozenset({'Kiss the Girl'}): 0.5, frozenset({'Kiss the Girl - Broadway Cast Recording'}): 0.5, frozenset({'Kiss the Girl - From \"The Little Mermaid\"/Soundtrack Version'}): 0.5, frozenset({'La Gran Aceituna'}): 0.5, frozenset({'La Isla De Fil'}): 0.5, frozenset({'La Profecia'}): 0.5, frozenset({'La Villa De Hércules'}): 0.5, frozenset({'Legend Of The Lamp'}): 0.5, frozenset({\"Like No Man I've Ever Seen - Broadway Cast Recording\"}): 0.5, frozenset({'Long Ago...'}): 0.5, frozenset({'Magic Carpet/Parting The Seas'}): 0.5, frozenset({'Main Title - The Little Mermaid - From \"The Little Mermaid\"/ Score'}): 0.5, frozenset({'Maison Des Lunes'}): 0.5, frozenset({'Marketplace'}): 0.5, frozenset({'Me'}): 0.5, frozenset({'No Matter What'}): 0.5, frozenset({'No Matter What/Wolf Chase - Reprise'}): 0.5, frozenset({'No Other Way - Broadway Cast Recording'}): 0.5, frozenset({'On A Dark Night'}): 0.5, frozenset({'One Jump Ahead'}): 0.5, frozenset({'One Jump Ahead (Reprise)'}): 0.5, frozenset({'One Last Hope'}): 0.5, frozenset({'One Step Closer - Broadway Cast Recording'}): 0.5, frozenset({'Out Of Thin Air'}): 0.5, frozenset({'Overture'}): 0.5, frozenset({'Overture - Broadway Cast Recording'}): 0.5, frozenset({'Part Of Your World'}): 0.5, frozenset({'Part Of Your World (Reprise) - Broadway Cast Recording'}): 0.5, frozenset({'Part of Your World (Reprise) - From \"The Little Mermaid\"/ Soundtrack Version'}): 0.5, frozenset({'Part of Your World - From \"The Little Mermaid\"/ Soundtrack Version'}): 0.5, frozenset({'Poor Unfortunate Souls (Reprise) - Broadway Cast Recording'}): 0.5, frozenset({'Poor Unfortunate Souls - Broadway Cast Recording'}): 0.5, frozenset({'Poor Unfortunate Souls - From \"The Little Mermaid\" / Soundtrack Version'}): 0.5, frozenset({'Positoovity - Broadway Cast Recording'}): 0.5, frozenset({'Prince Ali'}): 0.5, frozenset({'Prince Ali (Jafar Reprise)'}): 0.5, frozenset({'Prince Ali (Reprise)'}): 0.5, frozenset({'Prince Ali (Sultan Reprise)'}): 0.5, frozenset({'Prologue (The Enchantress)'}): 0.5, frozenset({'Prologue: Beauty And The Beast - Soundtrack'}): 0.5, frozenset({'Proud of Your Boy'}): 0.5, frozenset({'Proud of Your Boy (Reprise)'}): 0.5, frozenset({'Rodeo'}): 0.5, frozenset({\"She's in Love - Broadway Cast Recording\"}): 0.5, frozenset({\"Somebody's Got Your Back\"}): 0.5, frozenset({'Something There'}): 0.5, frozenset({'Son Of Man'}): 0.5, frozenset({'Son of Man - Broadway Cast Recording'}): 0.5, frozenset({'Storm at Sea - Broadway Cast Recording'}): 0.5, frozenset({'Strangers Like Me - Broadway Cast Recording'}): 0.5, frozenset({'Street Urchins'}): 0.5, frozenset({'Sure As Sun Turns to Moon (Reprise) - Broadway Cast Recording'}): 0.5, frozenset({'Sure As Sun Turns to Moon - Broadway Cast Recording'}): 0.5, frozenset({'Sweet Child (Reprise) - Broadway Cast Recording'}): 0.5, frozenset({'Sweet Child - Broadway Cast Recording'}): 0.5, frozenset({'The Batalla Con La Hidra'}): 0.5, frozenset({'The Battle'}): 0.5, frozenset({'The Beast Lets Belle Go'}): 0.5, frozenset({'The Cave Of Wonders'}): 0.5, frozenset({'The Contest - Broadway Cast Recording'}): 0.5, frozenset({'The Ends Of The Earth'}): 0.5, frozenset({'The Gospel Truth I / Main Titles - Hercules'}): 0.5, frozenset({'The Gospel Truth II'}): 0.5, frozenset({'The Gospel Truth III'}): 0.5, frozenset({'The Hand Of Midas'}): 0.5, frozenset({'The Kiss'}): 0.5, frozenset({'The Mob Song'}): 0.5, frozenset({'The Mob Song - Soundtrack'}): 0.5, frozenset({'The Oracle'}): 0.5, frozenset({'The World Above (Reprise) - Broadway Cast Recording'}): 0.5, frozenset({'The World Above - Broadway Cast Recording'}): 0.5, frozenset({\"There's A Party Here In Agrabah, Part I\"}): 0.5, frozenset({\"There's A Party Here In Agrabah, Part II\"}): 0.5, frozenset({'These Palace Walls'}): 0.5, frozenset({'To Be Free'}): 0.5, frozenset({'To The Fair'}): 0.5, frozenset({'Transformation'}): 0.5, frozenset({\"Trashin' The Camp - Broadway Cast Recording\"}): 0.5, frozenset({'Two Worlds'}): 0.5, frozenset({'Two Worlds (Finale) - Broadway Cast Recording'}): 0.5, frozenset({'Two Worlds - Phil Version'}): 0.5, frozenset({'Two Worlds Finale'}): 0.5, frozenset({'Two Worlds Reprise'}): 0.5, frozenset({'Under the Sea (Reprise) - Broadway Cast Recording'}): 0.5, frozenset({'Under the Sea - Broadway Cast Recording'}): 0.5, frozenset({'Under the Sea - From \"The Little Mermaid\"/ Soundtrack Version'}): 0.5, frozenset({'Waiting For This Moment - Broadway Cast Recording'}): 0.5, frozenset({'Wedding/Attack Of The Forty Thieves'}): 0.5, frozenset({'Welcome To The Forty Thieves'}): 0.5, frozenset({'West Wing'}): 0.5, frozenset({'Who Better Than Me - Broadway Cast Recording'}): 0.5, frozenset({'Who Better Than Me? (Reprise) - Broadway Cast Recording'}): 0.5, frozenset({\"You'll Be In My Heart\"}): 0.5, frozenset({\"You'll Be In My Heart (Reprise) - Broadway Cast Recording\"}): 0.5, frozenset({\"You'll Be In My Heart - Broadway Cast Recording\"}): 0.5, frozenset({'You\\'re Only Second Rate - From \"The Return of Jafar\" / Soundtrack Version'}): 0.5, frozenset({'Zero To Hero'}): 0.5, frozenset({'Zeus Todopoderoso'}): 0.5}\n",
            "{frozenset({'A Thousand Miles'}): 0.5, frozenset({'All The Small Things'}): 0.5, frozenset({'Baby'}): 0.5, frozenset({'Beautiful Soul'}): 0.5, frozenset({'Beep'}): 0.5, frozenset({'Buttons'}): 0.5, frozenset({'Check On It - feat. Bun B and Slim Thug'}): 0.5, frozenset({'Check Yes Juliet'}): 0.5, frozenset({'Closer'}): 0.5, frozenset({'Crazy In Love'}): 0.5, frozenset({'Dirty Little Secret'}): 0.5, frozenset({'Everytime We Touch - Radio Edit'}): 0.5, frozenset({'Forever'}): 0.5, frozenset({'Hey Ya! - Radio Mix / Club Mix'}): 0.5, frozenset({'How Do You Sleep? - Featuring Ludacris'}): 0.5, frozenset({'Ice Box'}): 0.5, frozenset({\"It Wasn't Me\"}): 0.5, frozenset({\"Jumpin', Jumpin'\"}): 0.5, frozenset({'Just The Girl'}): 0.5, frozenset({\"Leavin'\"}): 0.5, frozenset({'Lip Gloss'}): 0.5, frozenset({'Livin on Sunday'}): 0.5, frozenset({'Lose Control (feat. Ciara & Fat Man Scoop)'}): 0.5, frozenset({'Me & U'}): 0.5, frozenset({'Miss Independent'}): 0.5, frozenset({'Mr. Brightside'}): 0.5, frozenset({'My Boo'}): 0.5, frozenset({'My Happy Ending'}): 0.5, frozenset({'One Less Lonely Girl'}): 0.5, frozenset({'Paper Planes'}): 0.5, frozenset({'Party In The U.S.A.'}): 0.5, frozenset({'Promiscuous'}): 0.5, frozenset({'Replay'}): 0.5, frozenset({'Right Where You Want Me - Radio Edit Version'}): 0.5, frozenset({'Rock Your Body'}): 0.5, frozenset({'Run It!'}): 0.5, frozenset({'Say My Name'}): 0.5, frozenset({'See You Again'}): 0.5, frozenset({'Sk8er Boi'}): 0.5, frozenset({'Soak Up The Sun'}): 0.5, frozenset({'Somebody To Love'}): 0.5, frozenset({\"Stacy's Mom\"}): 0.5, frozenset({'The Great Escape'}): 0.5, frozenset({'This Is Me'}): 0.5, frozenset({'Toxic'}): 0.5, frozenset({'Whatcha Say'}): 0.5, frozenset({'Where Is The Love?'}): 0.5, frozenset({'Yeah!'}): 0.5, frozenset({'Year 3000'}): 0.5, frozenset({'Yo (Excuse Me Miss)'}): 0.5, frozenset({'Your Love Is My Drug'}): 0.5, frozenset({'A Million Miles Away'}): 0.5, frozenset({'A Star Is Born'}): 0.5, frozenset({'A True Hero / A Star Is Born'}): 0.5, frozenset({'A Whole New World'}): 0.5, frozenset({\"A Whole New World (Aladdin's Theme)\"}): 0.5, frozenset({'Act One Finale'}): 0.5, frozenset({'Aladdin And Cassim Escape'}): 0.5, frozenset({\"Aladdin's World\"}): 0.5, frozenset({'Alley Talk/Guards Chase Aladdin'}): 0.5, frozenset({'An Unusual Prince/Once Upon A Dream - From \"Sleeping Beauty\"/Soundtrack Version'}): 0.5, frozenset({'Arabian Nights'}): 0.5, frozenset({'Arabian Nights Reprise'}): 0.5, frozenset({'Are You In Or Out?'}): 0.5, frozenset({'Babkak, Omar, Aladdin, Kassim'}): 0.5, frozenset({'Battle On The Tower'}): 0.5, frozenset({'Be Our Guest'}): 0.5, frozenset({'Be Our Guest - From \"Beauty and the Beast\"/Soundtrack'}): 0.5, frozenset({'Beauty And The Beast'}): 0.5, frozenset({'Beauty And The Beast (Reprise)'}): 0.5, frozenset({'Beauty and the Beast'}): 0.5, frozenset({'Beauty and the Beast - Duet with Peabo Bryson from the Soundtrack \"Beauty and the Beast\"'}): 0.5, frozenset({'Belle'}): 0.5, frozenset({'Belle - Reprise'}): 0.5, frozenset({'Belle Reprise - Soundtrack'}): 0.5, frozenset({'Beyond My Wildest Dreams - Broadway Cast Recording'}): 0.5, frozenset({'Cortando La Hebra'}): 0.5, frozenset({'Dark Mountain/The Challenge'}): 0.5, frozenset({'Daughters Of Triton - Broadway Cast Recording'}): 0.5, frozenset({'Daughters of Triton - From \"The Little Mermaid\"/ Soundtrack Version'}): 0.5, frozenset({'Destrucción Del Agora'}): 0.5, frozenset({'Diamond in the Rough'}): 0.5, frozenset({'Different - Broadway Cast Recording'}): 0.5, frozenset({'El Jardín De Meg'}): 0.5, frozenset({'El Más Mentecato'}): 0.5, frozenset({'End Credits (Aladdin And The King Of Thieves)'}): 0.5, frozenset({'End Duet / Transformation'}): 0.5, frozenset({\"Entr'Acte/Wolf Chase\"}): 0.5, frozenset({'Everything That I Am - Broadway Cast Recording'}): 0.5, frozenset({'Father And Son'}): 0.5, frozenset({'Fathoms Below - Broadway Cast Recording'}): 0.5, frozenset({'Finale - Broadway Cast Recording'}): 0.5, frozenset({'Finale Ultimo'}): 0.5, frozenset({'For The First Time - Broadway Cast Recording'}): 0.5, frozenset({'Forget About Love (The Return Of Jafar)'}): 0.5, frozenset({'Friend Like Me'}): 0.5, frozenset({'Gaston'}): 0.5, frozenset({'Gaston (Reprise)'}): 0.5, frozenset({'Gaston - From \"Beauty and the Beast\" / Soundtrack Version'}): 0.5, frozenset({'Gaston - Reprise'}): 0.5, frozenset({'Genie And Jasmine/Cassim Leaves'}): 0.5, frozenset({'Genie Medley'}): 0.5, frozenset({'Go the Distance'}): 0.5, frozenset({'Go the Distance (Reprise)'}): 0.5, frozenset({'Go the Distance - From \"Hercules\"/Soundtrack'}): 0.5, frozenset({'Hablando Del Rey De Tebas'}): 0.5, frozenset({'Happy End In Agrabah'}): 0.5, frozenset({'Happy Ending - From \"The Little Mermaid\"/ Soundtrack Version'}): 0.5, frozenset({'Her Voice - Broadway Cast Recording'}): 0.5, frozenset({'High Adventure'}): 0.5, frozenset({'Home'}): 0.5, frozenset({'Home - Reprise'}): 0.5, frozenset({'How Long Must This Go On?'}): 0.5, frozenset({'Human Again'}): 0.5, frozenset({'Human Stuff - Broadway Cast Recording'}): 0.5, frozenset({'I Need to Know - Broadway Cast Recording'}): 0.5, frozenset({'I Want the Good Times Back (Reprise) - Broadway Cast Recording'}): 0.5, frozenset({'I Want the Good Times Back - Broadway Cast Recording'}): 0.5, frozenset({\"I Won't Say (I'm in Love)\"}): 0.5, frozenset({\"I'm Looking Out For Me (The Return Of Jafar)\"}): 0.5, frozenset({\"If I Can't Love Her\"}): 0.5, frozenset({\"If I Can't Love Her - Reprise\"}): 0.5, frozenset({'If Only (Quartet) - Broadway Cast Recording'}): 0.5, frozenset({'If Only (Reprise) - Broadway Cast Recording'}): 0.5, frozenset({\"Jafar's Hour\"}): 0.5, frozenset({'Jasmine Runs Away'}): 0.5, frozenset({'Kiss the Girl'}): 0.5, frozenset({'Kiss the Girl - Broadway Cast Recording'}): 0.5, frozenset({'Kiss the Girl - From \"The Little Mermaid\"/Soundtrack Version'}): 0.5, frozenset({'La Gran Aceituna'}): 0.5, frozenset({'La Isla De Fil'}): 0.5, frozenset({'La Profecia'}): 0.5, frozenset({'La Villa De Hércules'}): 0.5, frozenset({'Legend Of The Lamp'}): 0.5, frozenset({\"Like No Man I've Ever Seen - Broadway Cast Recording\"}): 0.5, frozenset({'Long Ago...'}): 0.5, frozenset({'Magic Carpet/Parting The Seas'}): 0.5, frozenset({'Main Title - The Little Mermaid - From \"The Little Mermaid\"/ Score'}): 0.5, frozenset({'Maison Des Lunes'}): 0.5, frozenset({'Marketplace'}): 0.5, frozenset({'Me'}): 0.5, frozenset({'No Matter What'}): 0.5, frozenset({'No Matter What/Wolf Chase - Reprise'}): 0.5, frozenset({'No Other Way - Broadway Cast Recording'}): 0.5, frozenset({'On A Dark Night'}): 0.5, frozenset({'One Jump Ahead'}): 0.5, frozenset({'One Jump Ahead (Reprise)'}): 0.5, frozenset({'One Last Hope'}): 0.5, frozenset({'One Step Closer - Broadway Cast Recording'}): 0.5, frozenset({'Out Of Thin Air'}): 0.5, frozenset({'Overture'}): 0.5, frozenset({'Overture - Broadway Cast Recording'}): 0.5, frozenset({'Part Of Your World'}): 0.5, frozenset({'Part Of Your World (Reprise) - Broadway Cast Recording'}): 0.5, frozenset({'Part of Your World (Reprise) - From \"The Little Mermaid\"/ Soundtrack Version'}): 0.5, frozenset({'Part of Your World - From \"The Little Mermaid\"/ Soundtrack Version'}): 0.5, frozenset({'Poor Unfortunate Souls (Reprise) - Broadway Cast Recording'}): 0.5, frozenset({'Poor Unfortunate Souls - Broadway Cast Recording'}): 0.5, frozenset({'Poor Unfortunate Souls - From \"The Little Mermaid\" / Soundtrack Version'}): 0.5, frozenset({'Positoovity - Broadway Cast Recording'}): 0.5, frozenset({'Prince Ali'}): 0.5, frozenset({'Prince Ali (Jafar Reprise)'}): 0.5, frozenset({'Prince Ali (Reprise)'}): 0.5, frozenset({'Prince Ali (Sultan Reprise)'}): 0.5, frozenset({'Prologue (The Enchantress)'}): 0.5, frozenset({'Prologue: Beauty And The Beast - Soundtrack'}): 0.5, frozenset({'Proud of Your Boy'}): 0.5, frozenset({'Proud of Your Boy (Reprise)'}): 0.5, frozenset({'Rodeo'}): 0.5, frozenset({\"She's in Love - Broadway Cast Recording\"}): 0.5, frozenset({\"Somebody's Got Your Back\"}): 0.5, frozenset({'Something There'}): 0.5, frozenset({'Son Of Man'}): 0.5, frozenset({'Son of Man - Broadway Cast Recording'}): 0.5, frozenset({'Storm at Sea - Broadway Cast Recording'}): 0.5, frozenset({'Strangers Like Me - Broadway Cast Recording'}): 0.5, frozenset({'Street Urchins'}): 0.5, frozenset({'Sure As Sun Turns to Moon (Reprise) - Broadway Cast Recording'}): 0.5, frozenset({'Sure As Sun Turns to Moon - Broadway Cast Recording'}): 0.5, frozenset({'Sweet Child (Reprise) - Broadway Cast Recording'}): 0.5, frozenset({'Sweet Child - Broadway Cast Recording'}): 0.5, frozenset({'The Batalla Con La Hidra'}): 0.5, frozenset({'The Battle'}): 0.5, frozenset({'The Beast Lets Belle Go'}): 0.5, frozenset({'The Cave Of Wonders'}): 0.5, frozenset({'The Contest - Broadway Cast Recording'}): 0.5, frozenset({'The Ends Of The Earth'}): 0.5, frozenset({'The Gospel Truth I / Main Titles - Hercules'}): 0.5, frozenset({'The Gospel Truth II'}): 0.5, frozenset({'The Gospel Truth III'}): 0.5, frozenset({'The Hand Of Midas'}): 0.5, frozenset({'The Kiss'}): 0.5, frozenset({'The Mob Song'}): 0.5, frozenset({'The Mob Song - Soundtrack'}): 0.5, frozenset({'The Oracle'}): 0.5, frozenset({'The World Above (Reprise) - Broadway Cast Recording'}): 0.5, frozenset({'The World Above - Broadway Cast Recording'}): 0.5, frozenset({\"There's A Party Here In Agrabah, Part I\"}): 0.5, frozenset({\"There's A Party Here In Agrabah, Part II\"}): 0.5, frozenset({'These Palace Walls'}): 0.5, frozenset({'To Be Free'}): 0.5, frozenset({'To The Fair'}): 0.5, frozenset({'Transformation'}): 0.5, frozenset({\"Trashin' The Camp - Broadway Cast Recording\"}): 0.5, frozenset({'Two Worlds'}): 0.5, frozenset({'Two Worlds (Finale) - Broadway Cast Recording'}): 0.5, frozenset({'Two Worlds - Phil Version'}): 0.5, frozenset({'Two Worlds Finale'}): 0.5, frozenset({'Two Worlds Reprise'}): 0.5, frozenset({'Under the Sea (Reprise) - Broadway Cast Recording'}): 0.5, frozenset({'Under the Sea - Broadway Cast Recording'}): 0.5, frozenset({'Under the Sea - From \"The Little Mermaid\"/ Soundtrack Version'}): 0.5, frozenset({'Waiting For This Moment - Broadway Cast Recording'}): 0.5, frozenset({'Wedding/Attack Of The Forty Thieves'}): 0.5, frozenset({'Welcome To The Forty Thieves'}): 0.5, frozenset({'West Wing'}): 0.5, frozenset({'Who Better Than Me - Broadway Cast Recording'}): 0.5, frozenset({'Who Better Than Me? (Reprise) - Broadway Cast Recording'}): 0.5, frozenset({\"You'll Be In My Heart\"}): 0.5, frozenset({\"You'll Be In My Heart (Reprise) - Broadway Cast Recording\"}): 0.5, frozenset({\"You'll Be In My Heart - Broadway Cast Recording\"}): 0.5, frozenset({'You\\'re Only Second Rate - From \"The Return of Jafar\" / Soundtrack Version'}): 0.5, frozenset({'Zero To Hero'}): 0.5, frozenset({'Zeus Todopoderoso'}): 0.5}\n"
          ]
        }
      ]
    },
    {
      "cell_type": "markdown",
      "metadata": {
        "id": "OBiE4wTB7bxk"
      },
      "source": [
        "### **5.2 Get Combination Apriori**"
      ]
    },
    {
      "cell_type": "code",
      "metadata": {
        "id": "c8yv-Kaq6oPZ"
      },
      "source": [
        "#GEnerar posibles conjuntos (k-ItemSet) a partir de mezclar los k-1 ItemSetFrequent\n",
        "#Los ItemSet deben estar ordenados lexicográficamente\n",
        "# Solo mezclamos los pares de itemsets que difieren en su último ítem.\n",
        "def get_combination_apriori(ItemSetFrequent, k):\n",
        "  ItemSet_k=[]\n",
        "  tam=len(ItemSetFrequent)\n",
        "  for i in range(tam):\n",
        "    for j in range(i+1,tam):\n",
        "      Arr1=list(ItemSetFrequent[i])[:k-1]\n",
        "      Arr2=list(ItemSetFrequent[j])[:k-1]\n",
        "      if(Arr1==Arr2):\n",
        "        ItemSet_k.append(ItemSetFrequent[i]|ItemSetFrequent[j])\n",
        "  return ItemSet_k\n"
      ],
      "execution_count": null,
      "outputs": []
    },
    {
      "cell_type": "code",
      "metadata": {
        "colab": {
          "base_uri": "https://localhost:8080/"
        },
        "id": "xW4nQYyNIzA3",
        "outputId": "569fbd3b-f536-4eb7-fb3f-8ab37ed9a96f"
      },
      "source": [
        "C1, D = dataset_preprocessing(data)\n",
        "print(\"Canciones:\",len(C1))\n",
        "print(\"playlists: \",len(D))\n",
        "L1, supportData = get_first_frequent_items(D, C1, 0.015)\n",
        "print(len(L1))\n",
        "len(L1[:2])\n",
        "len(C1)"
      ],
      "execution_count": null,
      "outputs": [
        {
          "output_type": "stream",
          "name": "stdout",
          "text": [
            "Canciones: 132920\n",
            "playlists:  10000\n",
            "349\n"
          ]
        },
        {
          "output_type": "execute_result",
          "data": {
            "text/plain": [
              "132920"
            ]
          },
          "metadata": {},
          "execution_count": 336
        }
      ]
    },
    {
      "cell_type": "code",
      "metadata": {
        "id": "CWJBoxJOJJIZ",
        "colab": {
          "base_uri": "https://localhost:8080/"
        },
        "outputId": "60101a63-ed53-4856-aee9-4180676631e3"
      },
      "source": [
        "L1, supportData = get_first_frequent_items(D, C1, 0.015)\n",
        "print(len(L1))\n",
        "len(L1[:2])"
      ],
      "execution_count": null,
      "outputs": [
        {
          "output_type": "stream",
          "name": "stdout",
          "text": [
            "349\n"
          ]
        },
        {
          "output_type": "execute_result",
          "data": {
            "text/plain": [
              "2"
            ]
          },
          "metadata": {},
          "execution_count": 337
        }
      ]
    },
    {
      "cell_type": "code",
      "metadata": {
        "id": "tiJ-Dj64JdeJ",
        "colab": {
          "base_uri": "https://localhost:8080/"
        },
        "outputId": "c7f5ee0b-f2d5-49a1-f764-c8c4e2c8a158"
      },
      "source": [
        "L=[L1]\n",
        "Ck=get_combination_apriori(L[0],1)\n",
        "len(Ck)"
      ],
      "execution_count": null,
      "outputs": [
        {
          "output_type": "execute_result",
          "data": {
            "text/plain": [
              "60726"
            ]
          },
          "metadata": {},
          "execution_count": 338
        }
      ]
    },
    {
      "cell_type": "code",
      "metadata": {
        "colab": {
          "base_uri": "https://localhost:8080/"
        },
        "id": "by3fQ9Suqgq0",
        "outputId": "d91c0088-e662-4b04-a2ca-e68315403087"
      },
      "source": [
        "print(Ck[:3])"
      ],
      "execution_count": null,
      "outputs": [
        {
          "output_type": "stream",
          "name": "stdout",
          "text": [
            "[frozenset({'0 To 100 / The Catch Up', \"'Till I Collapse\"}), frozenset({'1-800-273-8255', \"'Till I Collapse\"}), frozenset({\"'Till I Collapse\", '24K Magic'})]\n"
          ]
        }
      ]
    },
    {
      "cell_type": "markdown",
      "metadata": {
        "id": "nLhz-2YBlC8e"
      },
      "source": [
        "### 5.3 Generacion de los k-itemSetsFrecuentes"
      ]
    },
    {
      "cell_type": "code",
      "metadata": {
        "id": "JmxAv9vrlCSA"
      },
      "source": [
        "def get_frequent_itemsets(data, minSupport=0.2):  # Obtenga [L1, L2, L3 ..] lista de conjuntos de elementos frecuentes haciendo un bucle\n",
        "    songs, playlists = dataset_preprocessing(data)\n",
        "    L1, supportData = get_first_frequent_items(playlists, songs, minSupport)\n",
        "    L = [L1]\n",
        "    print(\"Total de canciones:\",len(L[0]))\n",
        "    k = 1\n",
        "    while (len(L[k - 1]) > 0):  # Crear Ck\n",
        "        print(\"k==\",k,\" cantidad:\",len(L[k-1]))\n",
        "        Ck = get_combination_apriori(L[k - 1], k)\n",
        "        print(\"Ck Generado:\",len(Ck))\n",
        "        Lk, supK = get_frequent_items(D, Ck, minSupport)\n",
        "        supportData.update(supK)\n",
        "        L.append(Lk)\n",
        "        k += 1\n",
        "    return L, supportData"
      ],
      "execution_count": null,
      "outputs": []
    },
    {
      "cell_type": "code",
      "metadata": {
        "colab": {
          "base_uri": "https://localhost:8080/"
        },
        "id": "q0vRIRLxmjeZ",
        "outputId": "2a844e8c-a544-4503-9ea8-dc183c1ad34f"
      },
      "source": [
        "L, supportData= get_frequent_itemsets(data,0.01)"
      ],
      "execution_count": null,
      "outputs": [
        {
          "output_type": "stream",
          "name": "stdout",
          "text": [
            "Total de canciones: 838\n",
            "k== 1  cantidad: 838\n",
            "Ck Generado: 350703\n",
            "k== 2  cantidad: 167\n",
            "Ck Generado: 732\n",
            "k== 3  cantidad: 19\n",
            "Ck Generado: 17\n"
          ]
        }
      ]
    },
    {
      "cell_type": "code",
      "metadata": {
        "colab": {
          "base_uri": "https://localhost:8080/"
        },
        "id": "i8U7RrEnTU5z",
        "outputId": "14a078c3-a374-45a1-962a-48cf5dfe382d"
      },
      "source": [
        "len(L)"
      ],
      "execution_count": 623,
      "outputs": [
        {
          "output_type": "execute_result",
          "data": {
            "text/plain": [
              "4"
            ]
          },
          "metadata": {},
          "execution_count": 623
        }
      ]
    },
    {
      "cell_type": "markdown",
      "metadata": {
        "id": "eX3iT9yu6d88"
      },
      "source": [
        "### 5.4 generar reglas"
      ]
    },
    {
      "cell_type": "code",
      "metadata": {
        "id": "dGTxVH7L920O"
      },
      "source": [
        "import itertools "
      ],
      "execution_count": null,
      "outputs": []
    },
    {
      "cell_type": "code",
      "metadata": {
        "id": "F2zem6AD9eWH"
      },
      "source": [
        "def generar_reglas(conjunto):\n",
        "  s = conjunto\n",
        "  combinaciones= list(map(frozenset,chain.from_iterable(combinations(s, r) for r in range(1,len(s)))))\n",
        "  reglas=[]\n",
        "  for i in combinaciones:\n",
        "    r=[i,conjunto-i]\n",
        "    reglas.append(r)\n",
        "  return reglas"
      ],
      "execution_count": 658,
      "outputs": []
    },
    {
      "cell_type": "code",
      "metadata": {
        "colab": {
          "base_uri": "https://localhost:8080/"
        },
        "id": "qTFXw5wKBG4F",
        "outputId": "7e8c6601-bfe4-463c-8313-c1e010a67a27"
      },
      "source": [
        "generar_reglas(frozenset({1,2,3}))"
      ],
      "execution_count": 659,
      "outputs": [
        {
          "output_type": "execute_result",
          "data": {
            "text/plain": [
              "[[frozenset({1}), frozenset({2, 3})],\n",
              " [frozenset({2}), frozenset({1, 3})],\n",
              " [frozenset({3}), frozenset({1, 2})],\n",
              " [frozenset({1, 2}), frozenset({3})],\n",
              " [frozenset({1, 3}), frozenset({2})],\n",
              " [frozenset({2, 3}), frozenset({1})]]"
            ]
          },
          "metadata": {},
          "execution_count": 659
        }
      ]
    },
    {
      "cell_type": "code",
      "metadata": {
        "id": "KzXLCz0zW8vW"
      },
      "source": [
        "def print_reglas(reglas):\n",
        "  for i in reglas:\n",
        "    print(i[0],\"=>\",i[1])\n",
        "    print(\"________________________________\")"
      ],
      "execution_count": 660,
      "outputs": []
    },
    {
      "cell_type": "code",
      "metadata": {
        "id": "G_BFhH8yDPqS"
      },
      "source": [
        "def print_reglas2(reglas,soportes,conf_min):\n",
        "  resultado=[]\n",
        "  for i in reglas:\n",
        "    \n",
        "    X_u_Y= soportes[i[0] | i[1]]\n",
        "    if(len(i[0])==1):\n",
        "      X =soportes[list(i[0])[0]]\n",
        "    else:\n",
        "      X =soportes[i[0]]\n",
        "    confianza=X_u_Y/X\n",
        "    if(confianza>=conf_min):\n",
        "      r=[i[0],i[1]]\n",
        "      resultado.append(r)\n",
        "      print(i[0],\"=>\",i[1])\n",
        "      print(\"confidence = \", confianza)\n",
        "      print(\"________________________________\")\n",
        "  return(resultado)\n"
      ],
      "execution_count": 705,
      "outputs": []
    },
    {
      "cell_type": "code",
      "metadata": {
        "colab": {
          "base_uri": "https://localhost:8080/"
        },
        "id": "6bSDsMyWDgDi",
        "outputId": "12c6e5d7-7879-49bd-c3f2-c727db20401c"
      },
      "source": [
        "print_reglas(generar_reglas(frozenset({1,2,3})))"
      ],
      "execution_count": 691,
      "outputs": [
        {
          "output_type": "stream",
          "name": "stdout",
          "text": [
            "frozenset({1}) => frozenset({2, 3})\n",
            "________________________________\n",
            "frozenset({2}) => frozenset({1, 3})\n",
            "________________________________\n",
            "frozenset({3}) => frozenset({1, 2})\n",
            "________________________________\n",
            "frozenset({1, 2}) => frozenset({3})\n",
            "________________________________\n",
            "frozenset({1, 3}) => frozenset({2})\n",
            "________________________________\n",
            "frozenset({2, 3}) => frozenset({1})\n",
            "________________________________\n"
          ]
        }
      ]
    },
    {
      "cell_type": "code",
      "metadata": {
        "id": "n6WMdmSJ6vOf"
      },
      "source": [
        "def verificar_confianza(itemSetFrecuente,minconf,soportes):\n",
        "  reglas=[]\n",
        "  #print(len(itemSetFrecuente[0]))\n",
        "  if(len(itemSetFrecuente[0])>1):\n",
        "    for i in itemSetFrecuente:\n",
        "      #print(i)\n",
        "      *_,Y=i\n",
        "      #print(Y)\n",
        "      X=i-{Y}\n",
        "      #print(X)\n",
        "      soporte_X_u_Y=soportes[i]\n",
        "      #print(soporte_X_u_Y)\n",
        "      if(len(itemSetFrecuente[0])==2):\n",
        "        soporte_X=soportes[list(X)[0]]\n",
        "      else:\n",
        "        soporte_X=soportes[X]\n",
        "      #print(soporte_X)\n",
        "      confianza=soporte_X_u_Y/soporte_X\n",
        "      if(confianza>=minconf):\n",
        "        #print(Y)\n",
        "        #print(X)\n",
        "        #print(confianza)\n",
        "        reglas+=generar_reglas(i)\n",
        "        #print_reglas2(generar_reglas(i),soportes,minconf)\n",
        "    filtro_reglas=print_reglas2(reglas,soportes,minconf)\n",
        "  else:\n",
        "    print(\"No existen reglas\")\n",
        "  return filtro_reglas\n",
        "    "
      ],
      "execution_count": 706,
      "outputs": []
    },
    {
      "cell_type": "code",
      "metadata": {
        "colab": {
          "base_uri": "https://localhost:8080/"
        },
        "id": "M7ZXULFeYRpE",
        "outputId": "5c448423-6deb-44c1-ccde-4efc7a7e3f34"
      },
      "source": [
        "R=verificar_confianza(L[2],0.5,supportData)"
      ],
      "execution_count": 707,
      "outputs": [
        {
          "output_type": "stream",
          "name": "stdout",
          "text": [
            "frozenset({'Congratulations', 'HUMBLE.'}) => frozenset({'iSpy (feat. Lil Yachty)'})\n",
            "confidence =  0.5093457943925234\n",
            "________________________________\n",
            "frozenset({'Congratulations', 'iSpy (feat. Lil Yachty)'}) => frozenset({'HUMBLE.'})\n",
            "confidence =  0.6728395061728395\n",
            "________________________________\n",
            "frozenset({'HUMBLE.', 'iSpy (feat. Lil Yachty)'}) => frozenset({'Congratulations'})\n",
            "confidence =  0.7032258064516129\n",
            "________________________________\n",
            "frozenset({'HUMBLE.', 'DNA.'}) => frozenset({'Mask Off'})\n",
            "confidence =  0.5263157894736842\n",
            "________________________________\n",
            "frozenset({'DNA.', 'Mask Off'}) => frozenset({'HUMBLE.'})\n",
            "confidence =  0.9090909090909092\n",
            "________________________________\n",
            "frozenset({'Tunnel Vision', 'HUMBLE.'}) => frozenset({'XO TOUR Llif3'})\n",
            "confidence =  0.7338129496402879\n",
            "________________________________\n",
            "frozenset({'Tunnel Vision', 'XO TOUR Llif3'}) => frozenset({'HUMBLE.'})\n",
            "confidence =  0.7500000000000001\n",
            "________________________________\n",
            "frozenset({'HUMBLE.', 'XO TOUR Llif3'}) => frozenset({'Tunnel Vision'})\n",
            "confidence =  0.5\n",
            "________________________________\n",
            "frozenset({'HUMBLE.', 'XO TOUR Llif3'}) => frozenset({'DNA.'})\n",
            "confidence =  0.5\n",
            "________________________________\n",
            "frozenset({'HUMBLE.', 'DNA.'}) => frozenset({'XO TOUR Llif3'})\n",
            "confidence =  0.5368421052631579\n",
            "________________________________\n",
            "frozenset({'XO TOUR Llif3', 'DNA.'}) => frozenset({'HUMBLE.'})\n",
            "confidence =  0.864406779661017\n",
            "________________________________\n",
            "frozenset({'Congratulations', 'HUMBLE.'}) => frozenset({'XO TOUR Llif3'})\n",
            "confidence =  0.5981308411214954\n",
            "________________________________\n",
            "frozenset({'Congratulations', 'XO TOUR Llif3'}) => frozenset({'HUMBLE.'})\n",
            "confidence =  0.7150837988826816\n",
            "________________________________\n",
            "frozenset({'HUMBLE.', 'XO TOUR Llif3'}) => frozenset({'Congratulations'})\n",
            "confidence =  0.6274509803921569\n",
            "________________________________\n",
            "frozenset({'Broccoli (feat. Lil Yachty)', 'Bounce Back'}) => frozenset({'Bad and Boujee (feat. Lil Uzi Vert)'})\n",
            "confidence =  0.7751937984496124\n",
            "________________________________\n",
            "frozenset({'Broccoli (feat. Lil Yachty)', 'Bad and Boujee (feat. Lil Uzi Vert)'}) => frozenset({'Bounce Back'})\n",
            "confidence =  0.6451612903225806\n",
            "________________________________\n",
            "frozenset({'Bounce Back', 'Bad and Boujee (feat. Lil Uzi Vert)'}) => frozenset({'Broccoli (feat. Lil Yachty)'})\n",
            "confidence =  0.591715976331361\n",
            "________________________________\n",
            "frozenset({'Congratulations', 'XO TOUR Llif3'}) => frozenset({'Mask Off'})\n",
            "confidence =  0.5977653631284916\n",
            "________________________________\n",
            "frozenset({'Congratulations', 'Mask Off'}) => frozenset({'XO TOUR Llif3'})\n",
            "confidence =  0.6604938271604939\n",
            "________________________________\n",
            "frozenset({'XO TOUR Llif3', 'Mask Off'}) => frozenset({'Congratulations'})\n",
            "confidence =  0.656441717791411\n",
            "________________________________\n",
            "frozenset({'Congratulations', 'HUMBLE.'}) => frozenset({'Mask Off'})\n",
            "confidence =  0.5654205607476636\n",
            "________________________________\n",
            "frozenset({'Congratulations', 'Mask Off'}) => frozenset({'HUMBLE.'})\n",
            "confidence =  0.7469135802469136\n",
            "________________________________\n",
            "frozenset({'HUMBLE.', 'Mask Off'}) => frozenset({'Congratulations'})\n",
            "confidence =  0.5931372549019607\n",
            "________________________________\n",
            "frozenset({'HUMBLE.', 'goosebumps'}) => frozenset({'Mask Off'})\n",
            "confidence =  0.6586826347305389\n",
            "________________________________\n",
            "frozenset({'HUMBLE.', 'Mask Off'}) => frozenset({'goosebumps'})\n",
            "confidence =  0.5392156862745098\n",
            "________________________________\n",
            "frozenset({'Mask Off', 'goosebumps'}) => frozenset({'HUMBLE.'})\n",
            "confidence =  0.7432432432432432\n",
            "________________________________\n",
            "frozenset({'HUMBLE.', 'Bad and Boujee (feat. Lil Uzi Vert)'}) => frozenset({'Mask Off'})\n",
            "confidence =  0.6586826347305389\n",
            "________________________________\n",
            "frozenset({'HUMBLE.', 'Mask Off'}) => frozenset({'Bad and Boujee (feat. Lil Uzi Vert)'})\n",
            "confidence =  0.5392156862745098\n",
            "________________________________\n",
            "frozenset({'Bad and Boujee (feat. Lil Uzi Vert)', 'Mask Off'}) => frozenset({'HUMBLE.'})\n",
            "confidence =  0.7284768211920529\n",
            "________________________________\n",
            "frozenset({'HUMBLE.', 'Bounce Back'}) => frozenset({'Mask Off'})\n",
            "confidence =  0.6474358974358975\n",
            "________________________________\n",
            "frozenset({'Bounce Back', 'Mask Off'}) => frozenset({'HUMBLE.'})\n",
            "confidence =  0.7426470588235294\n",
            "________________________________\n",
            "frozenset({'HUMBLE.', 'XO TOUR Llif3'}) => frozenset({'goosebumps'})\n",
            "confidence =  0.5441176470588235\n",
            "________________________________\n",
            "frozenset({'HUMBLE.', 'goosebumps'}) => frozenset({'XO TOUR Llif3'})\n",
            "confidence =  0.6646706586826348\n",
            "________________________________\n",
            "frozenset({'XO TOUR Llif3', 'goosebumps'}) => frozenset({'HUMBLE.'})\n",
            "confidence =  0.7302631578947368\n",
            "________________________________\n",
            "frozenset({'HUMBLE.', 'XO TOUR Llif3'}) => frozenset({'Mask Off'})\n",
            "confidence =  0.642156862745098\n",
            "________________________________\n",
            "frozenset({'HUMBLE.', 'Mask Off'}) => frozenset({'XO TOUR Llif3'})\n",
            "confidence =  0.642156862745098\n",
            "________________________________\n",
            "frozenset({'XO TOUR Llif3', 'Mask Off'}) => frozenset({'HUMBLE.'})\n",
            "confidence =  0.8036809815950922\n",
            "________________________________\n",
            "frozenset({'XO TOUR Llif3', 'goosebumps'}) => frozenset({'Mask Off'})\n",
            "confidence =  0.6644736842105263\n",
            "________________________________\n",
            "frozenset({'Mask Off', 'goosebumps'}) => frozenset({'XO TOUR Llif3'})\n",
            "confidence =  0.6824324324324323\n",
            "________________________________\n",
            "frozenset({'XO TOUR Llif3', 'Mask Off'}) => frozenset({'goosebumps'})\n",
            "confidence =  0.6196319018404909\n",
            "________________________________\n",
            "frozenset({'Congratulations', 'HUMBLE.'}) => frozenset({'goosebumps'})\n",
            "confidence =  0.5233644859813085\n",
            "________________________________\n",
            "frozenset({'Congratulations', 'goosebumps'}) => frozenset({'HUMBLE.'})\n",
            "confidence =  0.7225806451612903\n",
            "________________________________\n",
            "frozenset({'HUMBLE.', 'goosebumps'}) => frozenset({'Congratulations'})\n",
            "confidence =  0.6706586826347305\n",
            "________________________________\n",
            "frozenset({'Congratulations', 'XO TOUR Llif3'}) => frozenset({'goosebumps'})\n",
            "confidence =  0.5810055865921788\n",
            "________________________________\n",
            "frozenset({'Congratulations', 'goosebumps'}) => frozenset({'XO TOUR Llif3'})\n",
            "confidence =  0.6709677419354838\n",
            "________________________________\n",
            "frozenset({'XO TOUR Llif3', 'goosebumps'}) => frozenset({'Congratulations'})\n",
            "confidence =  0.6842105263157895\n",
            "________________________________\n"
          ]
        }
      ]
    },
    {
      "cell_type": "code",
      "metadata": {
        "id": "Am_5jRWLSbBy"
      },
      "source": [
        "def generar_todas_las_reglas(set_frecuentes,supportData,confi_min):\n",
        "  k=len(L)-2\n",
        "  verificar_confianza(set_frecuentes[k],confi_min,supportData)"
      ],
      "execution_count": 708,
      "outputs": []
    },
    {
      "cell_type": "code",
      "metadata": {
        "colab": {
          "base_uri": "https://localhost:8080/"
        },
        "id": "7kjJBWJQTqRl",
        "outputId": "eb4cdbf7-b813-49d5-a556-c4c0bcb1c2da"
      },
      "source": [
        "generar_todas_las_reglas(L,supportData,0.5)"
      ],
      "execution_count": 709,
      "outputs": [
        {
          "output_type": "stream",
          "name": "stdout",
          "text": [
            "frozenset({'Congratulations', 'HUMBLE.'}) => frozenset({'iSpy (feat. Lil Yachty)'})\n",
            "confidence =  0.5093457943925234\n",
            "________________________________\n",
            "frozenset({'Congratulations', 'iSpy (feat. Lil Yachty)'}) => frozenset({'HUMBLE.'})\n",
            "confidence =  0.6728395061728395\n",
            "________________________________\n",
            "frozenset({'HUMBLE.', 'iSpy (feat. Lil Yachty)'}) => frozenset({'Congratulations'})\n",
            "confidence =  0.7032258064516129\n",
            "________________________________\n",
            "frozenset({'HUMBLE.', 'DNA.'}) => frozenset({'Mask Off'})\n",
            "confidence =  0.5263157894736842\n",
            "________________________________\n",
            "frozenset({'DNA.', 'Mask Off'}) => frozenset({'HUMBLE.'})\n",
            "confidence =  0.9090909090909092\n",
            "________________________________\n",
            "frozenset({'Tunnel Vision', 'HUMBLE.'}) => frozenset({'XO TOUR Llif3'})\n",
            "confidence =  0.7338129496402879\n",
            "________________________________\n",
            "frozenset({'Tunnel Vision', 'XO TOUR Llif3'}) => frozenset({'HUMBLE.'})\n",
            "confidence =  0.7500000000000001\n",
            "________________________________\n",
            "frozenset({'HUMBLE.', 'XO TOUR Llif3'}) => frozenset({'Tunnel Vision'})\n",
            "confidence =  0.5\n",
            "________________________________\n",
            "frozenset({'HUMBLE.', 'XO TOUR Llif3'}) => frozenset({'DNA.'})\n",
            "confidence =  0.5\n",
            "________________________________\n",
            "frozenset({'HUMBLE.', 'DNA.'}) => frozenset({'XO TOUR Llif3'})\n",
            "confidence =  0.5368421052631579\n",
            "________________________________\n",
            "frozenset({'XO TOUR Llif3', 'DNA.'}) => frozenset({'HUMBLE.'})\n",
            "confidence =  0.864406779661017\n",
            "________________________________\n",
            "frozenset({'Congratulations', 'HUMBLE.'}) => frozenset({'XO TOUR Llif3'})\n",
            "confidence =  0.5981308411214954\n",
            "________________________________\n",
            "frozenset({'Congratulations', 'XO TOUR Llif3'}) => frozenset({'HUMBLE.'})\n",
            "confidence =  0.7150837988826816\n",
            "________________________________\n",
            "frozenset({'HUMBLE.', 'XO TOUR Llif3'}) => frozenset({'Congratulations'})\n",
            "confidence =  0.6274509803921569\n",
            "________________________________\n",
            "frozenset({'Broccoli (feat. Lil Yachty)', 'Bounce Back'}) => frozenset({'Bad and Boujee (feat. Lil Uzi Vert)'})\n",
            "confidence =  0.7751937984496124\n",
            "________________________________\n",
            "frozenset({'Broccoli (feat. Lil Yachty)', 'Bad and Boujee (feat. Lil Uzi Vert)'}) => frozenset({'Bounce Back'})\n",
            "confidence =  0.6451612903225806\n",
            "________________________________\n",
            "frozenset({'Bounce Back', 'Bad and Boujee (feat. Lil Uzi Vert)'}) => frozenset({'Broccoli (feat. Lil Yachty)'})\n",
            "confidence =  0.591715976331361\n",
            "________________________________\n",
            "frozenset({'Congratulations', 'XO TOUR Llif3'}) => frozenset({'Mask Off'})\n",
            "confidence =  0.5977653631284916\n",
            "________________________________\n",
            "frozenset({'Congratulations', 'Mask Off'}) => frozenset({'XO TOUR Llif3'})\n",
            "confidence =  0.6604938271604939\n",
            "________________________________\n",
            "frozenset({'XO TOUR Llif3', 'Mask Off'}) => frozenset({'Congratulations'})\n",
            "confidence =  0.656441717791411\n",
            "________________________________\n",
            "frozenset({'Congratulations', 'HUMBLE.'}) => frozenset({'Mask Off'})\n",
            "confidence =  0.5654205607476636\n",
            "________________________________\n",
            "frozenset({'Congratulations', 'Mask Off'}) => frozenset({'HUMBLE.'})\n",
            "confidence =  0.7469135802469136\n",
            "________________________________\n",
            "frozenset({'HUMBLE.', 'Mask Off'}) => frozenset({'Congratulations'})\n",
            "confidence =  0.5931372549019607\n",
            "________________________________\n",
            "frozenset({'HUMBLE.', 'goosebumps'}) => frozenset({'Mask Off'})\n",
            "confidence =  0.6586826347305389\n",
            "________________________________\n",
            "frozenset({'HUMBLE.', 'Mask Off'}) => frozenset({'goosebumps'})\n",
            "confidence =  0.5392156862745098\n",
            "________________________________\n",
            "frozenset({'Mask Off', 'goosebumps'}) => frozenset({'HUMBLE.'})\n",
            "confidence =  0.7432432432432432\n",
            "________________________________\n",
            "frozenset({'HUMBLE.', 'Bad and Boujee (feat. Lil Uzi Vert)'}) => frozenset({'Mask Off'})\n",
            "confidence =  0.6586826347305389\n",
            "________________________________\n",
            "frozenset({'HUMBLE.', 'Mask Off'}) => frozenset({'Bad and Boujee (feat. Lil Uzi Vert)'})\n",
            "confidence =  0.5392156862745098\n",
            "________________________________\n",
            "frozenset({'Bad and Boujee (feat. Lil Uzi Vert)', 'Mask Off'}) => frozenset({'HUMBLE.'})\n",
            "confidence =  0.7284768211920529\n",
            "________________________________\n",
            "frozenset({'HUMBLE.', 'Bounce Back'}) => frozenset({'Mask Off'})\n",
            "confidence =  0.6474358974358975\n",
            "________________________________\n",
            "frozenset({'Bounce Back', 'Mask Off'}) => frozenset({'HUMBLE.'})\n",
            "confidence =  0.7426470588235294\n",
            "________________________________\n",
            "frozenset({'HUMBLE.', 'XO TOUR Llif3'}) => frozenset({'goosebumps'})\n",
            "confidence =  0.5441176470588235\n",
            "________________________________\n",
            "frozenset({'HUMBLE.', 'goosebumps'}) => frozenset({'XO TOUR Llif3'})\n",
            "confidence =  0.6646706586826348\n",
            "________________________________\n",
            "frozenset({'XO TOUR Llif3', 'goosebumps'}) => frozenset({'HUMBLE.'})\n",
            "confidence =  0.7302631578947368\n",
            "________________________________\n",
            "frozenset({'HUMBLE.', 'XO TOUR Llif3'}) => frozenset({'Mask Off'})\n",
            "confidence =  0.642156862745098\n",
            "________________________________\n",
            "frozenset({'HUMBLE.', 'Mask Off'}) => frozenset({'XO TOUR Llif3'})\n",
            "confidence =  0.642156862745098\n",
            "________________________________\n",
            "frozenset({'XO TOUR Llif3', 'Mask Off'}) => frozenset({'HUMBLE.'})\n",
            "confidence =  0.8036809815950922\n",
            "________________________________\n",
            "frozenset({'XO TOUR Llif3', 'goosebumps'}) => frozenset({'Mask Off'})\n",
            "confidence =  0.6644736842105263\n",
            "________________________________\n",
            "frozenset({'Mask Off', 'goosebumps'}) => frozenset({'XO TOUR Llif3'})\n",
            "confidence =  0.6824324324324323\n",
            "________________________________\n",
            "frozenset({'XO TOUR Llif3', 'Mask Off'}) => frozenset({'goosebumps'})\n",
            "confidence =  0.6196319018404909\n",
            "________________________________\n",
            "frozenset({'Congratulations', 'HUMBLE.'}) => frozenset({'goosebumps'})\n",
            "confidence =  0.5233644859813085\n",
            "________________________________\n",
            "frozenset({'Congratulations', 'goosebumps'}) => frozenset({'HUMBLE.'})\n",
            "confidence =  0.7225806451612903\n",
            "________________________________\n",
            "frozenset({'HUMBLE.', 'goosebumps'}) => frozenset({'Congratulations'})\n",
            "confidence =  0.6706586826347305\n",
            "________________________________\n",
            "frozenset({'Congratulations', 'XO TOUR Llif3'}) => frozenset({'goosebumps'})\n",
            "confidence =  0.5810055865921788\n",
            "________________________________\n",
            "frozenset({'Congratulations', 'goosebumps'}) => frozenset({'XO TOUR Llif3'})\n",
            "confidence =  0.6709677419354838\n",
            "________________________________\n",
            "frozenset({'XO TOUR Llif3', 'goosebumps'}) => frozenset({'Congratulations'})\n",
            "confidence =  0.6842105263157895\n",
            "________________________________\n"
          ]
        }
      ]
    },
    {
      "cell_type": "markdown",
      "metadata": {
        "id": "cR5B9KakCGFH"
      },
      "source": [
        "---"
      ]
    }
  ]
}