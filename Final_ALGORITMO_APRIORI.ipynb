{
  "nbformat": 4,
  "nbformat_minor": 0,
  "metadata": {
    "colab": {
      "name": "Final_ALGORITMO_APRIORI.ipynb",
      "provenance": [],
      "collapsed_sections": [],
      "authorship_tag": "ABX9TyNZHRIhV93ACv+G2RXQIvQ6",
      "include_colab_link": true
    },
    "kernelspec": {
      "name": "python3",
      "display_name": "Python 3"
    },
    "language_info": {
      "name": "python"
    }
  },
  "cells": [
    {
      "cell_type": "markdown",
      "metadata": {
        "id": "view-in-github",
        "colab_type": "text"
      },
      "source": [
        "<a href=\"https://colab.research.google.com/github/DinhoVCO/Mineria-de-datos/blob/main/Final_ALGORITMO_APRIORI.ipynb\" target=\"_parent\"><img src=\"https://colab.research.google.com/assets/colab-badge.svg\" alt=\"Open In Colab\"/></a>"
      ]
    },
    {
      "cell_type": "markdown",
      "metadata": {
        "id": "Obi43NUVgJdO"
      },
      "source": [
        "# **ALGORITMO APRIORI**\n",
        "---\n",
        "**UNIVERSIDAD NACIONAL DE SAN ANTONIO ABAD DEL CUSCO**\n",
        "\n",
        "\n",
        "> ESCUELA PROFESIONAL: Ing. Informatica y de Sistemas\n",
        "\n",
        "\n",
        "\n",
        "> CURSO: Minería de datos💻\n",
        "\n",
        "\n",
        "> ALUMNO : Vega Centeno Olivera, Ronaldinho🧑\n",
        "\n",
        "\n",
        "\n",
        "\n",
        "\n"
      ]
    },
    {
      "cell_type": "markdown",
      "metadata": {
        "id": "x8vpD-Z8gHz1"
      },
      "source": [
        "\n",
        "\n",
        "##**1.-Instalar bibliotecas**"
      ]
    },
    {
      "cell_type": "code",
      "metadata": {
        "id": "lHdAsC9cziM2"
      },
      "source": [
        "import numpy as np #para procesar el dataset\n",
        "import statistics as stats #para hallar medidas estadisticas"
      ],
      "execution_count": null,
      "outputs": []
    },
    {
      "cell_type": "markdown",
      "metadata": {
        "id": "I3LCBe7Nhl7d"
      },
      "source": [
        "## **2.-Importar datos**"
      ]
    },
    {
      "cell_type": "code",
      "metadata": {
        "id": "EdUD3wGWzeum",
        "colab": {
          "base_uri": "https://localhost:8080/"
        },
        "outputId": "f002f1a9-213b-4bf1-aa58-ca965ed36cd8"
      },
      "source": [
        "#Importamos el archivo .npy en la variable data de tipo numpy.ndarray 0-dimensional\n",
        "data = np.load('spotify.npy',allow_pickle=True,fix_imports=True)\n",
        "#convertimos a una lista -> obtenemos un diccionario\n",
        "data=data.tolist()\n",
        "#Cantidad de playlist\n",
        "print(\"Total de PlayLists:\",len(data))"
      ],
      "execution_count": null,
      "outputs": [
        {
          "output_type": "stream",
          "name": "stdout",
          "text": [
            "Total de PlayLists: 10000\n"
          ]
        }
      ]
    },
    {
      "cell_type": "code",
      "metadata": {
        "colab": {
          "base_uri": "https://localhost:8080/"
        },
        "id": "W1NiWtrsc3lI",
        "outputId": "932b121e-37b8-4875-9caf-f71167ad0483"
      },
      "source": [
        "#Canciones de la playlist n° 0 sin repeticiones y ordenadas alfabeticamente\n",
        "set(data[0][0:5])"
      ],
      "execution_count": null,
      "outputs": [
        {
          "output_type": "execute_result",
          "data": {
            "text/plain": [
              "{'Crazy In Love',\n",
              " \"It Wasn't Me\",\n",
              " 'Lose Control (feat. Ciara & Fat Man Scoop)',\n",
              " 'Rock Your Body',\n",
              " 'Toxic'}"
            ]
          },
          "metadata": {},
          "execution_count": 318
        }
      ]
    },
    {
      "cell_type": "markdown",
      "metadata": {
        "id": "ztejNm-0rGeh"
      },
      "source": [
        "##**3.- Preprocesar (lista de listas)**"
      ]
    },
    {
      "cell_type": "code",
      "metadata": {
        "id": "F3cJrYh4xseT"
      },
      "source": [
        "#Generamos una lista de canciones unicas y de playlist sin canciones repetidas\n",
        "def dataset_preprocessing(data):\n",
        "  playlist=[]\n",
        "  songs=set()\n",
        "  for i in data:\n",
        "    playlist.append(set(data[i]))\n",
        "    songs|=set(data[i])\n",
        "  \n",
        "  songs=[[i] for i in list(songs)]\n",
        "  songs.sort()\n",
        "  return list(map(frozenset,songs)), playlist"
      ],
      "execution_count": null,
      "outputs": []
    },
    {
      "cell_type": "code",
      "metadata": {
        "colab": {
          "base_uri": "https://localhost:8080/"
        },
        "id": "d54P5s1joTJG",
        "outputId": "9f84e8d7-08f6-4a0c-a79a-a6611bf2f89d"
      },
      "source": [
        "songs, playlist = dataset_preprocessing(data)\n",
        "print('Total de canciones distintas:', len(songs))\n",
        "print('Total de Playlists(transaccciones):', len(playlist))"
      ],
      "execution_count": null,
      "outputs": [
        {
          "output_type": "stream",
          "name": "stdout",
          "text": [
            "Total de canciones distintas: 132920\n",
            "Total de Playlists(transaccciones): 10000\n"
          ]
        }
      ]
    },
    {
      "cell_type": "code",
      "metadata": {
        "colab": {
          "base_uri": "https://localhost:8080/"
        },
        "id": "iVdl_NkY3esC",
        "outputId": "c28c8683-3697-45ee-cdb8-0f1c3ed935ec"
      },
      "source": [
        "#Tres canciones\n",
        "songs[:3]"
      ],
      "execution_count": null,
      "outputs": [
        {
          "output_type": "execute_result",
          "data": {
            "text/plain": [
              "[frozenset({'!Dios Mio! El Diablo Es Muy Picante'}),\n",
              " frozenset({'\"*!*!\" What U Heard'}),\n",
              " frozenset({'\"2014: A Pesach Medley\"'})]"
            ]
          },
          "metadata": {},
          "execution_count": 325
        }
      ]
    },
    {
      "cell_type": "code",
      "metadata": {
        "colab": {
          "base_uri": "https://localhost:8080/"
        },
        "id": "vEkMWYA9p_2S",
        "outputId": "36b99bb4-0940-4a92-88db-9aa362a38dbd"
      },
      "source": [
        "#Plailist n°999\n",
        "playlist[999]"
      ],
      "execution_count": null,
      "outputs": [
        {
          "output_type": "execute_result",
          "data": {
            "text/plain": [
              "{'A Quién Le Importa',\n",
              " 'Amor De Pobre - No Tengo Dinero (Hip-Hop Version)',\n",
              " 'El Hombre Es Como El Oso',\n",
              " 'El Mario de Tu Mujer (feat. Don Miguelo)',\n",
              " 'El Regeton',\n",
              " 'El Tao Tao',\n",
              " 'Juana La Cubana',\n",
              " 'La Bomba',\n",
              " 'La Mesa Que Mas Aplauda (Za Za Za)',\n",
              " 'La Vaca',\n",
              " 'Muévelo',\n",
              " 'Party In Miami',\n",
              " 'Que Lo Que',\n",
              " 'Tu Pun Pun',\n",
              " 'Un Ladrón'}"
            ]
          },
          "metadata": {},
          "execution_count": 326
        }
      ]
    },
    {
      "cell_type": "markdown",
      "metadata": {
        "id": "AmThjFGjreb6"
      },
      "source": [
        "## **4.-Definir umbrales** 🟠⏮ "
      ]
    },
    {
      "cell_type": "code",
      "metadata": {
        "colab": {
          "base_uri": "https://localhost:8080/"
        },
        "id": "F4t_Wg_A6eND",
        "outputId": "759e90e6-1847-4e28-f949-fe18a3162553"
      },
      "source": [
        "frequencies=dict()\n",
        "for i in playlist:\n",
        "  for j in i:\n",
        "    frequencies[j] =frequencies.get(j, 0) + 1\n",
        "frecuencias=list(frequencies.values())\n",
        "frecuencias.sort()\n",
        "#print(frecuencias)\n",
        "print(len(frecuencias))"
      ],
      "execution_count": 710,
      "outputs": [
        {
          "output_type": "stream",
          "name": "stdout",
          "text": [
            "132920\n"
          ]
        }
      ]
    },
    {
      "cell_type": "code",
      "metadata": {
        "colab": {
          "base_uri": "https://localhost:8080/"
        },
        "id": "wlWQFNwtX1Ak",
        "outputId": "2c565c3f-2c31-4b06-c873-93d9366173b4"
      },
      "source": [
        "print(\"Media aritmética: \",stats.mean(frecuencias))\n",
        "print(\"Media armónica: \",stats.harmonic_mean(frecuencias)) \n",
        "print(\"Mediana: \",stats.median(frecuencias))\n",
        "print(\"Mediana baja: \",stats.median_low(frecuencias))\n",
        "print(\"Mediana alta: \",stats.median_high(frecuencias))\n",
        "print(\"Percentil 50:\",stats.median_grouped(frecuencias)) \n",
        "print(\"Moda: \",stats.mode(frecuencias)) \n",
        "print(\"Varianza poblacional : \",stats.pvariance(frecuencias)) \n",
        "print(\"Desviación estándar: \",stats.pstdev(frecuencias))\n",
        "print(\"Varianza muestral :\",stats.variance(frecuencias)) "
      ],
      "execution_count": null,
      "outputs": [
        {
          "output_type": "stream",
          "name": "stdout",
          "text": [
            "Media aritmética:  4.910028588624737\n",
            "Media armónica:  1.4028898793768465\n",
            "Mediana:  1.0\n",
            "Mediana baja:  1\n",
            "Mediana alta:  1\n",
            "Percentil 50: 1.3384321344317307\n",
            "Moda:  1\n",
            "Varianza poblacional :  254.75020336963107\n",
            "Desviación estándar:  15.960896070384992\n",
            "Varianza muestral : 254.75211995193587\n"
          ]
        }
      ]
    },
    {
      "cell_type": "code",
      "metadata": {
        "id": "YOb7eK8GrdtQ"
      },
      "source": [
        "lon_min = 2 # Número mínimo de productos a considerar en las reglas\n",
        "veces_minimas_aparece_en_lista=100\n",
        "soporte_min = veces_minimas_aparece_en_lista / len(playlist)\n",
        "confianza_min =0.5\n",
        "sustento_min =1.5"
      ],
      "execution_count": null,
      "outputs": []
    },
    {
      "cell_type": "markdown",
      "metadata": {
        "id": "HiU4aajy4P_q"
      },
      "source": [
        "## **5.-Ejecutar algoritmo** "
      ]
    },
    {
      "cell_type": "markdown",
      "metadata": {
        "id": "vFKqAiIO65_2"
      },
      "source": [
        "### **5.1. Get frequent items**"
      ]
    },
    {
      "cell_type": "markdown",
      "metadata": {
        "id": "NE3yLNhP7pYl"
      },
      "source": [
        "#### get_first_frequent_items"
      ]
    },
    {
      "cell_type": "code",
      "metadata": {
        "id": "of-BOb3XolMF"
      },
      "source": [
        "#Modulo optimo para obtener 1-itemsetfrequents\n",
        "def get_first_frequent_items(transactions, k_itemSet,minSupport):\n",
        "  frequencies=dict()\n",
        "  for i in transactions:\n",
        "    for j in i:\n",
        "      frequencies[j] =frequencies.get(j, 0) + 1\n",
        "  TotalTransactions = float(len(transactions))\n",
        "  ItemSetFrequent = []\n",
        "  supportItemSet = {}\n",
        "  for key in frequencies:\n",
        "      support = frequencies[key] / TotalTransactions  # Calcular soporte\n",
        "      if support >= minSupport:  # Si el soporte es mayor que el soporte mínimo establecido\n",
        "          ItemSetFrequent.insert(0,key)\n",
        "          #ItemSetFrequent.append(key)\n",
        "      supportItemSet[key] = support\n",
        "  ItemSetFrequent.sort()\n",
        "  ItemSetFrequent=[frozenset({i}) for i in ItemSetFrequent ]\n",
        "  return ItemSetFrequent, supportItemSet"
      ],
      "execution_count": null,
      "outputs": []
    },
    {
      "cell_type": "code",
      "metadata": {
        "colab": {
          "base_uri": "https://localhost:8080/"
        },
        "id": "y40mwhacVPqn",
        "outputId": "6ca9b4b2-9110-4596-8287-784cdd5594a8"
      },
      "source": [
        "ItemSetFrequent_1,support = get_first_frequent_items(playlist[:2],songs,0.015)\n",
        "print( 'Cantidad de  1-ItemSetFrequent: ', len(ItemSetFrequent_1))\n",
        "print('Cantidad de support hallados:',len(support))\n",
        "print('Canciones: ', ItemSetFrequent_1[:5])\n",
        "print(\"Support de 'A Million Miles Away'=\", support['A Million Miles Away'])\n"
      ],
      "execution_count": 714,
      "outputs": [
        {
          "output_type": "stream",
          "name": "stdout",
          "text": [
            "Cantidad de  1-ItemSetFrequent:  224\n",
            "Cantidad de support hallados: 224\n",
            "Canciones:  [frozenset({'A Million Miles Away'}), frozenset({'A Star Is Born'}), frozenset({'A Thousand Miles'}), frozenset({'A True Hero / A Star Is Born'}), frozenset({'A Whole New World'})]\n",
            "Support de 'A Million Miles Away'= 0.5\n"
          ]
        }
      ]
    },
    {
      "cell_type": "markdown",
      "metadata": {
        "id": "CBG2r3uW8v65"
      },
      "source": [
        "#### get_frequent_items"
      ]
    },
    {
      "cell_type": "code",
      "metadata": {
        "id": "bKdOQH7n-HkZ"
      },
      "source": [
        "def get_frequent_items(transactions, k_itemSet,minSupport):\n",
        "  frequencies=dict()\n",
        "  for i in transactions:\n",
        "    for j in k_itemSet:\n",
        "      if (j<=i):\n",
        "        frequencies[j] =frequencies.get(j, 0) + 1\n",
        "  TotalTransactions = float(len(transactions))\n",
        "  ItemSetFrequent = []\n",
        "  supportItemSet = {}\n",
        "  for key in frequencies:\n",
        "      support = frequencies[key] / TotalTransactions  # Calcular soporte\n",
        "      if support >= minSupport:  # Si el soporte es mayor que el soporte mínimo establecido\n",
        "          ItemSetFrequent.insert(0,key)\n",
        "          #ItemSetFrequent.append(key)\n",
        "      supportItemSet[key] = support\n",
        "  ItemSetFrequent.sort()\n",
        "  return ItemSetFrequent, supportItemSet\n",
        "  \n"
      ],
      "execution_count": null,
      "outputs": []
    },
    {
      "cell_type": "code",
      "metadata": {
        "colab": {
          "base_uri": "https://localhost:8080/"
        },
        "id": "9sKkUUt6Pe6d",
        "outputId": "87f4098a-3490-4746-a212-6676db6e55f6"
      },
      "source": [
        "frec,k = get_first_frequent_items(D[:2], C1, 0.015)\n",
        "print(len(frec))\n",
        "print(len(k))\n"
      ],
      "execution_count": 715,
      "outputs": [
        {
          "output_type": "stream",
          "name": "stdout",
          "text": [
            "224\n",
            "224\n"
          ]
        }
      ]
    },
    {
      "cell_type": "code",
      "metadata": {
        "colab": {
          "base_uri": "https://localhost:8080/"
        },
        "id": "zTJk94iHPGEm",
        "outputId": "2b8e9433-2660-4160-b11e-70ad3c4c92eb"
      },
      "source": [
        "frec,k = get_frequent_items(D[:2], C1, 0.001)\n",
        "print(len(frec))\n",
        "print(len(k))"
      ],
      "execution_count": 716,
      "outputs": [
        {
          "output_type": "stream",
          "name": "stdout",
          "text": [
            "224\n",
            "224\n"
          ]
        }
      ]
    },
    {
      "cell_type": "markdown",
      "metadata": {
        "id": "OBiE4wTB7bxk"
      },
      "source": [
        "### **5.2 Get Combination Apriori**"
      ]
    },
    {
      "cell_type": "code",
      "metadata": {
        "id": "c8yv-Kaq6oPZ"
      },
      "source": [
        "#GEnerar posibles conjuntos (k-ItemSet) a partir de mezclar los k-1 ItemSetFrequent\n",
        "#Los ItemSet deben estar ordenados lexicográficamente\n",
        "# Solo mezclamos los pares de itemsets que difieren en su último ítem.\n",
        "def get_combination_apriori(ItemSetFrequent, k):\n",
        "  ItemSet_k=[]\n",
        "  tam=len(ItemSetFrequent)\n",
        "  for i in range(tam):\n",
        "    for j in range(i+1,tam):\n",
        "      Arr1=list(ItemSetFrequent[i])[:k-1]\n",
        "      Arr2=list(ItemSetFrequent[j])[:k-1]\n",
        "      if(Arr1==Arr2):\n",
        "        ItemSet_k.append(ItemSetFrequent[i]|ItemSetFrequent[j])\n",
        "  return ItemSet_k\n"
      ],
      "execution_count": 717,
      "outputs": []
    },
    {
      "cell_type": "code",
      "metadata": {
        "colab": {
          "base_uri": "https://localhost:8080/"
        },
        "id": "xW4nQYyNIzA3",
        "outputId": "569fbd3b-f536-4eb7-fb3f-8ab37ed9a96f"
      },
      "source": [
        "C1, D = dataset_preprocessing(data)\n",
        "print(\"Canciones:\",len(C1))\n",
        "print(\"playlists: \",len(D))\n",
        "L1, supportData = get_first_frequent_items(D, C1, 0.015)\n",
        "print(len(L1))\n",
        "len(L1[:2])\n",
        "len(C1)"
      ],
      "execution_count": null,
      "outputs": [
        {
          "output_type": "stream",
          "name": "stdout",
          "text": [
            "Canciones: 132920\n",
            "playlists:  10000\n",
            "349\n"
          ]
        },
        {
          "output_type": "execute_result",
          "data": {
            "text/plain": [
              "132920"
            ]
          },
          "metadata": {},
          "execution_count": 336
        }
      ]
    },
    {
      "cell_type": "code",
      "metadata": {
        "id": "CWJBoxJOJJIZ",
        "colab": {
          "base_uri": "https://localhost:8080/"
        },
        "outputId": "60101a63-ed53-4856-aee9-4180676631e3"
      },
      "source": [
        "L1, supportData = get_first_frequent_items(D, C1, 0.015)\n",
        "print(len(L1))\n",
        "len(L1[:2])"
      ],
      "execution_count": null,
      "outputs": [
        {
          "output_type": "stream",
          "name": "stdout",
          "text": [
            "349\n"
          ]
        },
        {
          "output_type": "execute_result",
          "data": {
            "text/plain": [
              "2"
            ]
          },
          "metadata": {},
          "execution_count": 337
        }
      ]
    },
    {
      "cell_type": "code",
      "metadata": {
        "id": "tiJ-Dj64JdeJ",
        "colab": {
          "base_uri": "https://localhost:8080/"
        },
        "outputId": "c7f5ee0b-f2d5-49a1-f764-c8c4e2c8a158"
      },
      "source": [
        "L=[L1]\n",
        "Ck=get_combination_apriori(L[0],1)\n",
        "len(Ck)"
      ],
      "execution_count": null,
      "outputs": [
        {
          "output_type": "execute_result",
          "data": {
            "text/plain": [
              "60726"
            ]
          },
          "metadata": {},
          "execution_count": 338
        }
      ]
    },
    {
      "cell_type": "code",
      "metadata": {
        "colab": {
          "base_uri": "https://localhost:8080/"
        },
        "id": "by3fQ9Suqgq0",
        "outputId": "d91c0088-e662-4b04-a2ca-e68315403087"
      },
      "source": [
        "print(Ck[:3])"
      ],
      "execution_count": null,
      "outputs": [
        {
          "output_type": "stream",
          "name": "stdout",
          "text": [
            "[frozenset({'0 To 100 / The Catch Up', \"'Till I Collapse\"}), frozenset({'1-800-273-8255', \"'Till I Collapse\"}), frozenset({\"'Till I Collapse\", '24K Magic'})]\n"
          ]
        }
      ]
    },
    {
      "cell_type": "markdown",
      "metadata": {
        "id": "nLhz-2YBlC8e"
      },
      "source": [
        "### 5.3 Generacion de los k-itemSetsFrecuentes"
      ]
    },
    {
      "cell_type": "code",
      "metadata": {
        "id": "JmxAv9vrlCSA"
      },
      "source": [
        "def get_frequent_itemsets(data, minSupport=0.2):  # Obtenga [L1, L2, L3 ..] lista de conjuntos de elementos frecuentes haciendo un bucle\n",
        "    songs, playlists = dataset_preprocessing(data)\n",
        "    L1, supportData = get_first_frequent_items(playlists, songs, minSupport)\n",
        "    L = [L1]\n",
        "    print(\"Total de canciones:\",len(L[0]))\n",
        "    k = 1\n",
        "    while (len(L[k - 1]) > 0):  # Crear Ck\n",
        "        print(\"k==\",k,\" cantidad:\",len(L[k-1]))\n",
        "        Ck = get_combination_apriori(L[k - 1], k)\n",
        "        print(\"Ck Generado:\",len(Ck))\n",
        "        Lk, supK = get_frequent_items(D, Ck, minSupport)\n",
        "        supportData.update(supK)\n",
        "        L.append(Lk)\n",
        "        k += 1\n",
        "    return L, supportData"
      ],
      "execution_count": null,
      "outputs": []
    },
    {
      "cell_type": "code",
      "metadata": {
        "colab": {
          "base_uri": "https://localhost:8080/"
        },
        "id": "q0vRIRLxmjeZ",
        "outputId": "2a844e8c-a544-4503-9ea8-dc183c1ad34f"
      },
      "source": [
        "L, supportData= get_frequent_itemsets(data,0.01)"
      ],
      "execution_count": null,
      "outputs": [
        {
          "output_type": "stream",
          "name": "stdout",
          "text": [
            "Total de canciones: 838\n",
            "k== 1  cantidad: 838\n",
            "Ck Generado: 350703\n",
            "k== 2  cantidad: 167\n",
            "Ck Generado: 732\n",
            "k== 3  cantidad: 19\n",
            "Ck Generado: 17\n"
          ]
        }
      ]
    },
    {
      "cell_type": "code",
      "metadata": {
        "colab": {
          "base_uri": "https://localhost:8080/"
        },
        "id": "i8U7RrEnTU5z",
        "outputId": "14a078c3-a374-45a1-962a-48cf5dfe382d"
      },
      "source": [
        "len(L)"
      ],
      "execution_count": 623,
      "outputs": [
        {
          "output_type": "execute_result",
          "data": {
            "text/plain": [
              "4"
            ]
          },
          "metadata": {},
          "execution_count": 623
        }
      ]
    },
    {
      "cell_type": "markdown",
      "metadata": {
        "id": "eX3iT9yu6d88"
      },
      "source": [
        "### 5.4 generar reglas"
      ]
    },
    {
      "cell_type": "code",
      "metadata": {
        "id": "dGTxVH7L920O"
      },
      "source": [
        "import itertools "
      ],
      "execution_count": null,
      "outputs": []
    },
    {
      "cell_type": "code",
      "metadata": {
        "id": "F2zem6AD9eWH"
      },
      "source": [
        "def generar_reglas(conjunto):\n",
        "  s = conjunto\n",
        "  combinaciones= list(map(frozenset,chain.from_iterable(combinations(s, r) for r in range(1,len(s)))))\n",
        "  reglas=[]\n",
        "  for i in combinaciones:\n",
        "    r=[i,conjunto-i]\n",
        "    reglas.append(r)\n",
        "  return reglas"
      ],
      "execution_count": 658,
      "outputs": []
    },
    {
      "cell_type": "code",
      "metadata": {
        "colab": {
          "base_uri": "https://localhost:8080/"
        },
        "id": "qTFXw5wKBG4F",
        "outputId": "7e8c6601-bfe4-463c-8313-c1e010a67a27"
      },
      "source": [
        "generar_reglas(frozenset({1,2,3}))"
      ],
      "execution_count": 659,
      "outputs": [
        {
          "output_type": "execute_result",
          "data": {
            "text/plain": [
              "[[frozenset({1}), frozenset({2, 3})],\n",
              " [frozenset({2}), frozenset({1, 3})],\n",
              " [frozenset({3}), frozenset({1, 2})],\n",
              " [frozenset({1, 2}), frozenset({3})],\n",
              " [frozenset({1, 3}), frozenset({2})],\n",
              " [frozenset({2, 3}), frozenset({1})]]"
            ]
          },
          "metadata": {},
          "execution_count": 659
        }
      ]
    },
    {
      "cell_type": "code",
      "metadata": {
        "id": "KzXLCz0zW8vW"
      },
      "source": [
        "def print_reglas(reglas):\n",
        "  for i in reglas:\n",
        "    print(i[0],\"=>\",i[1])\n",
        "    print(\"________________________________\")"
      ],
      "execution_count": 660,
      "outputs": []
    },
    {
      "cell_type": "code",
      "metadata": {
        "id": "G_BFhH8yDPqS"
      },
      "source": [
        "def print_reglas2(reglas,soportes,conf_min):\n",
        "  resultado=[]\n",
        "  for i in reglas:\n",
        "    \n",
        "    X_u_Y= soportes[i[0] | i[1]]\n",
        "    if(len(i[0])==1):\n",
        "      X =soportes[list(i[0])[0]]\n",
        "    else:\n",
        "      X =soportes[i[0]]\n",
        "    confianza=X_u_Y/X\n",
        "    if(confianza>=conf_min):\n",
        "      r=[i[0],i[1]]\n",
        "      resultado.append(r)\n",
        "      print(i[0],\"=>\",i[1])\n",
        "      print(\"confidence = \", confianza)\n",
        "      print(\"________________________________\")\n",
        "  return(resultado)\n"
      ],
      "execution_count": 705,
      "outputs": []
    },
    {
      "cell_type": "code",
      "metadata": {
        "colab": {
          "base_uri": "https://localhost:8080/"
        },
        "id": "6bSDsMyWDgDi",
        "outputId": "12c6e5d7-7879-49bd-c3f2-c727db20401c"
      },
      "source": [
        "print_reglas(generar_reglas(frozenset({1,2,3})))"
      ],
      "execution_count": 691,
      "outputs": [
        {
          "output_type": "stream",
          "name": "stdout",
          "text": [
            "frozenset({1}) => frozenset({2, 3})\n",
            "________________________________\n",
            "frozenset({2}) => frozenset({1, 3})\n",
            "________________________________\n",
            "frozenset({3}) => frozenset({1, 2})\n",
            "________________________________\n",
            "frozenset({1, 2}) => frozenset({3})\n",
            "________________________________\n",
            "frozenset({1, 3}) => frozenset({2})\n",
            "________________________________\n",
            "frozenset({2, 3}) => frozenset({1})\n",
            "________________________________\n"
          ]
        }
      ]
    },
    {
      "cell_type": "code",
      "metadata": {
        "id": "n6WMdmSJ6vOf"
      },
      "source": [
        "def verificar_confianza(itemSetFrecuente,minconf,soportes):\n",
        "  reglas=[]\n",
        "  #print(len(itemSetFrecuente[0]))\n",
        "  if(len(itemSetFrecuente[0])>1):\n",
        "    for i in itemSetFrecuente:\n",
        "      #print(i)\n",
        "      *_,Y=i\n",
        "      #print(Y)\n",
        "      X=i-{Y}\n",
        "      #print(X)\n",
        "      soporte_X_u_Y=soportes[i]\n",
        "      #print(soporte_X_u_Y)\n",
        "      if(len(itemSetFrecuente[0])==2):\n",
        "        soporte_X=soportes[list(X)[0]]\n",
        "      else:\n",
        "        soporte_X=soportes[X]\n",
        "      #print(soporte_X)\n",
        "      confianza=soporte_X_u_Y/soporte_X\n",
        "      if(confianza>=minconf):\n",
        "        #print(Y)\n",
        "        #print(X)\n",
        "        #print(confianza)\n",
        "        reglas+=generar_reglas(i)\n",
        "        #print_reglas2(generar_reglas(i),soportes,minconf)\n",
        "    filtro_reglas=print_reglas2(reglas,soportes,minconf)\n",
        "  else:\n",
        "    print(\"No existen reglas\")\n",
        "  return filtro_reglas\n",
        "    "
      ],
      "execution_count": 706,
      "outputs": []
    },
    {
      "cell_type": "code",
      "metadata": {
        "colab": {
          "base_uri": "https://localhost:8080/"
        },
        "id": "M7ZXULFeYRpE",
        "outputId": "5c448423-6deb-44c1-ccde-4efc7a7e3f34"
      },
      "source": [
        "R=verificar_confianza(L[2],0.5,supportData)"
      ],
      "execution_count": 707,
      "outputs": [
        {
          "output_type": "stream",
          "name": "stdout",
          "text": [
            "frozenset({'Congratulations', 'HUMBLE.'}) => frozenset({'iSpy (feat. Lil Yachty)'})\n",
            "confidence =  0.5093457943925234\n",
            "________________________________\n",
            "frozenset({'Congratulations', 'iSpy (feat. Lil Yachty)'}) => frozenset({'HUMBLE.'})\n",
            "confidence =  0.6728395061728395\n",
            "________________________________\n",
            "frozenset({'HUMBLE.', 'iSpy (feat. Lil Yachty)'}) => frozenset({'Congratulations'})\n",
            "confidence =  0.7032258064516129\n",
            "________________________________\n",
            "frozenset({'HUMBLE.', 'DNA.'}) => frozenset({'Mask Off'})\n",
            "confidence =  0.5263157894736842\n",
            "________________________________\n",
            "frozenset({'DNA.', 'Mask Off'}) => frozenset({'HUMBLE.'})\n",
            "confidence =  0.9090909090909092\n",
            "________________________________\n",
            "frozenset({'Tunnel Vision', 'HUMBLE.'}) => frozenset({'XO TOUR Llif3'})\n",
            "confidence =  0.7338129496402879\n",
            "________________________________\n",
            "frozenset({'Tunnel Vision', 'XO TOUR Llif3'}) => frozenset({'HUMBLE.'})\n",
            "confidence =  0.7500000000000001\n",
            "________________________________\n",
            "frozenset({'HUMBLE.', 'XO TOUR Llif3'}) => frozenset({'Tunnel Vision'})\n",
            "confidence =  0.5\n",
            "________________________________\n",
            "frozenset({'HUMBLE.', 'XO TOUR Llif3'}) => frozenset({'DNA.'})\n",
            "confidence =  0.5\n",
            "________________________________\n",
            "frozenset({'HUMBLE.', 'DNA.'}) => frozenset({'XO TOUR Llif3'})\n",
            "confidence =  0.5368421052631579\n",
            "________________________________\n",
            "frozenset({'XO TOUR Llif3', 'DNA.'}) => frozenset({'HUMBLE.'})\n",
            "confidence =  0.864406779661017\n",
            "________________________________\n",
            "frozenset({'Congratulations', 'HUMBLE.'}) => frozenset({'XO TOUR Llif3'})\n",
            "confidence =  0.5981308411214954\n",
            "________________________________\n",
            "frozenset({'Congratulations', 'XO TOUR Llif3'}) => frozenset({'HUMBLE.'})\n",
            "confidence =  0.7150837988826816\n",
            "________________________________\n",
            "frozenset({'HUMBLE.', 'XO TOUR Llif3'}) => frozenset({'Congratulations'})\n",
            "confidence =  0.6274509803921569\n",
            "________________________________\n",
            "frozenset({'Broccoli (feat. Lil Yachty)', 'Bounce Back'}) => frozenset({'Bad and Boujee (feat. Lil Uzi Vert)'})\n",
            "confidence =  0.7751937984496124\n",
            "________________________________\n",
            "frozenset({'Broccoli (feat. Lil Yachty)', 'Bad and Boujee (feat. Lil Uzi Vert)'}) => frozenset({'Bounce Back'})\n",
            "confidence =  0.6451612903225806\n",
            "________________________________\n",
            "frozenset({'Bounce Back', 'Bad and Boujee (feat. Lil Uzi Vert)'}) => frozenset({'Broccoli (feat. Lil Yachty)'})\n",
            "confidence =  0.591715976331361\n",
            "________________________________\n",
            "frozenset({'Congratulations', 'XO TOUR Llif3'}) => frozenset({'Mask Off'})\n",
            "confidence =  0.5977653631284916\n",
            "________________________________\n",
            "frozenset({'Congratulations', 'Mask Off'}) => frozenset({'XO TOUR Llif3'})\n",
            "confidence =  0.6604938271604939\n",
            "________________________________\n",
            "frozenset({'XO TOUR Llif3', 'Mask Off'}) => frozenset({'Congratulations'})\n",
            "confidence =  0.656441717791411\n",
            "________________________________\n",
            "frozenset({'Congratulations', 'HUMBLE.'}) => frozenset({'Mask Off'})\n",
            "confidence =  0.5654205607476636\n",
            "________________________________\n",
            "frozenset({'Congratulations', 'Mask Off'}) => frozenset({'HUMBLE.'})\n",
            "confidence =  0.7469135802469136\n",
            "________________________________\n",
            "frozenset({'HUMBLE.', 'Mask Off'}) => frozenset({'Congratulations'})\n",
            "confidence =  0.5931372549019607\n",
            "________________________________\n",
            "frozenset({'HUMBLE.', 'goosebumps'}) => frozenset({'Mask Off'})\n",
            "confidence =  0.6586826347305389\n",
            "________________________________\n",
            "frozenset({'HUMBLE.', 'Mask Off'}) => frozenset({'goosebumps'})\n",
            "confidence =  0.5392156862745098\n",
            "________________________________\n",
            "frozenset({'Mask Off', 'goosebumps'}) => frozenset({'HUMBLE.'})\n",
            "confidence =  0.7432432432432432\n",
            "________________________________\n",
            "frozenset({'HUMBLE.', 'Bad and Boujee (feat. Lil Uzi Vert)'}) => frozenset({'Mask Off'})\n",
            "confidence =  0.6586826347305389\n",
            "________________________________\n",
            "frozenset({'HUMBLE.', 'Mask Off'}) => frozenset({'Bad and Boujee (feat. Lil Uzi Vert)'})\n",
            "confidence =  0.5392156862745098\n",
            "________________________________\n",
            "frozenset({'Bad and Boujee (feat. Lil Uzi Vert)', 'Mask Off'}) => frozenset({'HUMBLE.'})\n",
            "confidence =  0.7284768211920529\n",
            "________________________________\n",
            "frozenset({'HUMBLE.', 'Bounce Back'}) => frozenset({'Mask Off'})\n",
            "confidence =  0.6474358974358975\n",
            "________________________________\n",
            "frozenset({'Bounce Back', 'Mask Off'}) => frozenset({'HUMBLE.'})\n",
            "confidence =  0.7426470588235294\n",
            "________________________________\n",
            "frozenset({'HUMBLE.', 'XO TOUR Llif3'}) => frozenset({'goosebumps'})\n",
            "confidence =  0.5441176470588235\n",
            "________________________________\n",
            "frozenset({'HUMBLE.', 'goosebumps'}) => frozenset({'XO TOUR Llif3'})\n",
            "confidence =  0.6646706586826348\n",
            "________________________________\n",
            "frozenset({'XO TOUR Llif3', 'goosebumps'}) => frozenset({'HUMBLE.'})\n",
            "confidence =  0.7302631578947368\n",
            "________________________________\n",
            "frozenset({'HUMBLE.', 'XO TOUR Llif3'}) => frozenset({'Mask Off'})\n",
            "confidence =  0.642156862745098\n",
            "________________________________\n",
            "frozenset({'HUMBLE.', 'Mask Off'}) => frozenset({'XO TOUR Llif3'})\n",
            "confidence =  0.642156862745098\n",
            "________________________________\n",
            "frozenset({'XO TOUR Llif3', 'Mask Off'}) => frozenset({'HUMBLE.'})\n",
            "confidence =  0.8036809815950922\n",
            "________________________________\n",
            "frozenset({'XO TOUR Llif3', 'goosebumps'}) => frozenset({'Mask Off'})\n",
            "confidence =  0.6644736842105263\n",
            "________________________________\n",
            "frozenset({'Mask Off', 'goosebumps'}) => frozenset({'XO TOUR Llif3'})\n",
            "confidence =  0.6824324324324323\n",
            "________________________________\n",
            "frozenset({'XO TOUR Llif3', 'Mask Off'}) => frozenset({'goosebumps'})\n",
            "confidence =  0.6196319018404909\n",
            "________________________________\n",
            "frozenset({'Congratulations', 'HUMBLE.'}) => frozenset({'goosebumps'})\n",
            "confidence =  0.5233644859813085\n",
            "________________________________\n",
            "frozenset({'Congratulations', 'goosebumps'}) => frozenset({'HUMBLE.'})\n",
            "confidence =  0.7225806451612903\n",
            "________________________________\n",
            "frozenset({'HUMBLE.', 'goosebumps'}) => frozenset({'Congratulations'})\n",
            "confidence =  0.6706586826347305\n",
            "________________________________\n",
            "frozenset({'Congratulations', 'XO TOUR Llif3'}) => frozenset({'goosebumps'})\n",
            "confidence =  0.5810055865921788\n",
            "________________________________\n",
            "frozenset({'Congratulations', 'goosebumps'}) => frozenset({'XO TOUR Llif3'})\n",
            "confidence =  0.6709677419354838\n",
            "________________________________\n",
            "frozenset({'XO TOUR Llif3', 'goosebumps'}) => frozenset({'Congratulations'})\n",
            "confidence =  0.6842105263157895\n",
            "________________________________\n"
          ]
        }
      ]
    },
    {
      "cell_type": "code",
      "metadata": {
        "id": "Am_5jRWLSbBy"
      },
      "source": [
        "def generar_todas_las_reglas(set_frecuentes,supportData,confi_min):\n",
        "  k=len(L)-2\n",
        "  verificar_confianza(set_frecuentes[k],confi_min,supportData)"
      ],
      "execution_count": 708,
      "outputs": []
    },
    {
      "cell_type": "code",
      "metadata": {
        "colab": {
          "base_uri": "https://localhost:8080/"
        },
        "id": "7kjJBWJQTqRl",
        "outputId": "eb4cdbf7-b813-49d5-a556-c4c0bcb1c2da"
      },
      "source": [
        "generar_todas_las_reglas(L,supportData,0.5)"
      ],
      "execution_count": 709,
      "outputs": [
        {
          "output_type": "stream",
          "name": "stdout",
          "text": [
            "frozenset({'Congratulations', 'HUMBLE.'}) => frozenset({'iSpy (feat. Lil Yachty)'})\n",
            "confidence =  0.5093457943925234\n",
            "________________________________\n",
            "frozenset({'Congratulations', 'iSpy (feat. Lil Yachty)'}) => frozenset({'HUMBLE.'})\n",
            "confidence =  0.6728395061728395\n",
            "________________________________\n",
            "frozenset({'HUMBLE.', 'iSpy (feat. Lil Yachty)'}) => frozenset({'Congratulations'})\n",
            "confidence =  0.7032258064516129\n",
            "________________________________\n",
            "frozenset({'HUMBLE.', 'DNA.'}) => frozenset({'Mask Off'})\n",
            "confidence =  0.5263157894736842\n",
            "________________________________\n",
            "frozenset({'DNA.', 'Mask Off'}) => frozenset({'HUMBLE.'})\n",
            "confidence =  0.9090909090909092\n",
            "________________________________\n",
            "frozenset({'Tunnel Vision', 'HUMBLE.'}) => frozenset({'XO TOUR Llif3'})\n",
            "confidence =  0.7338129496402879\n",
            "________________________________\n",
            "frozenset({'Tunnel Vision', 'XO TOUR Llif3'}) => frozenset({'HUMBLE.'})\n",
            "confidence =  0.7500000000000001\n",
            "________________________________\n",
            "frozenset({'HUMBLE.', 'XO TOUR Llif3'}) => frozenset({'Tunnel Vision'})\n",
            "confidence =  0.5\n",
            "________________________________\n",
            "frozenset({'HUMBLE.', 'XO TOUR Llif3'}) => frozenset({'DNA.'})\n",
            "confidence =  0.5\n",
            "________________________________\n",
            "frozenset({'HUMBLE.', 'DNA.'}) => frozenset({'XO TOUR Llif3'})\n",
            "confidence =  0.5368421052631579\n",
            "________________________________\n",
            "frozenset({'XO TOUR Llif3', 'DNA.'}) => frozenset({'HUMBLE.'})\n",
            "confidence =  0.864406779661017\n",
            "________________________________\n",
            "frozenset({'Congratulations', 'HUMBLE.'}) => frozenset({'XO TOUR Llif3'})\n",
            "confidence =  0.5981308411214954\n",
            "________________________________\n",
            "frozenset({'Congratulations', 'XO TOUR Llif3'}) => frozenset({'HUMBLE.'})\n",
            "confidence =  0.7150837988826816\n",
            "________________________________\n",
            "frozenset({'HUMBLE.', 'XO TOUR Llif3'}) => frozenset({'Congratulations'})\n",
            "confidence =  0.6274509803921569\n",
            "________________________________\n",
            "frozenset({'Broccoli (feat. Lil Yachty)', 'Bounce Back'}) => frozenset({'Bad and Boujee (feat. Lil Uzi Vert)'})\n",
            "confidence =  0.7751937984496124\n",
            "________________________________\n",
            "frozenset({'Broccoli (feat. Lil Yachty)', 'Bad and Boujee (feat. Lil Uzi Vert)'}) => frozenset({'Bounce Back'})\n",
            "confidence =  0.6451612903225806\n",
            "________________________________\n",
            "frozenset({'Bounce Back', 'Bad and Boujee (feat. Lil Uzi Vert)'}) => frozenset({'Broccoli (feat. Lil Yachty)'})\n",
            "confidence =  0.591715976331361\n",
            "________________________________\n",
            "frozenset({'Congratulations', 'XO TOUR Llif3'}) => frozenset({'Mask Off'})\n",
            "confidence =  0.5977653631284916\n",
            "________________________________\n",
            "frozenset({'Congratulations', 'Mask Off'}) => frozenset({'XO TOUR Llif3'})\n",
            "confidence =  0.6604938271604939\n",
            "________________________________\n",
            "frozenset({'XO TOUR Llif3', 'Mask Off'}) => frozenset({'Congratulations'})\n",
            "confidence =  0.656441717791411\n",
            "________________________________\n",
            "frozenset({'Congratulations', 'HUMBLE.'}) => frozenset({'Mask Off'})\n",
            "confidence =  0.5654205607476636\n",
            "________________________________\n",
            "frozenset({'Congratulations', 'Mask Off'}) => frozenset({'HUMBLE.'})\n",
            "confidence =  0.7469135802469136\n",
            "________________________________\n",
            "frozenset({'HUMBLE.', 'Mask Off'}) => frozenset({'Congratulations'})\n",
            "confidence =  0.5931372549019607\n",
            "________________________________\n",
            "frozenset({'HUMBLE.', 'goosebumps'}) => frozenset({'Mask Off'})\n",
            "confidence =  0.6586826347305389\n",
            "________________________________\n",
            "frozenset({'HUMBLE.', 'Mask Off'}) => frozenset({'goosebumps'})\n",
            "confidence =  0.5392156862745098\n",
            "________________________________\n",
            "frozenset({'Mask Off', 'goosebumps'}) => frozenset({'HUMBLE.'})\n",
            "confidence =  0.7432432432432432\n",
            "________________________________\n",
            "frozenset({'HUMBLE.', 'Bad and Boujee (feat. Lil Uzi Vert)'}) => frozenset({'Mask Off'})\n",
            "confidence =  0.6586826347305389\n",
            "________________________________\n",
            "frozenset({'HUMBLE.', 'Mask Off'}) => frozenset({'Bad and Boujee (feat. Lil Uzi Vert)'})\n",
            "confidence =  0.5392156862745098\n",
            "________________________________\n",
            "frozenset({'Bad and Boujee (feat. Lil Uzi Vert)', 'Mask Off'}) => frozenset({'HUMBLE.'})\n",
            "confidence =  0.7284768211920529\n",
            "________________________________\n",
            "frozenset({'HUMBLE.', 'Bounce Back'}) => frozenset({'Mask Off'})\n",
            "confidence =  0.6474358974358975\n",
            "________________________________\n",
            "frozenset({'Bounce Back', 'Mask Off'}) => frozenset({'HUMBLE.'})\n",
            "confidence =  0.7426470588235294\n",
            "________________________________\n",
            "frozenset({'HUMBLE.', 'XO TOUR Llif3'}) => frozenset({'goosebumps'})\n",
            "confidence =  0.5441176470588235\n",
            "________________________________\n",
            "frozenset({'HUMBLE.', 'goosebumps'}) => frozenset({'XO TOUR Llif3'})\n",
            "confidence =  0.6646706586826348\n",
            "________________________________\n",
            "frozenset({'XO TOUR Llif3', 'goosebumps'}) => frozenset({'HUMBLE.'})\n",
            "confidence =  0.7302631578947368\n",
            "________________________________\n",
            "frozenset({'HUMBLE.', 'XO TOUR Llif3'}) => frozenset({'Mask Off'})\n",
            "confidence =  0.642156862745098\n",
            "________________________________\n",
            "frozenset({'HUMBLE.', 'Mask Off'}) => frozenset({'XO TOUR Llif3'})\n",
            "confidence =  0.642156862745098\n",
            "________________________________\n",
            "frozenset({'XO TOUR Llif3', 'Mask Off'}) => frozenset({'HUMBLE.'})\n",
            "confidence =  0.8036809815950922\n",
            "________________________________\n",
            "frozenset({'XO TOUR Llif3', 'goosebumps'}) => frozenset({'Mask Off'})\n",
            "confidence =  0.6644736842105263\n",
            "________________________________\n",
            "frozenset({'Mask Off', 'goosebumps'}) => frozenset({'XO TOUR Llif3'})\n",
            "confidence =  0.6824324324324323\n",
            "________________________________\n",
            "frozenset({'XO TOUR Llif3', 'Mask Off'}) => frozenset({'goosebumps'})\n",
            "confidence =  0.6196319018404909\n",
            "________________________________\n",
            "frozenset({'Congratulations', 'HUMBLE.'}) => frozenset({'goosebumps'})\n",
            "confidence =  0.5233644859813085\n",
            "________________________________\n",
            "frozenset({'Congratulations', 'goosebumps'}) => frozenset({'HUMBLE.'})\n",
            "confidence =  0.7225806451612903\n",
            "________________________________\n",
            "frozenset({'HUMBLE.', 'goosebumps'}) => frozenset({'Congratulations'})\n",
            "confidence =  0.6706586826347305\n",
            "________________________________\n",
            "frozenset({'Congratulations', 'XO TOUR Llif3'}) => frozenset({'goosebumps'})\n",
            "confidence =  0.5810055865921788\n",
            "________________________________\n",
            "frozenset({'Congratulations', 'goosebumps'}) => frozenset({'XO TOUR Llif3'})\n",
            "confidence =  0.6709677419354838\n",
            "________________________________\n",
            "frozenset({'XO TOUR Llif3', 'goosebumps'}) => frozenset({'Congratulations'})\n",
            "confidence =  0.6842105263157895\n",
            "________________________________\n"
          ]
        }
      ]
    },
    {
      "cell_type": "markdown",
      "metadata": {
        "id": "cR5B9KakCGFH"
      },
      "source": [
        "---"
      ]
    }
  ]
}