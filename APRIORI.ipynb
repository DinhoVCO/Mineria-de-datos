{
  "nbformat": 4,
  "nbformat_minor": 0,
  "metadata": {
    "colab": {
      "name": "APRIORI.ipynb",
      "provenance": [],
      "collapsed_sections": [
        "AmThjFGjreb6",
        "vFKqAiIO65_2",
        "NE3yLNhP7pYl",
        "CBG2r3uW8v65",
        "nLhz-2YBlC8e",
        "OBiE4wTB7bxk",
        "8xwD0xYdj0oL",
        "esgjLw0Lj610",
        "dgm5dc_pp5-_",
        "QQTl92MykBYq",
        "5kBmgXdJi6fK"
      ],
      "authorship_tag": "ABX9TyOid9x3Zpd3CyPE8TvyTrO4",
      "include_colab_link": true
    },
    "kernelspec": {
      "name": "python3",
      "display_name": "Python 3"
    },
    "language_info": {
      "name": "python"
    }
  },
  "cells": [
    {
      "cell_type": "markdown",
      "metadata": {
        "id": "view-in-github",
        "colab_type": "text"
      },
      "source": [
        "<a href=\"https://colab.research.google.com/github/DinhoVCO/Mineria-de-datos/blob/main/APRIORI.ipynb\" target=\"_parent\"><img src=\"https://colab.research.google.com/assets/colab-badge.svg\" alt=\"Open In Colab\"/></a>"
      ]
    },
    {
      "cell_type": "markdown",
      "metadata": {
        "id": "Obi43NUVgJdO"
      },
      "source": [
        "# **REGLAS DE ASOCIACIÓN**\n",
        "---\n",
        "**UNIVERSIDAD NACIONAL DE SAN ANTONIO ABAD DEL CUSCO**\n",
        "\n",
        "\n",
        ">**ESCUELA PROFESIONAL :** Ing. Informatica y de Sistemas\n",
        "\n",
        "\n",
        "\n",
        "> **CURSO :**  Minería de datos💻\n",
        "\n",
        "\n",
        "> **ALUMNO :** Vega Centeno Olivera, Ronaldinho🧑\n",
        "\n",
        "\n",
        "\n",
        "\n",
        "\n"
      ]
    },
    {
      "cell_type": "markdown",
      "metadata": {
        "id": "x8vpD-Z8gHz1"
      },
      "source": [
        "\n",
        "\n",
        "##**1.-Instalar bibliotecas**"
      ]
    },
    {
      "cell_type": "code",
      "metadata": {
        "id": "lHdAsC9cziM2"
      },
      "source": [
        "import numpy as np          #para procesar el dataset\n",
        "import statistics as stats  #para hallar medidas estadisticas\n",
        "from itertools import chain, combinations #para generar las combinarciones de los frequentItemSets\n",
        "import time                 # para medir el tiempo de ejecucion"
      ],
      "execution_count": 1,
      "outputs": []
    },
    {
      "cell_type": "markdown",
      "metadata": {
        "id": "I3LCBe7Nhl7d"
      },
      "source": [
        "## **2.-Importar datos**\n",
        "La base de datos a utilizar corresponde a múltiples playlists de la plataforma spotify creadas por usuarios de esta."
      ]
    },
    {
      "cell_type": "code",
      "metadata": {
        "id": "EdUD3wGWzeum"
      },
      "source": [
        "#Importamos el archivo .npy en la variable data de tipo numpy.ndarray 0-dimensional\n",
        "data = np.load('DB/spotify.npy',allow_pickle=True)\n",
        "#convertimos a una lista -> obtenemos un diccionario de 10000 playlists\n",
        "data=data.tolist()\n"
      ],
      "execution_count": 2,
      "outputs": []
    },
    {
      "cell_type": "markdown",
      "metadata": {
        "id": "ztejNm-0rGeh"
      },
      "source": [
        "##**3.- Preprocesar (lista de listas)**"
      ]
    },
    {
      "cell_type": "code",
      "metadata": {
        "id": "F3cJrYh4xseT"
      },
      "source": [
        "def dataset_preprocessing(data):\n",
        "  \"\"\"\n",
        "  Genera una lista de canciones unicas y de playlist sin canciones repetidas.\n",
        "  \n",
        "  Parameters\n",
        "  =========\n",
        "    `data :` diccionario  \n",
        "          ej -> {0:['A', 'B'],1:['B', 'C']} \n",
        "\n",
        "  Returns\n",
        "  =========\n",
        "    `playlist :` Lista de elementos del tipo frozenset() \n",
        "          ej -> [frozenset({'A'}),frozenset({'B'}),frozenset({'C'})]\n",
        "          \n",
        "    `listSongs :`Lista de conjuntos\n",
        "          ej -> [{'A', 'B'},{'B', 'C'}]\n",
        "          \n",
        "  \"\"\"\n",
        "  playlist=[]\n",
        "  songs=set()\n",
        "  for i in data:\n",
        "    playlist.append(set(data[i]))\n",
        "    songs|=set(data[i])\n",
        "  songs=[[i] for i in list(songs)]\n",
        "  songs.sort()\n",
        "  # Utilizamos frozenset() para que sea inmutable\n",
        "  # y poder trabajar con diccionarios\n",
        "  listSongs=list(map(frozenset,songs))\n",
        "  return listSongs, playlist"
      ],
      "execution_count": 3,
      "outputs": []
    },
    {
      "cell_type": "code",
      "metadata": {
        "colab": {
          "base_uri": "https://localhost:8080/"
        },
        "id": "d54P5s1joTJG",
        "outputId": "ba172ac6-c54e-47bc-b6e0-b43dc19421be"
      },
      "source": [
        "canciones, listas = dataset_preprocessing(data)\n",
        "print('Total de canciones distintas:', len(canciones))\n",
        "print('Total de Playlists(transaccciones):', len(listas))"
      ],
      "execution_count": 4,
      "outputs": [
        {
          "output_type": "stream",
          "name": "stdout",
          "text": [
            "Total de canciones distintas: 132920\n",
            "Total de Playlists(transaccciones): 10000\n"
          ]
        }
      ]
    },
    {
      "cell_type": "code",
      "metadata": {
        "id": "iVdl_NkY3esC",
        "colab": {
          "base_uri": "https://localhost:8080/"
        },
        "outputId": "bc0ab17d-229a-49b7-e8ff-b91e0c5f8dbf"
      },
      "source": [
        "#Ejemplo de tres canciones\n",
        "canciones[:3]"
      ],
      "execution_count": 5,
      "outputs": [
        {
          "output_type": "execute_result",
          "data": {
            "text/plain": [
              "[frozenset({'!Dios Mio! El Diablo Es Muy Picante'}),\n",
              " frozenset({'\"*!*!\" What U Heard'}),\n",
              " frozenset({'\"2014: A Pesach Medley\"'})]"
            ]
          },
          "metadata": {},
          "execution_count": 5
        }
      ]
    },
    {
      "cell_type": "code",
      "metadata": {
        "colab": {
          "base_uri": "https://localhost:8080/"
        },
        "id": "vEkMWYA9p_2S",
        "outputId": "58d219e5-22f8-42a9-a3e4-7668467e7550"
      },
      "source": [
        "#Plailist n°999\n",
        "listas[999]"
      ],
      "execution_count": 6,
      "outputs": [
        {
          "output_type": "execute_result",
          "data": {
            "text/plain": [
              "{'A Quién Le Importa',\n",
              " 'Amor De Pobre - No Tengo Dinero (Hip-Hop Version)',\n",
              " 'El Hombre Es Como El Oso',\n",
              " 'El Mario de Tu Mujer (feat. Don Miguelo)',\n",
              " 'El Regeton',\n",
              " 'El Tao Tao',\n",
              " 'Juana La Cubana',\n",
              " 'La Bomba',\n",
              " 'La Mesa Que Mas Aplauda (Za Za Za)',\n",
              " 'La Vaca',\n",
              " 'Muévelo',\n",
              " 'Party In Miami',\n",
              " 'Que Lo Que',\n",
              " 'Tu Pun Pun',\n",
              " 'Un Ladrón'}"
            ]
          },
          "metadata": {},
          "execution_count": 6
        }
      ]
    },
    {
      "cell_type": "markdown",
      "metadata": {
        "id": "AmThjFGjreb6"
      },
      "source": [
        "## **4.-Definir umbrales** 🟠⏮ "
      ]
    },
    {
      "cell_type": "code",
      "metadata": {
        "id": "F4t_Wg_A6eND"
      },
      "source": [
        "\"\"\"\n",
        "Obtenemos la frecuencia de cada cancion en el dataset\n",
        "para poder obtener sus medidas de tendencia central\n",
        "\"\"\"\n",
        "frequencies=dict()\n",
        "for i in listas:\n",
        "  for j in i:\n",
        "    frequencies[j] =frequencies.get(j, 0) + 1\n",
        "frecuencias=list(frequencies.values())\n",
        "frecuencias.sort()"
      ],
      "execution_count": 8,
      "outputs": []
    },
    {
      "cell_type": "code",
      "metadata": {
        "colab": {
          "base_uri": "https://localhost:8080/"
        },
        "id": "wlWQFNwtX1Ak",
        "outputId": "afe8b348-f98d-4899-881d-33ddbe65f8f0"
      },
      "source": [
        "print(\"MEDIDAS DE TENDENCIA CENTRAL Y DISPERSIÓN\")\n",
        "print(\"-----------------------------------------\")\n",
        "print(\"Media aritmética     : \",stats.mean(frecuencias))\n",
        "print(\"Mediana              : \",stats.median(frecuencias)) \n",
        "print(\"Moda                 : \",stats.mode(frecuencias)) \n",
        "print(\"Varianza poblacional : \",stats.pvariance(frecuencias)) \n",
        "#La varianza mide en qué medida se dispersan los valores de una muestra alrededor de un valor central."
      ],
      "execution_count": 9,
      "outputs": [
        {
          "output_type": "stream",
          "name": "stdout",
          "text": [
            "MEDIDAS DE TENDENCIA CENTRAL Y DISPERSIÓN\n",
            "-----------------------------------------\n",
            "Media aritmética     :  4.910028588624737\n",
            "Mediana              :  1.0\n",
            "Moda                 :  1\n",
            "Varianza poblacional :  254.75020336963107\n"
          ]
        }
      ]
    },
    {
      "cell_type": "code",
      "metadata": {
        "id": "YOb7eK8GrdtQ"
      },
      "source": [
        "lon_min = 2 # Número mínimo de canciones a considerar en las reglas\n",
        "veces_minimas_aparece_en_lista=100 #Support count\n",
        "soporte_min = veces_minimas_aparece_en_lista / len(listas) #Support\n",
        "confianza_min =0.5\n",
        "sustento_min =1.5"
      ],
      "execution_count": 11,
      "outputs": []
    },
    {
      "cell_type": "markdown",
      "metadata": {
        "id": "HiU4aajy4P_q"
      },
      "source": [
        "## **5.-Algoritmo APRIORI** \n",
        "\n",
        "Para el desarrollo de los modulos se trabajo con estructuras como listas, conjuntos,conjuntos inmutables y diciconarios.\n",
        "\n",
        "```\n",
        "-list()\n",
        "-set()\n",
        "-frozenset()\n",
        "-dict()\n",
        "```\n",
        "En algunos casos son listas de listas o listas de conjuntos.\n",
        "\n",
        "Como la clave ( key ) de los dicicionarios deben ser inmutables se utilizó `frozenset()` que son conjuntos inmutables y asi poder trabajar los conjuntos como `key` y los supports como `values`, además que podemos realizar operaciones entre conjuntos, lo que facilita el desarrolo del código.\n",
        "\n",
        "\n"
      ]
    },
    {
      "cell_type": "markdown",
      "metadata": {
        "id": "vFKqAiIO65_2"
      },
      "source": [
        "### **5.1. Get frequent items sets**"
      ]
    },
    {
      "cell_type": "markdown",
      "metadata": {
        "id": "NE3yLNhP7pYl"
      },
      "source": [
        "#### 5.1.1. get_first_frequent_itemset"
      ]
    },
    {
      "cell_type": "code",
      "metadata": {
        "id": "of-BOb3XolMF"
      },
      "source": [
        "# Modulo optimo para obtener 1-itemsetfrequents\n",
        "def get_first_frequent_itemset(transactions, k_itemSet,minSupport):\n",
        "  \"\"\"\n",
        "  Halla 1-itemsetfrequents y el support de cada conjunto.\n",
        "\n",
        "  Parameters\n",
        "  =========\n",
        "    `transactions :` Lista de conjuntos\n",
        "          ej -> [{'A', 'B'},{'B', 'C'}]\n",
        "\n",
        "    `k_itemSet :` Lista de elementos del tipo frozenset() (1 elemento)\n",
        "          ej -> [frozenset({'A'}),frozenset({'B'}),frozenset({'C'})]\n",
        "\n",
        "    `minSupport :` Soporte minimo para las relaciones (float)\n",
        "          ej -> 0.5\n",
        "  Returns\n",
        "  =========\n",
        "    `ItemSetFrequent :` Lista de elementos del tipo frozenset() (1 elemento)\n",
        "          ej -> [frozenset({'A'}),frozenset({'B'}),frozenset({'C'})]\n",
        "          \n",
        "    `supportItemSet :` Dicionario\n",
        "          ej -> {'A':0.5 , 'B':0.6 , 'C':0.8 }\n",
        "          \n",
        "  \"\"\"\n",
        "  #Calculamos el supportcount (frecuencia) de cada subconjunto\n",
        "  frequencies=dict()\n",
        "  for i in transactions:\n",
        "    for j in i:\n",
        "      frequencies[j] =frequencies.get(j, 0) + 1\n",
        "  #Calculamos el support y comprobamos que sea mayor a minSupport\n",
        "  TotalTransactions = float(len(transactions))\n",
        "  ItemSetFrequent = []\n",
        "  supportItemSet = {}\n",
        "  for key in frequencies:\n",
        "      support = frequencies[key] / TotalTransactions  # Calcular soporte\n",
        "      if support >= minSupport:  # Si el soporte es mayor que el soporte mínimo establecido\n",
        "          ItemSetFrequent.insert(0,key)\n",
        "      supportItemSet[key] = support\n",
        "  ItemSetFrequent.sort()\n",
        "  ItemSetFrequent=[frozenset({i}) for i in ItemSetFrequent ]\n",
        "  return ItemSetFrequent, supportItemSet"
      ],
      "execution_count": 12,
      "outputs": []
    },
    {
      "cell_type": "markdown",
      "metadata": {
        "id": "CBG2r3uW8v65"
      },
      "source": [
        "#### 5.1.2. get_k_frequent_itemset"
      ]
    },
    {
      "cell_type": "code",
      "metadata": {
        "id": "bKdOQH7n-HkZ"
      },
      "source": [
        "def get_k_frequent_itemset(transactions, k_itemSet,minSupport):\n",
        "  \"\"\"\n",
        "  Halla k-itemsetfrequents y el support de cada conjunto.\n",
        "\n",
        "  Parameters\n",
        "  =========\n",
        "    `transactions :` Lista de conjuntos\n",
        "          ej -> [{'A', 'B'},{'B', 'C'}]\n",
        "\n",
        "    `k_itemSet :` Lista de elementos del tipo frozenset() (k elementos)\n",
        "          ej -> [frozenset({'A',...}),frozenset({'B',...}),frozenset({'C',...})]\n",
        "\n",
        "    `minSupport :` Soporte minimo para las relaciones (float)\n",
        "          ej -> 0.5\n",
        "  Returns\n",
        "  =========\n",
        "    `ItemSetFrequent :` Lista de elementos del tipo frozenset() (k elementos)\n",
        "          ej -> [frozenset({'A',...}),frozenset({'B',...})]\n",
        "          \n",
        "    `supportItemSet :` Dicionario de conjuntos inmutables frozenset() (k elemento)\n",
        "          ej -> {frozenset({'A',...}): 0.5 , frozenset({'B',...}): 0.6}\n",
        "          \n",
        "  \"\"\"\n",
        "  #Calculamos el supportcount (frecuencia) de cada subconjunto\n",
        "  frequencies=dict()\n",
        "  for i in transactions:\n",
        "    for j in k_itemSet:\n",
        "      if (j<=i):\n",
        "        frequencies[j] =frequencies.get(j, 0) + 1\n",
        "  #Calculamos el support y comprobamos que sea mayor a minSupport\n",
        "  TotalTransactions = float(len(transactions))\n",
        "  ItemSetFrequent = []\n",
        "  supportItemSet = {}\n",
        "  for key in frequencies:\n",
        "      support = frequencies[key] / TotalTransactions  # Calcular soporte\n",
        "      if support >= minSupport:  # Si el soporte es mayor que el soporte mínimo establecido\n",
        "          ItemSetFrequent.insert(0,key)\n",
        "      supportItemSet[key] = support\n",
        "  ItemSetFrequent.sort()\n",
        "  return ItemSetFrequent, supportItemSet"
      ],
      "execution_count": 13,
      "outputs": []
    },
    {
      "cell_type": "markdown",
      "metadata": {
        "id": "nLhz-2YBlC8e"
      },
      "source": [
        "#### 5.1.3 get_frequent_itemsets"
      ]
    },
    {
      "cell_type": "code",
      "metadata": {
        "id": "JmxAv9vrlCSA"
      },
      "source": [
        " def get_frequent_itemsets(data, minSupport=0.2): \n",
        "  \"\"\"\n",
        "  Genera todos los conjuntos frecuentes, y determina el valor del support\n",
        "\n",
        "  Parameters\n",
        "  =========\n",
        "    `data :` diccionario  \n",
        "          ej -> {0:['A', 'B'],1:['B', 'C']} \n",
        "\n",
        "    `minSupport :` Soporte minimo para las relaciones (float)\n",
        "          ej -> 0.5\n",
        "\n",
        "  Returns\n",
        "  =========\n",
        "    `L :` Lista de elementos del tipo frozenset() (k+1 elementos)\n",
        "          ej -> [frozenset({'A','B'}),frozenset({'A','C'}),frozenset({'B','C'})]\n",
        "          \n",
        "    `supportData :`Dicionario de conjuntos inmutables frozenset() (k+1 elemento)\n",
        "          ej -> {frozenset({'A',...}): 0.5 , frozenset({'B',...}): 0.6}\n",
        "    \n",
        "    - Retorna todos los itemset frecuentes y sus soportes\n",
        "\n",
        "  \"\"\"\n",
        "  songs, playlists = dataset_preprocessing(data)\n",
        "  L1, supportData = get_first_frequent_itemset(playlists, songs, minSupport)\n",
        "  L = [L1]\n",
        "  #print(\"Total de canciones:\",len(L[0]))\n",
        "  k = 1\n",
        "  while (len(L[k - 1]) > 0):  # Crear Ck\n",
        "      #print(\"k==\",k,\" cantidad:\",len(L[k-1]))\n",
        "      Ck = get_combination_apriori(L[k - 1], k)\n",
        "      #print(\"Ck Generado:\",len(Ck))\n",
        "      #print(\"Ck Generado:\",len(Ck[0]))\n",
        "      Lk, supK = get_k_frequent_itemset(playlists, Ck, minSupport)\n",
        "      supportData.update(supK)\n",
        "      L.append(Lk)\n",
        "      k += 1\n",
        "  return L, supportData"
      ],
      "execution_count": 30,
      "outputs": []
    },
    {
      "cell_type": "markdown",
      "metadata": {
        "id": "OBiE4wTB7bxk"
      },
      "source": [
        "### **5.2. Get Combination Apriori**"
      ]
    },
    {
      "cell_type": "code",
      "metadata": {
        "id": "c8yv-Kaq6oPZ"
      },
      "source": [
        "# Generar posibles conjuntos (k-ItemSet) a partir de mezclar los k-1 ItemSetFrequent\n",
        "# Los ItemSet deben estar ordenados lexicográficamente\n",
        "# Solo mezclamos los pares de itemsets que difieren en su último ítem.\n",
        "# Por principio de poda APRIORI\n",
        "def get_combination_apriori(ItemSetFrequent, k):\n",
        "  \"\"\"\n",
        "  Genera conjuntos (k-ItemSet) a partir de mezclar los k-1 ItemSetFrequent\n",
        "\n",
        "  Parameters\n",
        "  =========\n",
        "    `ItemSetFrequent :` Lista de elementos del tipo frozenset() (k=1 elementos)\n",
        "          ej -> [frozenset({'A'}),frozenset({'B'}),frozenset({'C'})]\n",
        "\n",
        "    `k :` Cantidad de elementos en cada itemset de ItemSetFrequent (int)\n",
        "          ej -> 1\n",
        "\n",
        "  Returns\n",
        "  =========\n",
        "    `ItemSet_k :` Lista de elementos del tipo frozenset() (k+1 elementos)\n",
        "          ej -> [frozenset({'A','B'}),frozenset({'A','C'}),frozenset({'B','C'})]\n",
        "          \n",
        "  \"\"\"\n",
        "  \n",
        "  ItemSet_k=[]\n",
        "  tam=len(ItemSetFrequent)\n",
        "  for i in range(tam):\n",
        "    for j in range(i+1,tam):\n",
        "      Arr1=list(ItemSetFrequent[i])[:k-1]\n",
        "      Arr2=list(ItemSetFrequent[j])[:k-1]\n",
        "      #Solo combinamos los itemsets que difieren en su último ítem.\n",
        "      if(Arr1==Arr2):\n",
        "        ItemSet_k.append(ItemSetFrequent[i]|ItemSetFrequent[j])\n",
        "  return ItemSet_k\n"
      ],
      "execution_count": 15,
      "outputs": []
    },
    {
      "cell_type": "markdown",
      "metadata": {
        "id": "eX3iT9yu6d88"
      },
      "source": [
        "### **5.3. generate_association_rules**"
      ]
    },
    {
      "cell_type": "markdown",
      "metadata": {
        "id": "8xwD0xYdj0oL"
      },
      "source": [
        "#### 5.3.1. generar_reglas"
      ]
    },
    {
      "cell_type": "code",
      "metadata": {
        "id": "F2zem6AD9eWH"
      },
      "source": [
        "def generar_reglas(conjunto):\n",
        "  \"\"\"\n",
        "  Genera todas las reglas posibles a partir de un determinado conjunto.\n",
        "  Combinaciones posibles\n",
        "\n",
        "  ej. -> generar_reglas(frozenset({1,2}))\n",
        "       [[frozenset({1}), frozenset({2})], [frozenset({2}), frozenset({1})]]\n",
        "       \n",
        "  Parameters\n",
        "  =========\n",
        "    `conjunto :` Conjunto (frozenset) \n",
        "          ej -> frozenset({1,2})\n",
        "\n",
        "  Returns\n",
        "  =========\n",
        "    `reglas :` Lista de listas de 2 elementos, X -> Y\n",
        "          ej -> [[frozenset({1}), frozenset({2})], [frozenset({2}), frozenset({1})]]\n",
        "\n",
        "  \"\"\"\n",
        "  s = conjunto\n",
        "  combinaciones= list(map(frozenset,chain.from_iterable(combinations(s, r) for r in range(1,len(s)))))\n",
        "  reglas=[]\n",
        "  for i in combinaciones:\n",
        "    r=[i,conjunto-i]\n",
        "    reglas.append(r)\n",
        "  return reglas"
      ],
      "execution_count": 16,
      "outputs": []
    },
    {
      "cell_type": "code",
      "metadata": {
        "colab": {
          "base_uri": "https://localhost:8080/"
        },
        "id": "qTFXw5wKBG4F",
        "outputId": "692bc6e0-2ae1-4588-bdbe-686dbc3d75f0"
      },
      "source": [
        "#Ejemplo de generacion de reglas a partir de un conjunto\n",
        "generar_reglas(frozenset({1,2,3}))"
      ],
      "execution_count": 17,
      "outputs": [
        {
          "output_type": "execute_result",
          "data": {
            "text/plain": [
              "[[frozenset({1}), frozenset({2, 3})],\n",
              " [frozenset({2}), frozenset({1, 3})],\n",
              " [frozenset({3}), frozenset({1, 2})],\n",
              " [frozenset({1, 2}), frozenset({3})],\n",
              " [frozenset({1, 3}), frozenset({2})],\n",
              " [frozenset({2, 3}), frozenset({1})]]"
            ]
          },
          "metadata": {},
          "execution_count": 17
        }
      ]
    },
    {
      "cell_type": "markdown",
      "metadata": {
        "id": "esgjLw0Lj610"
      },
      "source": [
        "####5.3.2. poda_confidence_lift"
      ]
    },
    {
      "cell_type": "code",
      "metadata": {
        "id": "G_BFhH8yDPqS"
      },
      "source": [
        "def poda_confidence_lift(reglas,soportes,conf_min,min_lift):\n",
        "  \"\"\"\n",
        "  Filtra todas las reglas que su confianza >= confianza minima\n",
        "  y lift >= lift minimo\n",
        "       \n",
        "  Parameters\n",
        "  =========\n",
        "    `reglas :` Lista de listas de 2 conjuntos inmutables , X -> Y\n",
        "      ej ->[[(frozenset{1}), frozenset({2})], [frozenset({2}), frozenset({3})]]\n",
        "    \n",
        "    `soportes :`Dicionario de conjuntos inmutables frozenset()\n",
        "          ej -> {frozenset({'A',...}): 0.5 , frozenset({'B',...}): 0.6}\n",
        "\n",
        "    `conf_min :` Confianza minima para las asociaciones (float)\n",
        "          ej -> 0.5\n",
        "\n",
        "    `min_lift :` soporte minimo para las asociaciones (float)\n",
        "          ej -> 0.5\n",
        "\n",
        "  Returns\n",
        "  =========\n",
        "    `resultado :` Lista de listas 4 elementos: 2 conjuntos inmutables, confianza\n",
        "                  y lift\n",
        "      ej ->[[(frozenset{1}), frozenset({2}), 0.568,8.44],....]\n",
        "\n",
        "  \"\"\"\n",
        "  resultado=[]\n",
        "  for i in reglas:\n",
        "    X_u_Y= soportes[i[0] | i[1]]\n",
        "    if(len(i[0])==1):\n",
        "      X =soportes[list(i[0])[0]]\n",
        "      Y =soportes[list(i[1])[0]]\n",
        "    else:\n",
        "      X =soportes[i[0]]\n",
        "      Y =soportes[list(i[1])[0]]\n",
        "    confianza=X_u_Y/X\n",
        "    if(confianza>=conf_min):\n",
        "      lift=X_u_Y/(X*Y)\n",
        "      if (lift>=min_lift):\n",
        "        #print(lift)\n",
        "        r=[i[0],i[1],X_u_Y,confianza,lift]\n",
        "        resultado.append(r)\n",
        "        #print(i[0],\"=>\",i[1])\n",
        "        #print(\"confidence = \", confianza)\n",
        "        #print(\"________________________________\")\n",
        "  return(resultado)\n"
      ],
      "execution_count": 18,
      "outputs": []
    },
    {
      "cell_type": "markdown",
      "metadata": {
        "id": "dgm5dc_pp5-_"
      },
      "source": [
        "#### 5.3.3. verificar_confianza"
      ]
    },
    {
      "cell_type": "code",
      "metadata": {
        "id": "n6WMdmSJ6vOf"
      },
      "source": [
        "def verificar_confianza(itemSetFrecuente,soportes,minconf,min_lift):\n",
        "  \"\"\"\n",
        "  Filtra un itemset frecuente verifica que su confianza >= confianza minima\n",
        "  si cumple recien se pueden generar todas la posibles reflas de asociacion de \n",
        "  ese itemset\n",
        "       \n",
        "  Parameters\n",
        "  =========\n",
        "    `itemSetFrecuente :` Lista de conjuntos del tipo frozenset()\n",
        "          ej -> [frozenset({'A','B'}),frozenset({'A','C'}),frozenset({'B','C'})]\n",
        "    \n",
        "    `soportes :`Dicionario de conjuntos inmutables frozenset()\n",
        "          ej -> {frozenset({'A',...}): 0.5 , frozenset({'B',...}): 0.6}\n",
        "\n",
        "    `conf_min :` Confianza minima para las asociaciones (float)\n",
        "          ej -> 0.5\n",
        "\n",
        "    `min_lift :` soporte minimo para las asociaciones (float)\n",
        "          ej -> 0.5\n",
        "\n",
        "  Returns\n",
        "  =========\n",
        "    `filtro_reglas :`  Lista de conjuntos del tipo frozenset()\n",
        "          ej -> [frozenset({'A','B'}),frozenset({'A','C'}),frozenset({'B','C'})]\n",
        "\n",
        "  \"\"\"\n",
        "  reglas=[]\n",
        "  if(len(itemSetFrecuente[0])>1):\n",
        "    for i in itemSetFrecuente:\n",
        "      *_,Y=i\n",
        "      X=i-{Y}\n",
        "      soporte_X_u_Y=soportes[i]\n",
        "      if(len(itemSetFrecuente[0])==2):\n",
        "        soporte_X=soportes[list(X)[0]]\n",
        "      else:\n",
        "        soporte_X=soportes[X]\n",
        "      confianza=soporte_X_u_Y/soporte_X\n",
        "      if(confianza>=minconf):\n",
        "        reglas+=generar_reglas(i)\n",
        "    filtro_reglas=poda_confidence_lift(reglas,soportes,minconf,min_lift)\n",
        "  else:\n",
        "    print(\"No existen reglas\")\n",
        "  return filtro_reglas\n",
        "    "
      ],
      "execution_count": 19,
      "outputs": []
    },
    {
      "cell_type": "markdown",
      "metadata": {
        "id": "QQTl92MykBYq"
      },
      "source": [
        "#### 5.3.4. generate_association_rules"
      ]
    },
    {
      "cell_type": "code",
      "metadata": {
        "id": "Am_5jRWLSbBy"
      },
      "source": [
        "def generate_association_rules(set_frecuentes,supportData,confi_min,lon_min,min_lift):\n",
        "  \"\"\"\n",
        "  Genera Todas las reglas de asociacion que cumplan confianza  >= conf. min\n",
        "  y lift >= lift minimo\n",
        "\n",
        "  Parameters\n",
        "  =========\n",
        "    `set_frecuentes :` Lista de conjuntos del tipo frozenset()\n",
        "          ej -> [frozenset({'A','B'}),frozenset({'A','C'}),frozenset({'B','C'})]\n",
        "    \n",
        "    `supportData :`Dicionario de conjuntos inmutables frozenset()\n",
        "          ej -> {frozenset({'A',...}): 0.5 , frozenset({'B',...}): 0.6}\n",
        "\n",
        "    `conf_min :` Confianza minima para las asociaciones (float)\n",
        "          ej -> 0.5\n",
        "\n",
        "    `min_lift :` soporte minimo para las asociaciones (float)\n",
        "          ej -> 0.5\n",
        "    \n",
        "    `lon_min :` Número mínimo de elementos a considerar en las reglas (int)\n",
        "          ej -> 2\n",
        "\n",
        "  Returns\n",
        "  =========\n",
        "    `filtro_reglas :`Lista de listas 4 elementos: 2 conjuntos inmutables, confianza\n",
        "                  y lift\n",
        "          ej ->[[(frozenset{1}), frozenset({2}), 0.568,8.44],....]\n",
        "\n",
        "  \"\"\"\n",
        "  k=len(set_frecuentes)-1\n",
        "  TotalReglas=[]\n",
        "  for i in range(lon_min-1,k):\n",
        "    TotalReglas+=verificar_confianza(set_frecuentes[i],supportData,confi_min,min_lift)\n",
        "  return TotalReglas"
      ],
      "execution_count": 20,
      "outputs": []
    },
    {
      "cell_type": "markdown",
      "metadata": {
        "id": "5kBmgXdJi6fK"
      },
      "source": [
        "### **5.4. apriori**"
      ]
    },
    {
      "cell_type": "code",
      "metadata": {
        "id": "ESbvfbF8u-ch"
      },
      "source": [
        "def apriori(data,min_support=0.5, min_confidence=0.5, min_lift=1, min_length=2):\n",
        "  \"\"\"\n",
        "  Genera Todas las reglas de asociacion\n",
        "\n",
        "  Parameters\n",
        "  =========\n",
        "    `data :` diccionario  \n",
        "          ej -> {0:['A', 'B'],1:['B', 'C']} \n",
        "    \n",
        "    `min_support :` soporte minimo para las asociaciones (float)\n",
        "          ej -> 0.5\n",
        "\n",
        "    `conf_min :` Confianza minima para las asociaciones (float)\n",
        "          ej -> 0.5\n",
        "\n",
        "    `min_lift :` soporte minimo para las asociaciones (float)\n",
        "          ej -> 1.5\n",
        "    \n",
        "    `lon_min :` Número mínimo de elementos a considerar en las reglas (int)\n",
        "          ej -> 2\n",
        "\n",
        "  Returns\n",
        "  =========\n",
        "    `Reglas :`Lista de listas 4 elementos: 2 conjuntos inmutables, confianza\n",
        "                  y lift\n",
        "          ej ->[[(frozenset{1}), frozenset({2}), 0.568,8.44],....]\n",
        "\n",
        "  \"\"\"\n",
        "  L, supportData= get_frequent_itemsets(data,min_support)\n",
        "  Reglas=generate_association_rules(L,supportData,min_confidence,min_length,min_lift)\n",
        "  return Reglas\n",
        "\n"
      ],
      "execution_count": 21,
      "outputs": []
    },
    {
      "cell_type": "markdown",
      "metadata": {
        "id": "PUqQc941jI_S"
      },
      "source": [
        "### **5.5. Imprimir reglas**"
      ]
    },
    {
      "cell_type": "code",
      "metadata": {
        "id": "KzXLCz0zW8vW"
      },
      "source": [
        "def print_reglas(reglas):\n",
        "  \"\"\"\n",
        "  Imprime las reglas de asociacion, support, confidence y lift\n",
        "\n",
        "  ej. :       \n",
        "\n",
        "    REGLA N° 1\n",
        "    Regla      : {1} => {2, 3}\n",
        "    Soporte    : 100\n",
        "    Confianza  : 200\n",
        "    Lift:      : 5\n",
        "\n",
        "    --------\n",
        "  \n",
        "  \"\"\"\n",
        "  cont=1\n",
        "  for i in reglas:\n",
        "    print('REGLA N°',cont)\n",
        "    print('Regla      :',set(i[0]),\"=>\",set(i[1]))\n",
        "    print('Soporte    :',i[2]*100)\n",
        "    print('Confianza  :',i[3]*100)\n",
        "    print('Lift:      :',i[4])\n",
        "    print(\"____________________________________________\")\n",
        "    cont+=1"
      ],
      "execution_count": 22,
      "outputs": []
    },
    {
      "cell_type": "code",
      "metadata": {
        "id": "XzdLAV_L817B"
      },
      "source": [
        "def print_reglas_detalle(regla,Total_playlists,n):\n",
        "  \"\"\"\n",
        "    Imprime la regla de asociacion n con comentarios\n",
        "\n",
        "    ej. : \n",
        "    ______________________________________________________________\n",
        "    REGLA N° 1\n",
        "    Regla    : {'X (feat. Future)'} => {'No Heart'}\n",
        "    Veces que aparece la combinación:  103.0\n",
        "    Soporte (% apariciones):  1.03\n",
        "    Confianza (de 100 veces que se escucha A, la cancion B se escucha):  50.49019607843137\n",
        "    Sustento (mayor a 1 -> no es casualidad):  0.5049019607843137\n",
        "    ______________________________________________________________\n",
        "  \"\"\"\n",
        "  print(\"______________________________________________________________\")\n",
        "  print('REGLA N°',n)\n",
        "  print(\"Regla    :\",set(regla[0]),\"=>\",set(regla[1]))\n",
        "  print(\"Veces que aparece la combinación: \" ,regla[2]*Total_playlists)\n",
        "  print(\"Soporte (% apariciones): \",regla[2]*100)\n",
        "  print(\"Confianza (de 100 veces que se escucha A, la cancion B se escucha): \",regla[3]*100)\n",
        "  print(\"Sustento (mayor a 1 -> no es casualidad): \",regla[4])\n",
        "  print(\"______________________________________________________________\")"
      ],
      "execution_count": 44,
      "outputs": []
    },
    {
      "cell_type": "markdown",
      "metadata": {
        "id": "Wk3tDwnHjVMK"
      },
      "source": [
        "## 6.-Ejecucion del algoritmo"
      ]
    },
    {
      "cell_type": "code",
      "metadata": {
        "id": "KGG7XTdKwkRs"
      },
      "source": [
        "#Importamos el archivo .npy en la variable data de tipo numpy.ndarray 0-dimensional\n",
        "data = np.load('DB/spotify.npy',allow_pickle=True)\n",
        "#convertimos a una lista -> obtenemos un diccionario de 10000 playlists\n",
        "data=data.tolist()"
      ],
      "execution_count": 27,
      "outputs": []
    },
    {
      "cell_type": "code",
      "metadata": {
        "id": "Kfj57XcAwtan"
      },
      "source": [
        "# DEFINIMOS LOS UMBRALES\n",
        "lon_min = 2 # Número mínimo de canciones a considerar en las reglas\n",
        "veces_minimas_aparece_en_lista=100 #Support count\n",
        "soporte_min = veces_minimas_aparece_en_lista / len(data) #Support\n",
        "confianza_min =0.5\n",
        "sustento_min =1.5"
      ],
      "execution_count": 28,
      "outputs": []
    },
    {
      "cell_type": "code",
      "metadata": {
        "id": "mrFH8Q-r6Pb1"
      },
      "source": [
        "# hallamos las reglas de asociacion\n",
        "inicio=time.time()\n",
        "association_rules=apriori(data,soporte_min,confianza_min,sustento_min,lon_min)\n",
        "fin=time.time()\n",
        "tiempo = fin-inicio"
      ],
      "execution_count": 31,
      "outputs": []
    },
    {
      "cell_type": "markdown",
      "metadata": {
        "id": "YdmKVxEl4mmu"
      },
      "source": [
        "#### 6.1. Detalles de la ejecucion"
      ]
    },
    {
      "cell_type": "code",
      "metadata": {
        "colab": {
          "base_uri": "https://localhost:8080/"
        },
        "id": "7kjJBWJQTqRl",
        "outputId": "2af1dd08-2115-4d6a-b889-82bd7902182c"
      },
      "source": [
        "print('---------------------------------------------')\n",
        "print('                     DETALLES                ')\n",
        "print('---------------------------------------------')\n",
        "songs, playlist = dataset_preprocessing(data)\n",
        "print('| Total de canciones distintas       :', len(songs))\n",
        "print('| Total de Playlists(transaccciones) :', len(playlist))\n",
        "print('| Total de reglas generadas          :',len(association_rules))\n",
        "print('| Soporte minimo     :',soporte_min)\n",
        "print('| Confianza minimo   :',confianza_min)\n",
        "print('| Sutento minimo     :',sustento_min)\n",
        "print('| Tiempo de ejecucion ---->',round(tiempo,4),'seg.')\n",
        "print('---------------------------------------------')"
      ],
      "execution_count": 34,
      "outputs": [
        {
          "output_type": "stream",
          "name": "stdout",
          "text": [
            "---------------------------------------------\n",
            "                     DETALLES                \n",
            "---------------------------------------------\n",
            "| Total de canciones distintas       : 132920\n",
            "| Total de Playlists(transaccciones) : 10000\n",
            "| Total de reglas generadas          : 83\n",
            "| Soporte minimo     : 0.01\n",
            "| Confianza minimo   : 0.5\n",
            "| Sutento minimo     : 1.5\n",
            "| Tiempo de ejecucion ----> 249.7895 seg.\n",
            "---------------------------------------------\n"
          ]
        }
      ]
    },
    {
      "cell_type": "markdown",
      "metadata": {
        "id": "aSlMSTUj4ecP"
      },
      "source": [
        "#### **6.2. Reglas de asociacion**"
      ]
    },
    {
      "cell_type": "code",
      "metadata": {
        "colab": {
          "base_uri": "https://localhost:8080/"
        },
        "id": "UQaPFpwU3rng",
        "outputId": "f88d2b2e-4b20-41b8-c41c-9b97ffb1add0"
      },
      "source": [
        "# IMPRIMIMOS TODAS LAS REGLAS DE ASOCIACION\n",
        "print_reglas(association_rules)"
      ],
      "execution_count": 35,
      "outputs": [
        {
          "output_type": "stream",
          "name": "stdout",
          "text": [
            "REGLA N° 1\n",
            "Regla      : {'Cold Water (feat. Justin Bieber & MØ)'} => {'Closer'}\n",
            "Soporte    : 1.4500000000000002\n",
            "Confianza  : 61.965811965811966\n",
            "Lift:      : 8.570651724178695\n",
            "____________________________________________\n",
            "REGLA N° 2\n",
            "Regla      : {'Chill Bill'} => {'Caroline'}\n",
            "Soporte    : 1.15\n",
            "Confianza  : 50.43859649122807\n",
            "Lift:      : 12.932973459289247\n",
            "____________________________________________\n",
            "REGLA N° 3\n",
            "Regla      : {'Swang'} => {'Mask Off'}\n",
            "Soporte    : 1.1199999999999999\n",
            "Confianza  : 51.141552511415526\n",
            "Lift:      : 16.184035604878332\n",
            "____________________________________________\n",
            "REGLA N° 4\n",
            "Regla      : {'Swang'} => {'Congratulations'}\n",
            "Soporte    : 1.1199999999999999\n",
            "Confianza  : 51.141552511415526\n",
            "Lift:      : 12.690211541294174\n",
            "____________________________________________\n",
            "REGLA N° 5\n",
            "Regla      : {'Tunnel Vision'} => {'Mask Off'}\n",
            "Soporte    : 1.27\n",
            "Confianza  : 51.417004048582996\n",
            "Lift:      : 16.271203812842717\n",
            "____________________________________________\n",
            "REGLA N° 6\n",
            "Regla      : {'Love Yourself'} => {'Sorry'}\n",
            "Soporte    : 1.17\n",
            "Confianza  : 53.91705069124424\n",
            "Lift:      : 16.955047387183722\n",
            "____________________________________________\n",
            "REGLA N° 7\n",
            "Regla      : {'Too Good'} => {'One Dance'}\n",
            "Soporte    : 1.32\n",
            "Confianza  : 65.34653465346535\n",
            "Lift:      : 15.899400158994004\n",
            "____________________________________________\n",
            "REGLA N° 8\n",
            "Regla      : {'Money Longer'} => {'You Was Right'}\n",
            "Soporte    : 1.17\n",
            "Confianza  : 60.30927835051546\n",
            "Lift:      : 31.087256881709003\n",
            "____________________________________________\n",
            "REGLA N° 9\n",
            "Regla      : {'You Was Right'} => {'Money Longer'}\n",
            "Soporte    : 1.17\n",
            "Confianza  : 60.30927835051546\n",
            "Lift:      : 31.087256881709003\n",
            "____________________________________________\n",
            "REGLA N° 10\n",
            "Regla      : {'Controlla'} => {'One Dance'}\n",
            "Soporte    : 1.24\n",
            "Confianza  : 60.19417475728155\n",
            "Lift:      : 14.645784612477264\n",
            "____________________________________________\n",
            "REGLA N° 11\n",
            "Regla      : {'Chicken Fried'} => {'Knee Deep (feat. Jimmy Buffett)'}\n",
            "Soporte    : 1.0699999999999998\n",
            "Confianza  : 50.0\n",
            "Lift:      : 31.84713375796179\n",
            "____________________________________________\n",
            "REGLA N° 12\n",
            "Regla      : {'Knee Deep (feat. Jimmy Buffett)'} => {'Chicken Fried'}\n",
            "Soporte    : 1.0699999999999998\n",
            "Confianza  : 68.15286624203823\n",
            "Lift:      : 31.84713375796179\n",
            "____________________________________________\n",
            "REGLA N° 13\n",
            "Regla      : {'Swang'} => {'HUMBLE.'}\n",
            "Soporte    : 1.13\n",
            "Confianza  : 51.598173515981735\n",
            "Lift:      : 11.096381401286395\n",
            "____________________________________________\n",
            "REGLA N° 14\n",
            "Regla      : {'Butterfly Effect'} => {'Bank Account'}\n",
            "Soporte    : 1.11\n",
            "Confianza  : 57.21649484536082\n",
            "Lift:      : 24.876736889287315\n",
            "____________________________________________\n",
            "REGLA N° 15\n",
            "Regla      : {'Slippery (feat. Gucci Mane)'} => {'goosebumps'}\n",
            "Soporte    : 1.25\n",
            "Confianza  : 52.96610169491526\n",
            "Lift:      : 17.196786264582876\n",
            "____________________________________________\n",
            "REGLA N° 16\n",
            "Regla      : {'Slippery (feat. Gucci Mane)'} => {'XO TOUR Llif3'}\n",
            "Soporte    : 1.32\n",
            "Confianza  : 55.93220338983051\n",
            "Lift:      : 17.316471637718422\n",
            "____________________________________________\n",
            "REGLA N° 17\n",
            "Regla      : {'XO TOUR Llif3'} => {'Mask Off'}\n",
            "Soporte    : 1.63\n",
            "Confianza  : 50.46439628482972\n",
            "Lift:      : 15.969745659756237\n",
            "____________________________________________\n",
            "REGLA N° 18\n",
            "Regla      : {'Mask Off'} => {'XO TOUR Llif3'}\n",
            "Soporte    : 1.63\n",
            "Confianza  : 51.582278481012644\n",
            "Lift:      : 15.969745659756237\n",
            "____________________________________________\n",
            "REGLA N° 19\n",
            "Regla      : {'Slippery (feat. Gucci Mane)'} => {'Mask Off'}\n",
            "Soporte    : 1.26\n",
            "Confianza  : 53.38983050847458\n",
            "Lift:      : 16.895515983694484\n",
            "____________________________________________\n",
            "REGLA N° 20\n",
            "Regla      : {'XO TOUR Llif3'} => {'HUMBLE.'}\n",
            "Soporte    : 2.04\n",
            "Confianza  : 63.1578947368421\n",
            "Lift:      : 13.582342954159593\n",
            "____________________________________________\n",
            "REGLA N° 21\n",
            "Regla      : {'Slippery (feat. Gucci Mane)'} => {'HUMBLE.'}\n",
            "Soporte    : 1.48\n",
            "Confianza  : 62.71186440677966\n",
            "Lift:      : 13.486422453070897\n",
            "____________________________________________\n",
            "REGLA N° 22\n",
            "Regla      : {'Slippery (feat. Gucci Mane)'} => {'Congratulations'}\n",
            "Soporte    : 1.32\n",
            "Confianza  : 55.93220338983051\n",
            "Lift:      : 13.87895865752618\n",
            "____________________________________________\n",
            "REGLA N° 23\n",
            "Regla      : {'Butterfly Effect'} => {'HUMBLE.'}\n",
            "Soporte    : 1.01\n",
            "Confianza  : 52.061855670103085\n",
            "Lift:      : 11.196097993570557\n",
            "____________________________________________\n",
            "REGLA N° 24\n",
            "Regla      : {'rockstar'} => {'HUMBLE.'}\n",
            "Soporte    : 1.17\n",
            "Confianza  : 50.43103448275863\n",
            "Lift:      : 10.845383759733037\n",
            "____________________________________________\n",
            "REGLA N° 25\n",
            "Regla      : {'goosebumps'} => {'HUMBLE.'}\n",
            "Soporte    : 1.67\n",
            "Confianza  : 54.220779220779214\n",
            "Lift:      : 11.660382628124562\n",
            "____________________________________________\n",
            "REGLA N° 26\n",
            "Regla      : {'Drowning (feat. Kodak Black)'} => {'HUMBLE.'}\n",
            "Soporte    : 1.17\n",
            "Confianza  : 60.62176165803108\n",
            "Lift:      : 13.036937990974428\n",
            "____________________________________________\n",
            "REGLA N° 27\n",
            "Regla      : {'Drowning (feat. Kodak Black)'} => {'Congratulations'}\n",
            "Soporte    : 1.05\n",
            "Confianza  : 54.40414507772021\n",
            "Lift:      : 13.499787860476477\n",
            "____________________________________________\n",
            "REGLA N° 28\n",
            "Regla      : {'What Do You Mean?'} => {'Sorry'}\n",
            "Soporte    : 1.28\n",
            "Confianza  : 59.25925925925925\n",
            "Lift:      : 18.634987188446306\n",
            "____________________________________________\n",
            "REGLA N° 29\n",
            "Regla      : {'No Heart'} => {'X (feat. Future)'}\n",
            "Soporte    : 1.03\n",
            "Confianza  : 69.5945945945946\n",
            "Lift:      : 34.11499735029147\n",
            "____________________________________________\n",
            "REGLA N° 30\n",
            "Regla      : {'X (feat. Future)'} => {'No Heart'}\n",
            "Soporte    : 1.03\n",
            "Confianza  : 50.49019607843137\n",
            "Lift:      : 34.11499735029147\n",
            "____________________________________________\n",
            "REGLA N° 31\n",
            "Regla      : {'goosebumps'} => {'Congratulations'}\n",
            "Soporte    : 1.55\n",
            "Confianza  : 50.324675324675326\n",
            "Lift:      : 12.487512487512488\n",
            "____________________________________________\n",
            "REGLA N° 32\n",
            "Regla      : {'XO TOUR Llif3'} => {'Congratulations'}\n",
            "Soporte    : 1.79\n",
            "Confianza  : 55.417956656346746\n",
            "Lift:      : 13.751354009019042\n",
            "____________________________________________\n",
            "REGLA N° 33\n",
            "Regla      : {'Magnolia'} => {'Bank Account'}\n",
            "Soporte    : 1.13\n",
            "Confianza  : 57.07070707070706\n",
            "Lift:      : 24.81335090030742\n",
            "____________________________________________\n",
            "REGLA N° 34\n",
            "Regla      : {'iSpy (feat. Lil Yachty)', 'HUMBLE.'} => {'Congratulations'}\n",
            "Soporte    : 1.09\n",
            "Confianza  : 70.3225806451613\n",
            "Lift:      : 17.44977187224846\n",
            "____________________________________________\n",
            "REGLA N° 35\n",
            "Regla      : {'iSpy (feat. Lil Yachty)', 'Congratulations'} => {'HUMBLE.'}\n",
            "Soporte    : 1.09\n",
            "Confianza  : 67.28395061728395\n",
            "Lift:      : 14.469666799415904\n",
            "____________________________________________\n",
            "REGLA N° 36\n",
            "Regla      : {'HUMBLE.', 'Congratulations'} => {'iSpy (feat. Lil Yachty)'}\n",
            "Soporte    : 1.09\n",
            "Confianza  : 50.93457943925234\n",
            "Lift:      : 15.388090465030919\n",
            "____________________________________________\n",
            "REGLA N° 37\n",
            "Regla      : {'iSpy (feat. Lil Yachty)', 'HUMBLE.'} => {'Mask Off'}\n",
            "Soporte    : 1.01\n",
            "Confianza  : 65.16129032258064\n",
            "Lift:      : 20.620661494487543\n",
            "____________________________________________\n",
            "REGLA N° 38\n",
            "Regla      : {'iSpy (feat. Lil Yachty)', 'Mask Off'} => {'HUMBLE.'}\n",
            "Soporte    : 1.01\n",
            "Confianza  : 68.70748299319727\n",
            "Lift:      : 14.775802794235974\n",
            "____________________________________________\n",
            "REGLA N° 39\n",
            "Regla      : {'XO TOUR Llif3', 'Tunnel Vision'} => {'HUMBLE.'}\n",
            "Soporte    : 1.02\n",
            "Confianza  : 75.00000000000001\n",
            "Lift:      : 16.12903225806452\n",
            "____________________________________________\n",
            "REGLA N° 40\n",
            "Regla      : {'XO TOUR Llif3', 'HUMBLE.'} => {'Tunnel Vision'}\n",
            "Soporte    : 1.02\n",
            "Confianza  : 50.0\n",
            "Lift:      : 20.242914979757085\n",
            "____________________________________________\n",
            "REGLA N° 41\n",
            "Regla      : {'Tunnel Vision', 'HUMBLE.'} => {'XO TOUR Llif3'}\n",
            "Soporte    : 1.02\n",
            "Confianza  : 73.38129496402878\n",
            "Lift:      : 22.71866717152594\n",
            "____________________________________________\n",
            "REGLA N° 42\n",
            "Regla      : {'XO TOUR Llif3', 'HUMBLE.'} => {'DNA.'}\n",
            "Soporte    : 1.02\n",
            "Confianza  : 50.0\n",
            "Lift:      : 21.645021645021647\n",
            "____________________________________________\n",
            "REGLA N° 43\n",
            "Regla      : {'XO TOUR Llif3', 'DNA.'} => {'HUMBLE.'}\n",
            "Soporte    : 1.02\n",
            "Confianza  : 86.4406779661017\n",
            "Lift:      : 18.589393110989615\n",
            "____________________________________________\n",
            "REGLA N° 44\n",
            "Regla      : {'HUMBLE.', 'DNA.'} => {'XO TOUR Llif3'}\n",
            "Soporte    : 1.02\n",
            "Confianza  : 53.68421052631579\n",
            "Lift:      : 16.62049861495845\n",
            "____________________________________________\n",
            "REGLA N° 45\n",
            "Regla      : {'goosebumps', 'XO TOUR Llif3'} => {'HUMBLE.'}\n",
            "Soporte    : 1.11\n",
            "Confianza  : 73.02631578947368\n",
            "Lift:      : 15.704584040747031\n",
            "____________________________________________\n",
            "REGLA N° 46\n",
            "Regla      : {'goosebumps', 'HUMBLE.'} => {'XO TOUR Llif3'}\n",
            "Soporte    : 1.11\n",
            "Confianza  : 66.46706586826348\n",
            "Lift:      : 20.57803896850262\n",
            "____________________________________________\n",
            "REGLA N° 47\n",
            "Regla      : {'XO TOUR Llif3', 'HUMBLE.'} => {'goosebumps'}\n",
            "Soporte    : 1.11\n",
            "Confianza  : 54.41176470588235\n",
            "Lift:      : 17.666157372039724\n",
            "____________________________________________\n",
            "REGLA N° 48\n",
            "Regla      : {'Bad and Boujee (feat. Lil Uzi Vert)', 'Broccoli (feat. Lil Yachty)'} => {'Bounce Back'}\n",
            "Soporte    : 1.0\n",
            "Confianza  : 64.51612903225806\n",
            "Lift:      : 21.72260236776366\n",
            "____________________________________________\n",
            "REGLA N° 49\n",
            "Regla      : {'Bad and Boujee (feat. Lil Uzi Vert)', 'Bounce Back'} => {'Broccoli (feat. Lil Yachty)'}\n",
            "Soporte    : 1.0\n",
            "Confianza  : 59.171597633136095\n",
            "Lift:      : 14.829974344144388\n",
            "____________________________________________\n",
            "REGLA N° 50\n",
            "Regla      : {'Broccoli (feat. Lil Yachty)', 'Bounce Back'} => {'Bad and Boujee (feat. Lil Uzi Vert)'}\n",
            "Soporte    : 1.0\n",
            "Confianza  : 77.51937984496125\n",
            "Lift:      : 22.469385462307603\n",
            "____________________________________________\n",
            "REGLA N° 51\n",
            "Regla      : {'Bad and Boujee (feat. Lil Uzi Vert)', 'HUMBLE.'} => {'Congratulations'}\n",
            "Soporte    : 1.01\n",
            "Confianza  : 60.47904191616767\n",
            "Lift:      : 15.007206430810834\n",
            "____________________________________________\n",
            "REGLA N° 52\n",
            "Regla      : {'Bad and Boujee (feat. Lil Uzi Vert)', 'Congratulations'} => {'HUMBLE.'}\n",
            "Soporte    : 1.01\n",
            "Confianza  : 67.78523489932886\n",
            "Lift:      : 14.57746987082341\n",
            "____________________________________________\n",
            "REGLA N° 53\n",
            "Regla      : {'Bad and Boujee (feat. Lil Uzi Vert)', 'HUMBLE.'} => {'Mask Off'}\n",
            "Soporte    : 1.0999999999999999\n",
            "Confianza  : 65.86826347305389\n",
            "Lift:      : 20.84438717501705\n",
            "____________________________________________\n",
            "REGLA N° 54\n",
            "Regla      : {'Bad and Boujee (feat. Lil Uzi Vert)', 'Mask Off'} => {'HUMBLE.'}\n",
            "Soporte    : 1.0999999999999999\n",
            "Confianza  : 72.84768211920529\n",
            "Lift:      : 15.666168197678557\n",
            "____________________________________________\n",
            "REGLA N° 55\n",
            "Regla      : {'HUMBLE.', 'Mask Off'} => {'Bad and Boujee (feat. Lil Uzi Vert)'}\n",
            "Soporte    : 1.0999999999999999\n",
            "Confianza  : 53.92156862745098\n",
            "Lift:      : 15.629440181869846\n",
            "____________________________________________\n",
            "REGLA N° 56\n",
            "Regla      : {'HUMBLE.', 'Congratulations'} => {'Mask Off'}\n",
            "Soporte    : 1.21\n",
            "Confianza  : 56.54205607476636\n",
            "Lift:      : 17.89305571986277\n",
            "____________________________________________\n",
            "REGLA N° 57\n",
            "Regla      : {'HUMBLE.', 'Mask Off'} => {'Congratulations'}\n",
            "Soporte    : 1.21\n",
            "Confianza  : 59.31372549019607\n",
            "Lift:      : 14.718046027343938\n",
            "____________________________________________\n",
            "REGLA N° 58\n",
            "Regla      : {'Congratulations', 'Mask Off'} => {'HUMBLE.'}\n",
            "Soporte    : 1.21\n",
            "Confianza  : 74.69135802469135\n",
            "Lift:      : 16.062657639718573\n",
            "____________________________________________\n",
            "REGLA N° 59\n",
            "Regla      : {'HUMBLE.', 'Bounce Back'} => {'Mask Off'}\n",
            "Soporte    : 1.01\n",
            "Confianza  : 64.74358974358975\n",
            "Lift:      : 20.488477766958777\n",
            "____________________________________________\n",
            "REGLA N° 60\n",
            "Regla      : {'Bounce Back', 'Mask Off'} => {'HUMBLE.'}\n",
            "Soporte    : 1.01\n",
            "Confianza  : 74.26470588235294\n",
            "Lift:      : 15.97090449082859\n",
            "____________________________________________\n",
            "REGLA N° 61\n",
            "Regla      : {'XO TOUR Llif3', 'HUMBLE.'} => {'Congratulations'}\n",
            "Soporte    : 1.28\n",
            "Confianza  : 62.745098039215684\n",
            "Lift:      : 15.56950323553739\n",
            "____________________________________________\n",
            "REGLA N° 62\n",
            "Regla      : {'XO TOUR Llif3', 'Congratulations'} => {'HUMBLE.'}\n",
            "Soporte    : 1.28\n",
            "Confianza  : 71.50837988826815\n",
            "Lift:      : 15.378146212530789\n",
            "____________________________________________\n",
            "REGLA N° 63\n",
            "Regla      : {'HUMBLE.', 'Congratulations'} => {'XO TOUR Llif3'}\n",
            "Soporte    : 1.28\n",
            "Confianza  : 59.81308411214954\n",
            "Lift:      : 18.517982697259917\n",
            "____________________________________________\n",
            "REGLA N° 64\n",
            "Regla      : {'XO TOUR Llif3', 'Congratulations'} => {'Mask Off'}\n",
            "Soporte    : 1.0699999999999998\n",
            "Confianza  : 59.77653631284916\n",
            "Lift:      : 18.916625415458594\n",
            "____________________________________________\n",
            "REGLA N° 65\n",
            "Regla      : {'XO TOUR Llif3', 'Mask Off'} => {'Congratulations'}\n",
            "Soporte    : 1.0699999999999998\n",
            "Confianza  : 65.6441717791411\n",
            "Lift:      : 16.28887637199531\n",
            "____________________________________________\n",
            "REGLA N° 66\n",
            "Regla      : {'Congratulations', 'Mask Off'} => {'XO TOUR Llif3'}\n",
            "Soporte    : 1.0699999999999998\n",
            "Confianza  : 66.0493827160494\n",
            "Lift:      : 20.448725299086494\n",
            "____________________________________________\n",
            "REGLA N° 67\n",
            "Regla      : {'XO TOUR Llif3', 'HUMBLE.'} => {'Mask Off'}\n",
            "Soporte    : 1.31\n",
            "Confianza  : 64.21568627450979\n",
            "Lift:      : 20.32141970712335\n",
            "____________________________________________\n",
            "REGLA N° 68\n",
            "Regla      : {'XO TOUR Llif3', 'Mask Off'} => {'HUMBLE.'}\n",
            "Soporte    : 1.31\n",
            "Confianza  : 80.36809815950922\n",
            "Lift:      : 17.283461969786927\n",
            "____________________________________________\n",
            "REGLA N° 69\n",
            "Regla      : {'HUMBLE.', 'Mask Off'} => {'XO TOUR Llif3'}\n",
            "Soporte    : 1.31\n",
            "Confianza  : 64.21568627450979\n",
            "Lift:      : 19.881017422448853\n",
            "____________________________________________\n",
            "REGLA N° 70\n",
            "Regla      : {'goosebumps', 'XO TOUR Llif3'} => {'Mask Off'}\n",
            "Soporte    : 1.01\n",
            "Confianza  : 66.44736842105263\n",
            "Lift:      : 21.027648234510323\n",
            "____________________________________________\n",
            "REGLA N° 71\n",
            "Regla      : {'goosebumps', 'Mask Off'} => {'XO TOUR Llif3'}\n",
            "Soporte    : 1.01\n",
            "Confianza  : 68.24324324324323\n",
            "Lift:      : 21.12793908459543\n",
            "____________________________________________\n",
            "REGLA N° 72\n",
            "Regla      : {'XO TOUR Llif3', 'Mask Off'} => {'goosebumps'}\n",
            "Soporte    : 1.01\n",
            "Confianza  : 61.96319018404909\n",
            "Lift:      : 20.11791889092503\n",
            "____________________________________________\n",
            "REGLA N° 73\n",
            "Regla      : {'goosebumps', 'HUMBLE.'} => {'Mask Off'}\n",
            "Soporte    : 1.0999999999999999\n",
            "Confianza  : 65.86826347305389\n",
            "Lift:      : 20.84438717501705\n",
            "____________________________________________\n",
            "REGLA N° 74\n",
            "Regla      : {'goosebumps', 'Mask Off'} => {'HUMBLE.'}\n",
            "Soporte    : 1.0999999999999999\n",
            "Confianza  : 74.32432432432432\n",
            "Lift:      : 15.983725661145014\n",
            "____________________________________________\n",
            "REGLA N° 75\n",
            "Regla      : {'HUMBLE.', 'Mask Off'} => {'goosebumps'}\n",
            "Soporte    : 1.0999999999999999\n",
            "Confianza  : 53.92156862745098\n",
            "Lift:      : 17.507002801120446\n",
            "____________________________________________\n",
            "REGLA N° 76\n",
            "Regla      : {'Slippery (feat. Gucci Mane)', 'XO TOUR Llif3'} => {'HUMBLE.'}\n",
            "Soporte    : 1.01\n",
            "Confianza  : 76.51515151515152\n",
            "Lift:      : 16.454871293580972\n",
            "____________________________________________\n",
            "REGLA N° 77\n",
            "Regla      : {'Slippery (feat. Gucci Mane)', 'HUMBLE.'} => {'XO TOUR Llif3'}\n",
            "Soporte    : 1.01\n",
            "Confianza  : 68.24324324324323\n",
            "Lift:      : 21.12793908459543\n",
            "____________________________________________\n",
            "REGLA N° 78\n",
            "Regla      : {'goosebumps', 'HUMBLE.'} => {'Congratulations'}\n",
            "Soporte    : 1.1199999999999999\n",
            "Confianza  : 67.06586826347305\n",
            "Lift:      : 16.64165465594865\n",
            "____________________________________________\n",
            "REGLA N° 79\n",
            "Regla      : {'goosebumps', 'Congratulations'} => {'HUMBLE.'}\n",
            "Soporte    : 1.1199999999999999\n",
            "Confianza  : 72.25806451612902\n",
            "Lift:      : 15.539368713146027\n",
            "____________________________________________\n",
            "REGLA N° 80\n",
            "Regla      : {'HUMBLE.', 'Congratulations'} => {'goosebumps'}\n",
            "Soporte    : 1.1199999999999999\n",
            "Confianza  : 52.33644859813084\n",
            "Lift:      : 16.99235344095157\n",
            "____________________________________________\n",
            "REGLA N° 81\n",
            "Regla      : {'goosebumps', 'XO TOUR Llif3'} => {'Congratulations'}\n",
            "Soporte    : 1.04\n",
            "Confianza  : 68.42105263157895\n",
            "Lift:      : 16.97792869269949\n",
            "____________________________________________\n",
            "REGLA N° 82\n",
            "Regla      : {'goosebumps', 'Congratulations'} => {'XO TOUR Llif3'}\n",
            "Soporte    : 1.04\n",
            "Confianza  : 67.09677419354838\n",
            "Lift:      : 20.772995106361726\n",
            "____________________________________________\n",
            "REGLA N° 83\n",
            "Regla      : {'XO TOUR Llif3', 'Congratulations'} => {'goosebumps'}\n",
            "Soporte    : 1.04\n",
            "Confianza  : 58.10055865921788\n",
            "Lift:      : 18.86381774649931\n",
            "____________________________________________\n"
          ]
        }
      ]
    },
    {
      "cell_type": "markdown",
      "metadata": {
        "id": "YIauRdrA5QmF"
      },
      "source": [
        "#### **6.3. Top 10 reglas por lift**\n",
        "Se filtro las reglas por los conjuntos que tengan un mayor lift por que un valor de lift > 1 indica que ese conjunto aparece una cantidad de veces superior a lo esperado bajo condiciones de independencia (por lo que se puede intuir que existe una relación que hace que los productos se encuentren en el conjunto más veces de lo normal)."
      ]
    },
    {
      "cell_type": "code",
      "metadata": {
        "colab": {
          "base_uri": "https://localhost:8080/"
        },
        "id": "oguAanqS0ctI",
        "outputId": "b186b616-285e-49a5-ca22-3383b5e6eccc"
      },
      "source": [
        "# OBTENEMOS LAS 10 MEJORES REGLAS POR LIFT\n",
        "rules_order_lift=sorted(association_rules,key= lambda i : i[4],reverse=True )\n",
        "top_10=rules_order_lift[:10]\n",
        "print_reglas(top_10)"
      ],
      "execution_count": 36,
      "outputs": [
        {
          "output_type": "stream",
          "name": "stdout",
          "text": [
            "REGLA N° 1\n",
            "Regla      : {'No Heart'} => {'X (feat. Future)'}\n",
            "Soporte    : 1.03\n",
            "Confianza  : 69.5945945945946\n",
            "Lift:      : 34.11499735029147\n",
            "____________________________________________\n",
            "REGLA N° 2\n",
            "Regla      : {'X (feat. Future)'} => {'No Heart'}\n",
            "Soporte    : 1.03\n",
            "Confianza  : 50.49019607843137\n",
            "Lift:      : 34.11499735029147\n",
            "____________________________________________\n",
            "REGLA N° 3\n",
            "Regla      : {'Chicken Fried'} => {'Knee Deep (feat. Jimmy Buffett)'}\n",
            "Soporte    : 1.0699999999999998\n",
            "Confianza  : 50.0\n",
            "Lift:      : 31.84713375796179\n",
            "____________________________________________\n",
            "REGLA N° 4\n",
            "Regla      : {'Knee Deep (feat. Jimmy Buffett)'} => {'Chicken Fried'}\n",
            "Soporte    : 1.0699999999999998\n",
            "Confianza  : 68.15286624203823\n",
            "Lift:      : 31.84713375796179\n",
            "____________________________________________\n",
            "REGLA N° 5\n",
            "Regla      : {'Money Longer'} => {'You Was Right'}\n",
            "Soporte    : 1.17\n",
            "Confianza  : 60.30927835051546\n",
            "Lift:      : 31.087256881709003\n",
            "____________________________________________\n",
            "REGLA N° 6\n",
            "Regla      : {'You Was Right'} => {'Money Longer'}\n",
            "Soporte    : 1.17\n",
            "Confianza  : 60.30927835051546\n",
            "Lift:      : 31.087256881709003\n",
            "____________________________________________\n",
            "REGLA N° 7\n",
            "Regla      : {'Butterfly Effect'} => {'Bank Account'}\n",
            "Soporte    : 1.11\n",
            "Confianza  : 57.21649484536082\n",
            "Lift:      : 24.876736889287315\n",
            "____________________________________________\n",
            "REGLA N° 8\n",
            "Regla      : {'Magnolia'} => {'Bank Account'}\n",
            "Soporte    : 1.13\n",
            "Confianza  : 57.07070707070706\n",
            "Lift:      : 24.81335090030742\n",
            "____________________________________________\n",
            "REGLA N° 9\n",
            "Regla      : {'Tunnel Vision', 'HUMBLE.'} => {'XO TOUR Llif3'}\n",
            "Soporte    : 1.02\n",
            "Confianza  : 73.38129496402878\n",
            "Lift:      : 22.71866717152594\n",
            "____________________________________________\n",
            "REGLA N° 10\n",
            "Regla      : {'Broccoli (feat. Lil Yachty)', 'Bounce Back'} => {'Bad and Boujee (feat. Lil Uzi Vert)'}\n",
            "Soporte    : 1.0\n",
            "Confianza  : 77.51937984496125\n",
            "Lift:      : 22.469385462307603\n",
            "____________________________________________\n"
          ]
        }
      ]
    },
    {
      "cell_type": "markdown",
      "metadata": {
        "id": "wWI26fAa6qpU"
      },
      "source": [
        "#### **6.4. Explicacion**"
      ]
    },
    {
      "cell_type": "markdown",
      "metadata": {
        "id": "SbojHGzI-UzE"
      },
      "source": [
        "\n",
        "\n",
        "---\n",
        "\n",
        "\n",
        "**Regla 1 : 'X (feat. Future)' => 'No Heart'**\n",
        "\n",
        "Ambas canciones tienen : \n",
        "\n",
        "*   Mismo **artista** : 21 Savage, Metro Boomin\n",
        "*   Mismo **álbum** : Savage Mode\n",
        "*   Mismo **Género**: Hip-hop/rap"
      ]
    },
    {
      "cell_type": "code",
      "metadata": {
        "colab": {
          "base_uri": "https://localhost:8080/"
        },
        "id": "BhrbFVR864kv",
        "outputId": "1c40f45c-3ea6-4877-e35d-472099ca92b4"
      },
      "source": [
        "regla_1=top_10[1]\n",
        "Total_playlists=len(playlist)\n",
        "print_reglas_detalle(regla_1,Total_playlists,1)"
      ],
      "execution_count": 48,
      "outputs": [
        {
          "output_type": "stream",
          "name": "stdout",
          "text": [
            "______________________________________________________________\n",
            "REGLA N° 1\n",
            "Regla    : {'X (feat. Future)'} => {'No Heart'}\n",
            "Veces que aparece la combinación:  103.0\n",
            "Soporte (% apariciones):  1.03\n",
            "Confianza (de 100 veces que se escucha A, la cancion B se escucha):  50.49019607843137\n",
            "Sustento (mayor a 1 -> no es casualidad):  34.11499735029147\n",
            "______________________________________________________________\n"
          ]
        }
      ]
    },
    {
      "cell_type": "markdown",
      "metadata": {
        "id": "wwj8Bw3U_Vfq"
      },
      "source": [
        "\n",
        "\n",
        "---\n",
        "\n",
        "\n",
        "**Regla 2 :  'Chicken Fried' => 'Knee Deep (feat. Jimmy Buffett)'**\n",
        "\n",
        "Ambas canciones tienen : \n",
        "\n",
        "*   Mismo **artista** : Zac Brown Band\n",
        "*   Mismo **Género**: Country"
      ]
    },
    {
      "cell_type": "code",
      "metadata": {
        "colab": {
          "base_uri": "https://localhost:8080/"
        },
        "id": "EQfUnrBH_bAs",
        "outputId": "d42a9c9c-8444-47f5-94d5-6241fb63392a"
      },
      "source": [
        "regla_1=top_10[2]\n",
        "Total_playlists=len(playlist)\n",
        "print_reglas_detalle(regla_1,Total_playlists,2)"
      ],
      "execution_count": 47,
      "outputs": [
        {
          "output_type": "stream",
          "name": "stdout",
          "text": [
            "______________________________________________________________\n",
            "REGLA N° 2\n",
            "Regla    : {'Chicken Fried'} => {'Knee Deep (feat. Jimmy Buffett)'}\n",
            "Veces que aparece la combinación:  107.0\n",
            "Soporte (% apariciones):  1.0699999999999998\n",
            "Confianza (de 100 veces que se escucha A, la cancion B se escucha):  50.0\n",
            "Sustento (mayor a 1 -> no es casualidad):  31.84713375796179\n",
            "______________________________________________________________\n"
          ]
        }
      ]
    },
    {
      "cell_type": "markdown",
      "metadata": {
        "id": "G8Hv17pXBALj"
      },
      "source": [
        "\n",
        "\n",
        "---\n",
        "\n",
        "**Regla 3 :  'You Was Right' => 'Money Longer'**\n",
        "\n",
        "Ambas canciones tienen : \n",
        "\n",
        "*   Mismo **artista** : Lil Uzi Vert\n",
        "*   Mismo **álbum** : Lil Uzi Vert vs. the World\n",
        "*   Mismo **Género**: Hip-hop/rap\n",
        "*   Fecha de **lanzamiento**: 2016"
      ]
    },
    {
      "cell_type": "code",
      "metadata": {
        "colab": {
          "base_uri": "https://localhost:8080/"
        },
        "id": "K4-GIfGGBDPY",
        "outputId": "8e299ea0-8445-426a-8512-94b9e2622389"
      },
      "source": [
        "regla_1=top_10[5]\n",
        "Total_playlists=len(playlist)\n",
        "print_reglas_detalle(regla_1,Total_playlists,3)"
      ],
      "execution_count": 46,
      "outputs": [
        {
          "output_type": "stream",
          "name": "stdout",
          "text": [
            "______________________________________________________________\n",
            "REGLA N° 3\n",
            "Regla    : {'You Was Right'} => {'Money Longer'}\n",
            "Veces que aparece la combinación:  117.0\n",
            "Soporte (% apariciones):  1.17\n",
            "Confianza (de 100 veces que se escucha A, la cancion B se escucha):  60.30927835051546\n",
            "Sustento (mayor a 1 -> no es casualidad):  31.087256881709003\n",
            "______________________________________________________________\n"
          ]
        }
      ]
    },
    {
      "cell_type": "markdown",
      "metadata": {
        "id": "w_t88_FxBr9V"
      },
      "source": [
        "\n",
        "\n",
        "---\n",
        "**Regla 4 :  'Butterfly Effect' => 'Bank Account'**\n",
        "\n",
        "Las canciones son de distintos artistas\n",
        "\n",
        "Ambas canciones tienen : \n",
        "\n",
        "*   Mismo **Género**: Hip-hop\n",
        "*   Fecha de **lanzamiento**: 2017\n",
        "\n"
      ]
    },
    {
      "cell_type": "code",
      "metadata": {
        "colab": {
          "base_uri": "https://localhost:8080/"
        },
        "id": "Iuy8FU9xBlgX",
        "outputId": "d29755a1-49d0-4abc-857d-23fa5ed42924"
      },
      "source": [
        "regla_1=top_10[6]\n",
        "Total_playlists=len(playlist)\n",
        "print_reglas_detalle(regla_1,Total_playlists,4)"
      ],
      "execution_count": 45,
      "outputs": [
        {
          "output_type": "stream",
          "name": "stdout",
          "text": [
            "______________________________________________________________\n",
            "REGLA N° 4\n",
            "Regla    : {'Butterfly Effect'} => {'Bank Account'}\n",
            "Veces que aparece la combinación:  111.0\n",
            "Soporte (% apariciones):  1.11\n",
            "Confianza (de 100 veces que se escucha A, la cancion B se escucha):  57.21649484536082\n",
            "Sustento (mayor a 1 -> no es casualidad):  24.876736889287315\n",
            "______________________________________________________________\n"
          ]
        }
      ]
    }
  ]
}